{
 "cells": [
  {
   "cell_type": "code",
   "execution_count": 1,
   "id": "0baea3c4",
   "metadata": {},
   "outputs": [],
   "source": [
    "import pandas as pd\n",
    "import numpy as np\n",
    "import findspark\n",
    "findspark.init('C:\\spark\\spark-3.1.2-bin-hadoop3.2')\n",
    "import pyspark\n",
    "\n",
    "from pyspark.sql import SparkSession\n",
    "from pyspark.context import SparkContext\n",
    "from pyspark import SparkConf\n",
    "from pyspark.sql.functions import *\n",
    "sc = SparkContext.getOrCreate()\n",
    "spark = SparkSession(sc)"
   ]
  },
  {
   "cell_type": "code",
   "execution_count": 2,
   "id": "ce490fca",
   "metadata": {},
   "outputs": [
    {
     "name": "stdout",
     "output_type": "stream",
     "text": [
      "+-----------+------+-------+----------+------------+\n",
      "|customer_id|  name|address|   website|credit_limit|\n",
      "+-----------+------+-------+----------+------------+\n",
      "|          1|  Mike|    Usa|  Mike.com|       77144|\n",
      "|          2|  John|    Usa|  John.com|       39943|\n",
      "|          3|  Bray|    Usa|  Bray.com|       64925|\n",
      "|          4|Dwayne|    Usa|Dwayne.com|       65935|\n",
      "|          5| Scott|    Usa| Scott.com|       54935|\n",
      "+-----------+------+-------+----------+------------+\n",
      "\n"
     ]
    }
   ],
   "source": [
    "customer = spark.read.option(\"inferschema\",\"true\").option(\"header\",\"true\").csv(\"customers.csv\")\n",
    "customer.show()"
   ]
  },
  {
   "cell_type": "code",
   "execution_count": 13,
   "id": "b4379099",
   "metadata": {},
   "outputs": [
    {
     "name": "stdout",
     "output_type": "stream",
     "text": [
      "+-----------+----+----+----+----+----+\n",
      "|customer_id|   1|   2|   3|   4|   5|\n",
      "+-----------+----+----+----+----+----+\n",
      "|          1|   1|null|null|null|null|\n",
      "|          3|null|null|   1|null|null|\n",
      "|          5|null|null|null|null|   1|\n",
      "|          4|null|null|null|   1|null|\n",
      "|          2|null|   1|null|null|null|\n",
      "+-----------+----+----+----+----+----+\n",
      "\n"
     ]
    }
   ],
   "source": [
    "customer.groupBy(\"customer_id\").pivot(\"customer_id\").count().show()"
   ]
  },
  {
   "cell_type": "code",
   "execution_count": 7,
   "id": "6a15e662",
   "metadata": {},
   "outputs": [
    {
     "name": "stdout",
     "output_type": "stream",
     "text": [
      "+-----------+------+-------+----------+------------+\n",
      "|customer_id|  name|address|   website|credit_limit|\n",
      "+-----------+------+-------+----------+------------+\n",
      "|          1|  Mike|    Usa|  Mike.com|       77144|\n",
      "|          2|  John|    Usa|  John.com|       39943|\n",
      "|          3|  Bray|    Usa|  Bray.com|       64925|\n",
      "|          4|Dwayne|    Usa|Dwayne.com|       65935|\n",
      "|          5| Scott|    Usa| Scott.com|       54935|\n",
      "+-----------+------+-------+----------+------------+\n",
      "\n"
     ]
    }
   ],
   "source": [
    "customer.select(\"*\").show()"
   ]
  },
  {
   "cell_type": "code",
   "execution_count": 14,
   "id": "26949c2b",
   "metadata": {},
   "outputs": [
    {
     "name": "stdout",
     "output_type": "stream",
     "text": [
      "+-----------+----+-------+--------+------------+\n",
      "|customer_id|name|address| website|credit_limit|\n",
      "+-----------+----+-------+--------+------------+\n",
      "|          1|Mike|    Usa|Mike.com|       77144|\n",
      "+-----------+----+-------+--------+------------+\n",
      "\n"
     ]
    }
   ],
   "source": [
    "#Slice one dimension is defined\n",
    "slic = customer.where(col('name')=='Mike')\n",
    "slic.show()"
   ]
  },
  {
   "cell_type": "code",
   "execution_count": 25,
   "id": "c2e3c108",
   "metadata": {},
   "outputs": [
    {
     "name": "stdout",
     "output_type": "stream",
     "text": [
      "+-----------+----+-------+--------+------------+\n",
      "|customer_id|name|address| website|credit_limit|\n",
      "+-----------+----+-------+--------+------------+\n",
      "|          1|Mike|    Usa|Mike.com|       77144|\n",
      "+-----------+----+-------+--------+------------+\n",
      "\n"
     ]
    }
   ],
   "source": [
    "#Dice more than one dimension\n",
    "dic = customer.where((col('name')=='Mike')&(col('address')=='Usa'))\n",
    "dic.show()"
   ]
  },
  {
   "cell_type": "code",
   "execution_count": 26,
   "id": "48350f40",
   "metadata": {},
   "outputs": [
    {
     "name": "stdout",
     "output_type": "stream",
     "text": [
      "+-------+-----------------+\n",
      "|address|sum(credit_limit)|\n",
      "+-------+-----------------+\n",
      "|    Usa|           302882|\n",
      "+-------+-----------------+\n",
      "\n"
     ]
    }
   ],
   "source": [
    "#Rollup\n",
    "#Rolling up from country to region\n",
    "roll = customer.groupBy(\"address\").sum(\"credit_limit\")\n",
    "roll.show()"
   ]
  },
  {
   "cell_type": "code",
   "execution_count": null,
   "id": "986cb3d5",
   "metadata": {},
   "outputs": [],
   "source": [
    "#Drill down\n",
    "#opposite of rollup"
   ]
  }
 ],
 "metadata": {
  "kernelspec": {
   "display_name": "Python 3",
   "language": "python",
   "name": "python3"
  },
  "language_info": {
   "codemirror_mode": {
    "name": "ipython",
    "version": 3
   },
   "file_extension": ".py",
   "mimetype": "text/x-python",
   "name": "python",
   "nbconvert_exporter": "python",
   "pygments_lexer": "ipython3",
   "version": "3.8.8"
  }
 },
 "nbformat": 4,
 "nbformat_minor": 5
}
