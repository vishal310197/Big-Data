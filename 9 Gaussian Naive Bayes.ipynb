{
 "cells": [
  {
   "cell_type": "code",
   "execution_count": 2,
   "id": "f16c41a4",
   "metadata": {},
   "outputs": [],
   "source": [
    "import pandas as pd\n",
    "import numpy as np\n",
    "import findspark\n",
    "findspark.init('C:\\spark\\spark-3.1.2-bin-hadoop3.2')\n",
    "import pyspark\n",
    "\n",
    "from pyspark.sql import SparkSession\n",
    "from pyspark.context import SparkContext\n",
    "from pyspark import SparkConf\n",
    "from pyspark.sql.functions import *\n",
    "sc = SparkContext.getOrCreate()\n",
    "spark = SparkSession(sc)"
   ]
  },
  {
   "cell_type": "code",
   "execution_count": 3,
   "id": "630e8474",
   "metadata": {},
   "outputs": [],
   "source": [
    "#Gaussian Naive Bayes\n",
    "\n",
    "student = spark.read.option(\"inferschema\",\"true\").option(\"header\",\"true\").csv(\"student.csv\")"
   ]
  },
  {
   "cell_type": "code",
   "execution_count": 7,
   "id": "c16d6b7b",
   "metadata": {},
   "outputs": [
    {
     "name": "stdout",
     "output_type": "stream",
     "text": [
      "[Column<'Pass exam'>]\n"
     ]
    }
   ],
   "source": [
    "yes = student.where(col('Pass exam')==\"Yes\")\n",
    "#mean_yes = yes.agg({'achieved': 'mean'}).show()\n",
    "#variance_yes = yes.agg({'achieved': 'variance'}).show()\n",
    "\n",
    "y = yes['Pass exam']"
   ]
  },
  {
   "cell_type": "code",
   "execution_count": 18,
   "id": "583e78ac",
   "metadata": {},
   "outputs": [
    {
     "name": "stdout",
     "output_type": "stream",
     "text": [
      "+-------------+\n",
      "|avg(achieved)|\n",
      "+-------------+\n",
      "|         29.8|\n",
      "+-------------+\n",
      "\n",
      "+------------------+\n",
      "|variance(achieved)|\n",
      "+------------------+\n",
      "|131.70000000000002|\n",
      "+------------------+\n",
      "\n"
     ]
    }
   ],
   "source": [
    "no = student.where(col('Pass exam')==\"No\")\n",
    "mean_no = no.agg({'achieved': 'mean'}).show()\n",
    "variance_no = no.agg({'achieved': 'variance'}).show()"
   ]
  },
  {
   "cell_type": "code",
   "execution_count": 9,
   "id": "2eeba1de",
   "metadata": {},
   "outputs": [
    {
     "name": "stdout",
     "output_type": "stream",
     "text": [
      "0.5454545454545454\n",
      "0.45454545454545453\n"
     ]
    }
   ],
   "source": [
    "total = student.count()\n",
    "p_yes = (yes.count())/total\n",
    "p_no = (no.count())/total\n",
    "print(p_yes)\n",
    "print(p_no)"
   ]
  },
  {
   "cell_type": "code",
   "execution_count": 20,
   "id": "81081fb9",
   "metadata": {},
   "outputs": [
    {
     "name": "stdout",
     "output_type": "stream",
     "text": [
      "0.015866793996967672\n"
     ]
    }
   ],
   "source": [
    "#P(61|yes) \n",
    "import math\n",
    "\n",
    "left0 = (2 * math.pi * 267.76666666666665)\n",
    "left1 = math.sqrt(left0)\n",
    "left2 = 1/left1\n",
    "right0 = (61 - 76.16666666666667 )\n",
    "right1 = right0**2\n",
    "right2 = 2 * 267.76666666666665\n",
    "right3 = -right1/right2\n",
    "right4 = math.exp(right3)\n",
    "result_yes = left2 * right4\n",
    "print(result_yes)\n"
   ]
  },
  {
   "cell_type": "code",
   "execution_count": 2,
   "id": "9592f29f",
   "metadata": {},
   "outputs": [
    {
     "name": "stdout",
     "output_type": "stream",
     "text": [
      "0.0\n"
     ]
    }
   ],
   "source": [
    "#P(61|no)\n",
    "import math\n",
    "left0 = (2 * math.pi * 36295.24)\n",
    "left1 = math.sqrt(left0)\n",
    "left2 = 1/left1\n",
    "right0 = (71000-82300 )\n",
    "right1 = right0**2\n",
    "right2 = 2 * 36295.24\n",
    "right3 = -right1/right2\n",
    "right4 = math.exp(right3)\n",
    "result_no = left2 * right4\n",
    "print(result_no)"
   ]
  },
  {
   "cell_type": "code",
   "execution_count": null,
   "id": "4b62ffa1",
   "metadata": {},
   "outputs": [],
   "source": []
  }
 ],
 "metadata": {
  "kernelspec": {
   "display_name": "Python 3",
   "language": "python",
   "name": "python3"
  },
  "language_info": {
   "codemirror_mode": {
    "name": "ipython",
    "version": 3
   },
   "file_extension": ".py",
   "mimetype": "text/x-python",
   "name": "python",
   "nbconvert_exporter": "python",
   "pygments_lexer": "ipython3",
   "version": "3.8.8"
  }
 },
 "nbformat": 4,
 "nbformat_minor": 5
}
