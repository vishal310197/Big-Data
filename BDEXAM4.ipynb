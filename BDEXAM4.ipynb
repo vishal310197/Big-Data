{
 "cells": [
  {
   "cell_type": "code",
   "execution_count": 28,
   "metadata": {},
   "outputs": [],
   "source": [
    "import findspark\n",
    "findspark.init()\n",
    "\n",
    "import pyspark\n",
    "\n",
    "from pyspark.sql.functions import expr,col,mean,variance\n",
    "from pyspark.ml.classification import LogisticRegression\n",
    "from pyspark.ml.feature import RFormula\n",
    "import pyspark.sql.functions as f\n",
    "from pyspark.sql.functions import *\n",
    "from pyspark.sql import SparkSession\n",
    "spark = SparkSession \\\n",
    "    .builder \\\n",
    "    .appName(\"how to read csv file\") \\\n",
    "    .getOrCreate()"
   ]
  },
  {
   "cell_type": "code",
   "execution_count": 5,
   "metadata": {},
   "outputs": [
    {
     "name": "stdout",
     "output_type": "stream",
     "text": [
      "+----------+----+--------+----+----+--------+-------+--------+-------+--------+--------+--------+----+----+----+--------+-------+----+\n",
      "|AnimalName|Hair|Feathers|Eggs|Milk|Airborne|Aquatic|Predator|Toothed|Backbone|Breathes|Venomous|Fins|Legs|Tail|Domestic|Catsize|Type|\n",
      "+----------+----+--------+----+----+--------+-------+--------+-------+--------+--------+--------+----+----+----+--------+-------+----+\n",
      "|  aardvark|   1|       0|   0|   1|       0|      0|       1|      1|       1|       1|       0|   0|   4|   0|       0|      1|   1|\n",
      "|  antelope|   1|       0|   0|   1|       0|      0|       0|      1|       1|       1|       0|   0|   4|   1|       0|      1|   1|\n",
      "|      bass|   0|       0|   1|   0|       0|      1|       1|      1|       1|       0|       0|   1|   0|   1|       0|      0|   4|\n",
      "|      bear|   1|       0|   0|   1|       0|      0|       1|      1|       1|       1|       0|   0|   4|   0|       0|      1|   1|\n",
      "|      boar|   1|       0|   0|   1|       0|      0|       1|      1|       1|       1|       0|   0|   4|   1|       0|      1|   1|\n",
      "+----------+----+--------+----+----+--------+-------+--------+-------+--------+--------+--------+----+----+----+--------+-------+----+\n",
      "only showing top 5 rows\n",
      "\n"
     ]
    }
   ],
   "source": [
    "csv=(r\"C:\\Users\\chanc\\Downloads\\zoo.csv\")\n",
    "   \n",
    "from pyspark import SparkFiles\n",
    "spark.sparkContext.addFile(csv)\n",
    "zoo=spark.read.csv(SparkFiles.get(\"zoo.csv\"), header=True, inferSchema= True)\n",
    "zoo.show(5)"
   ]
  },
  {
   "cell_type": "code",
   "execution_count": 6,
   "metadata": {},
   "outputs": [
    {
     "name": "stdout",
     "output_type": "stream",
     "text": [
      "+----------+----+--------+----+----+--------+-------+--------+-------+--------+--------+--------+----+----+----+--------+-------+----+--------+\n",
      "|AnimalName|Hair|Feathers|Eggs|Milk|Airborne|Aquatic|Predator|Toothed|Backbone|Breathes|Venomous|Fins|Legs|Tail|Domestic|Catsize|Type|ismammal|\n",
      "+----------+----+--------+----+----+--------+-------+--------+-------+--------+--------+--------+----+----+----+--------+-------+----+--------+\n",
      "|  aardvark|   1|       0|   0|   1|       0|      0|       1|      1|       1|       1|       0|   0|   4|   0|       0|      1|   1|       1|\n",
      "|  antelope|   1|       0|   0|   1|       0|      0|       0|      1|       1|       1|       0|   0|   4|   1|       0|      1|   1|       1|\n",
      "|      bass|   0|       0|   1|   0|       0|      1|       1|      1|       1|       0|       0|   1|   0|   1|       0|      0|   4|       0|\n",
      "|      bear|   1|       0|   0|   1|       0|      0|       1|      1|       1|       1|       0|   0|   4|   0|       0|      1|   1|       1|\n",
      "|      boar|   1|       0|   0|   1|       0|      0|       1|      1|       1|       1|       0|   0|   4|   1|       0|      1|   1|       1|\n",
      "+----------+----+--------+----+----+--------+-------+--------+-------+--------+--------+--------+----+----+----+--------+-------+----+--------+\n",
      "only showing top 5 rows\n",
      "\n"
     ]
    }
   ],
   "source": [
    "zoo=zoo.withColumn(\"ismammal\",expr(\"CASE WHEN TYPE =1 THEN 1 ELSE 0 END\"))\n",
    "zoo.show(5)"
   ]
  },
  {
   "cell_type": "code",
   "execution_count": 11,
   "metadata": {},
   "outputs": [
    {
     "name": "stdout",
     "output_type": "stream",
     "text": [
      "+--------------------+-----+\n",
      "|            features|label|\n",
      "+--------------------+-----+\n",
      "|(16,[0,3,6,7,8,9,...|  1.0|\n",
      "|(16,[0,3,7,8,9,12...|  1.0|\n",
      "|(16,[2,5,6,7,8,11...|  0.0|\n",
      "|(16,[0,3,6,7,8,9,...|  1.0|\n",
      "|(16,[0,3,6,7,8,9,...|  1.0|\n",
      "|(16,[0,3,7,8,9,12...|  1.0|\n",
      "|(16,[0,3,7,8,9,12...|  1.0|\n",
      "|(16,[2,5,7,8,11,1...|  0.0|\n",
      "|(16,[2,5,6,7,8,11...|  0.0|\n",
      "|(16,[0,3,7,8,9,12...|  1.0|\n",
      "+--------------------+-----+\n",
      "only showing top 10 rows\n",
      "\n"
     ]
    }
   ],
   "source": [
    "preprocessed_data= RFormula(formula=\"ismammal ~ Hair + Feathers + Eggs + Milk + Airborne + Aquatic + Predator + Toothed + Backbone + Breathes + Venomous + Fins + Legs + Tail + Domestic + Catsize\")\n",
    "preprocessed_data=preprocessed_data.fit(zoo)\n",
    "preprocessed_data=preprocessed_data.transform(zoo)\n",
    "preprocessed_data.select(\"features\",\"label\").show(10)"
   ]
  },
  {
   "cell_type": "markdown",
   "metadata": {},
   "source": [
    "# splitting data into 70 % training and 30 %"
   ]
  },
  {
   "cell_type": "code",
   "execution_count": 12,
   "metadata": {},
   "outputs": [],
   "source": [
    "train, test=preprocessed_data.randomSplit([0.7,0.3])"
   ]
  },
  {
   "cell_type": "code",
   "execution_count": 13,
   "metadata": {},
   "outputs": [],
   "source": [
    "lr=LogisticRegression(labelCol=\"label\", featuresCol=\"features\")"
   ]
  },
  {
   "cell_type": "code",
   "execution_count": 14,
   "metadata": {},
   "outputs": [],
   "source": [
    "trainedLR=lr.fit(train)"
   ]
  },
  {
   "cell_type": "code",
   "execution_count": 18,
   "metadata": {},
   "outputs": [
    {
     "name": "stdout",
     "output_type": "stream",
     "text": [
      "+----------+-----+----------+\n",
      "|AnimalName|label|prediction|\n",
      "+----------+-----+----------+\n",
      "|      bass|  0.0|       0.0|\n",
      "|      boar|  1.0|       1.0|\n",
      "|   buffalo|  1.0|       1.0|\n",
      "|      carp|  0.0|       0.0|\n",
      "|      cavy|  1.0|       1.0|\n",
      "|   cheetah|  1.0|       1.0|\n",
      "|      chub|  0.0|       0.0|\n",
      "|      clam|  0.0|       0.0|\n",
      "|  crayfish|  0.0|       0.0|\n",
      "|      crow|  0.0|       0.0|\n",
      "|      deer|  1.0|       1.0|\n",
      "|   dogfish|  0.0|       0.0|\n",
      "|   dolphin|  1.0|       1.0|\n",
      "|      dove|  0.0|       0.0|\n",
      "|      duck|  0.0|       0.0|\n",
      "|  elephant|  1.0|       1.0|\n",
      "|      flea|  0.0|       0.0|\n",
      "|  fruitbat|  1.0|       1.0|\n",
      "|   giraffe|  1.0|       1.0|\n",
      "|      girl|  1.0|       1.0|\n",
      "+----------+-----+----------+\n",
      "only showing top 20 rows\n",
      "\n"
     ]
    }
   ],
   "source": [
    "result=trainedLR.transform(train)\n",
    "result.select(\"AnimalName\",\"label\",\"prediction\").show()"
   ]
  },
  {
   "cell_type": "markdown",
   "metadata": {},
   "source": []
  },
  {
   "cell_type": "code",
   "execution_count": null,
   "metadata": {},
   "outputs": [],
   "source": []
  }
 ],
 "metadata": {
  "kernelspec": {
   "display_name": "Python 3",
   "language": "python",
   "name": "python3"
  },
  "language_info": {
   "codemirror_mode": {
    "name": "ipython",
    "version": 3
   },
   "file_extension": ".py",
   "mimetype": "text/x-python",
   "name": "python",
   "nbconvert_exporter": "python",
   "pygments_lexer": "ipython3",
   "version": "3.8.8"
  }
 },
 "nbformat": 4,
 "nbformat_minor": 4
}
