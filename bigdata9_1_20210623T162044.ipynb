{
 "cells": [
  {
   "cell_type": "code",
   "execution_count": 1,
   "metadata": {},
   "outputs": [
    {
     "name": "stdout",
     "output_type": "stream",
     "text": [
      "457\n"
     ]
    }
   ],
   "source": [
    "a1 = 70\n",
    "b1 = 95\n",
    "c1 = 63\n",
    "d1 = 84\n",
    "e1 = 54\n",
    "f1 = 91\n",
    "print(a1+b1+c1+d1+e1+f1)"
   ]
  },
  {
   "cell_type": "code",
   "execution_count": 2,
   "metadata": {},
   "outputs": [
    {
     "name": "stdout",
     "output_type": "stream",
     "text": [
      "76.16666666666667\n",
      "76.17\n",
      "267.76666666666665\n",
      "267.77\n"
     ]
    }
   ],
   "source": [
    "import statistics\n",
    "\n",
    "dataset = [70, 95, 63, 84, 54, 91]\n",
    "meanValue = statistics.mean(dataset)\n",
    "output = statistics.variance(dataset, meanValue)\n",
    "print(meanValue)\n",
    "print(round(meanValue,2))\n",
    "print(output)\n",
    "print(round(output,2))"
   ]
  },
  {
   "cell_type": "code",
   "execution_count": 3,
   "metadata": {},
   "outputs": [
    {
     "name": "stdout",
     "output_type": "stream",
     "text": [
      "29.8\n",
      "29.8\n",
      "131.7\n"
     ]
    }
   ],
   "source": [
    "dataset_no = [36, 43, 15, 21, 34]\n",
    "meanValue_no = statistics.mean(dataset_no)\n",
    "output_no = statistics.variance(dataset_no, meanValue_no)\n",
    "print(meanValue_no)\n",
    "print(round(meanValue_no,2))\n",
    "print(output_no)"
   ]
  },
  {
   "cell_type": "code",
   "execution_count": 7,
   "metadata": {},
   "outputs": [
    {
     "name": "stdout",
     "output_type": "stream",
     "text": [
      "1682.4275857524538\n",
      "41.01740588765279\n",
      "0.024379893812373533\n"
     ]
    }
   ],
   "source": [
    "#P(61/yes)\n",
    "\n",
    "#root 2pie sigma\n",
    "import math\n",
    "\n",
    "pie = 2 * (math.pi) * output\n",
    "print(pie)\n",
    "pie_y = math.sqrt(pie)\n",
    "print(pie_y)\n",
    "pie_yes = 1/pie_y\n",
    "print(pie_yes)"
   ]
  },
  {
   "cell_type": "code",
   "execution_count": 12,
   "metadata": {},
   "outputs": [
    {
     "name": "stdout",
     "output_type": "stream",
     "text": [
      "-15.166666666666671\n",
      "230.0277777777779\n",
      "535.5333333333333\n",
      "0.42953027096560054\n",
      "0.6508147295093958\n"
     ]
    }
   ],
   "source": [
    "#right part exp\n",
    "\n",
    "sub = 61 - meanValue\n",
    "subs = sub**2\n",
    "print(sub)\n",
    "print(subs)\n",
    "den = 2 * output\n",
    "print(den)\n",
    "right = subs/den\n",
    "print(right)\n",
    "ex = math.exp(-right)\n",
    "print(ex)"
   ]
  },
  {
   "cell_type": "code",
   "execution_count": 20,
   "metadata": {},
   "outputs": [
    {
     "name": "stdout",
     "output_type": "stream",
     "text": [
      "0.015866793996967672\n",
      "0.0159\n"
     ]
    }
   ],
   "source": [
    "prob_yes = pie_yes * ex\n",
    "print(prob_yes)\n",
    "print(round(prob_yes,4))"
   ]
  },
  {
   "cell_type": "code",
   "execution_count": null,
   "metadata": {},
   "outputs": [],
   "source": []
  },
  {
   "cell_type": "code",
   "execution_count": null,
   "metadata": {},
   "outputs": [],
   "source": []
  },
  {
   "cell_type": "code",
   "execution_count": 15,
   "metadata": {},
   "outputs": [
    {
     "name": "stdout",
     "output_type": "stream",
     "text": [
      "827.4955049555514\n",
      "28.76622159678868\n",
      "0.034762994390324625\n"
     ]
    }
   ],
   "source": [
    "#P(61/no)\n",
    "\n",
    "#root 2pie sigma\n",
    "import math\n",
    "\n",
    "pie2 = 2 * (math.pi) * output_no\n",
    "print(pie2)\n",
    "pie_y2 = math.sqrt(pie2)\n",
    "print(pie_y2)\n",
    "pie_no = 1/pie_y2\n",
    "print(pie_no)"
   ]
  },
  {
   "cell_type": "code",
   "execution_count": 16,
   "metadata": {},
   "outputs": [
    {
     "name": "stdout",
     "output_type": "stream",
     "text": [
      "31.2\n",
      "973.4399999999999\n",
      "263.4\n",
      "3.6956719817767656\n",
      "0.024830762235225273\n"
     ]
    }
   ],
   "source": [
    "#right part exp\n",
    "\n",
    "sub2 = 61 - meanValue_no\n",
    "subs2 = sub2**2\n",
    "print(sub2)\n",
    "print(subs2)\n",
    "den2 = 2 * output_no\n",
    "print(den2)\n",
    "right2 = subs2/den2\n",
    "print(right2)\n",
    "ex2 = math.exp(-right2)\n",
    "print(ex2)"
   ]
  },
  {
   "cell_type": "code",
   "execution_count": 19,
   "metadata": {},
   "outputs": [
    {
     "name": "stdout",
     "output_type": "stream",
     "text": [
      "0.0008631916482906208\n",
      "0.0009\n"
     ]
    }
   ],
   "source": [
    "prob_no = pie_no * ex2\n",
    "print(prob_no)\n",
    "print(round(prob_no,4))"
   ]
  },
  {
   "cell_type": "code",
   "execution_count": null,
   "metadata": {},
   "outputs": [],
   "source": []
  }
 ],
 "metadata": {
  "kernelspec": {
   "display_name": "Python 3",
   "language": "python",
   "name": "python3"
  },
  "language_info": {
   "codemirror_mode": {
    "name": "ipython",
    "version": 3
   },
   "file_extension": ".py",
   "mimetype": "text/x-python",
   "name": "python",
   "nbconvert_exporter": "python",
   "pygments_lexer": "ipython3",
   "version": "3.8.5"
  }
 },
 "nbformat": 4,
 "nbformat_minor": 4
}
