{
 "cells": [
  {
   "cell_type": "code",
   "execution_count": 1,
   "id": "cedac372",
   "metadata": {},
   "outputs": [],
   "source": [
    "import pandas as pd\n",
    "import numpy as np\n",
    "import findspark\n",
    "findspark.init('C:\\spark\\spark-3.1.2-bin-hadoop3.2')\n",
    "import pyspark\n",
    "\n",
    "from pyspark.sql import SparkSession\n",
    "from pyspark.context import SparkContext\n",
    "from pyspark import SparkConf\n",
    "from pyspark.sql.functions import *\n",
    "sc = SparkContext.getOrCreate()\n",
    "spark = SparkSession(sc)"
   ]
  },
  {
   "cell_type": "code",
   "execution_count": 51,
   "id": "69b36fca",
   "metadata": {},
   "outputs": [
    {
     "name": "stdout",
     "output_type": "stream",
     "text": [
      "+----------+------------+----------------+----------+\n",
      "|Student_ID|Student_Name|         Subject|      Date|\n",
      "+----------+------------+----------------+----------+\n",
      "|         1|       James|    Data Science|2021-11-01|\n",
      "|         2|        Bing|    Data Science|2021-11-01|\n",
      "|         3|        Bond|    Data Science|2021-11-03|\n",
      "|         4|        Mike|    Data Science|2021-11-04|\n",
      "|         5|         Max|Machine Learning|2021-11-01|\n",
      "+----------+------------+----------------+----------+\n",
      "only showing top 5 rows\n",
      "\n",
      "+----------+-----+\n",
      "|Student_ID|Grade|\n",
      "+----------+-----+\n",
      "|         1|   63|\n",
      "|         2|   54|\n",
      "|         3|   77|\n",
      "|         4|   96|\n",
      "|         5|   55|\n",
      "+----------+-----+\n",
      "only showing top 5 rows\n",
      "\n"
     ]
    }
   ],
   "source": [
    "students = spark.read.option(\"inferschema\",\"true\").option(\"header\",\"true\").csv(\"stud.csv\")\n",
    "grades = spark.read.option(\"inferschema\",\"true\").option(\"header\",\"true\").csv(\"grades.csv\")\n",
    "students.show(5)\n",
    "grades.show(5)"
   ]
  },
  {
   "cell_type": "code",
   "execution_count": 46,
   "id": "0fdf0320",
   "metadata": {},
   "outputs": [],
   "source": [
    "#compute the grade of all students in Big Data Subject and Sort the resulting RDD from highest to lowest grade"
   ]
  },
  {
   "cell_type": "code",
   "execution_count": 39,
   "id": "56d1e420",
   "metadata": {},
   "outputs": [
    {
     "data": {
      "text/plain": [
       "[(2, ('Bing', 54)),\n",
       " (4, ('Mike', 96)),\n",
       " (1, ('James', 63)),\n",
       " (3, ('Bond', 77)),\n",
       " (9, ('Rose', 45))]"
      ]
     },
     "execution_count": 39,
     "metadata": {},
     "output_type": "execute_result"
    }
   ],
   "source": [
    "rdd1 = students.rdd.filter(lambda row: row[\"Subject\"] == \"Data Science\")\n",
    "rdd2 = grades.rdd\n",
    "rdd3 = rdd1.join(rdd2)\n",
    "rdd3.collect()"
   ]
  },
  {
   "cell_type": "code",
   "execution_count": 48,
   "id": "81bf1732",
   "metadata": {},
   "outputs": [
    {
     "data": {
      "text/plain": [
       "[(4, ('Mike', 96)),\n",
       " (3, ('Bond', 77)),\n",
       " (1, ('James', 63)),\n",
       " (2, ('Bing', 54)),\n",
       " (9, ('Rose', 45))]"
      ]
     },
     "execution_count": 48,
     "metadata": {},
     "output_type": "execute_result"
    }
   ],
   "source": [
    "rdd4 = rdd3.sortBy(lambda x: x[1][1],ascending= False)\n",
    "rdd4.collect()"
   ]
  },
  {
   "cell_type": "code",
   "execution_count": 49,
   "id": "1f66a55c",
   "metadata": {},
   "outputs": [
    {
     "data": {
      "text/plain": [
       "[(4, ('Mike', 96)),\n",
       " (3, ('Bond', 77)),\n",
       " (1, ('James', 63)),\n",
       " (2, ('Bing', 54)),\n",
       " (9, ('Rose', 45))]"
      ]
     },
     "execution_count": 49,
     "metadata": {},
     "output_type": "execute_result"
    }
   ],
   "source": [
    "#One Line\n",
    "students.rdd.filter(lambda row: row[\"Subject\"] == \"Data Science\").join(grades.rdd).sortBy(lambda x: x[1][1],ascending= False).collect()"
   ]
  },
  {
   "cell_type": "code",
   "execution_count": 50,
   "id": "2a4ff229",
   "metadata": {},
   "outputs": [
    {
     "data": {
      "text/plain": [
       "[('Data Science', 6), ('Machine Learning', 4)]"
      ]
     },
     "execution_count": 50,
     "metadata": {},
     "output_type": "execute_result"
    }
   ],
   "source": [
    "#Students in each subject descending order\n",
    "students.rdd.map(lambda y: (y[\"Subject\"], 1)).reduceByKey(lambda x,y: x + y).sortBy(lambda x:x[1], ascending= False).collect()"
   ]
  },
  {
   "cell_type": "code",
   "execution_count": 52,
   "id": "301bb83c",
   "metadata": {},
   "outputs": [
    {
     "data": {
      "text/plain": [
       "[('Data Science', 2), ('Machine Learning', 1)]"
      ]
     },
     "execution_count": 52,
     "metadata": {},
     "output_type": "execute_result"
    }
   ],
   "source": [
    "#Students in each subject on 2021-11-01 descending order\n",
    "students.rdd.filter(lambda row: row['Date'] == '2021-11-01').map(lambda y: (y[\"Subject\"], 1)).reduceByKey(lambda x,y: x + y).sortBy(lambda x:x[1], ascending= False).collect()"
   ]
  },
  {
   "cell_type": "code",
   "execution_count": null,
   "id": "5c105444",
   "metadata": {},
   "outputs": [],
   "source": []
  }
 ],
 "metadata": {
  "kernelspec": {
   "display_name": "Python 3",
   "language": "python",
   "name": "python3"
  },
  "language_info": {
   "codemirror_mode": {
    "name": "ipython",
    "version": 3
   },
   "file_extension": ".py",
   "mimetype": "text/x-python",
   "name": "python",
   "nbconvert_exporter": "python",
   "pygments_lexer": "ipython3",
   "version": "3.8.8"
  }
 },
 "nbformat": 4,
 "nbformat_minor": 5
}
