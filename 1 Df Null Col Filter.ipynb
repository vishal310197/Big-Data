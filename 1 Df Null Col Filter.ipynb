{
 "cells": [
  {
   "cell_type": "code",
   "execution_count": 1,
   "id": "b11c692b",
   "metadata": {},
   "outputs": [],
   "source": [
    "import pandas as pd\n",
    "import numpy as np\n",
    "import findspark\n",
    "findspark.init('C:\\spark\\spark-3.1.2-bin-hadoop3.2')\n",
    "import pyspark\n",
    "\n",
    "from pyspark.sql import SparkSession\n",
    "from pyspark.context import SparkContext\n",
    "from pyspark import SparkConf\n",
    "from pyspark.sql.functions import *\n",
    "sc = SparkContext.getOrCreate()\n",
    "spark = SparkSession(sc)"
   ]
  },
  {
   "cell_type": "code",
   "execution_count": 2,
   "id": "a175214f",
   "metadata": {},
   "outputs": [
    {
     "name": "stdout",
     "output_type": "stream",
     "text": [
      "+------------+---------+-----------+----------+-------------+\n",
      "|FlightNumber|    Start|Destination|      Date|FlightsPerDay|\n",
      "+------------+---------+-----------+----------+-------------+\n",
      "|       LH913|Frankfrut|     London|2019-03-05|            3|\n",
      "|       LH914|Frankfrut|     London|2019-03-06|            1|\n",
      "|       LH915|Frankfrut|     London|2019-03-07|         null|\n",
      "|       LH916|Frankfrut|     London|2019-03-08|            2|\n",
      "|       LH917|Frankfrut|     London|      null|            3|\n",
      "+------------+---------+-----------+----------+-------------+\n",
      "\n",
      "root\n",
      " |-- FlightNumber: string (nullable = true)\n",
      " |-- Start: string (nullable = true)\n",
      " |-- Destination: string (nullable = true)\n",
      " |-- Date: string (nullable = true)\n",
      " |-- FlightsPerDay: string (nullable = true)\n",
      "\n"
     ]
    }
   ],
   "source": [
    "#Defining dataframe\n",
    "flight = spark.read.option(\"inferschema\",\"true\").option(\"header\",\"true\").csv(\"flightex.csv\")\n",
    "flight.show(5)\n",
    "flight.printSchema()"
   ]
  },
  {
   "cell_type": "code",
   "execution_count": 3,
   "id": "a8c88531",
   "metadata": {},
   "outputs": [
    {
     "name": "stdout",
     "output_type": "stream",
     "text": [
      "+---------+\n",
      "|    Start|\n",
      "+---------+\n",
      "|Frankfrut|\n",
      "|Frankfrut|\n",
      "|Frankfrut|\n",
      "|Frankfrut|\n",
      "|Frankfrut|\n",
      "+---------+\n",
      "\n"
     ]
    }
   ],
   "source": [
    "flight.select('Start').show()"
   ]
  },
  {
   "cell_type": "markdown",
   "id": "2fb00243",
   "metadata": {},
   "source": [
    "# Null values"
   ]
  },
  {
   "cell_type": "code",
   "execution_count": 8,
   "id": "9f979257",
   "metadata": {},
   "outputs": [
    {
     "name": "stdout",
     "output_type": "stream",
     "text": [
      "+-----+-----+------+\n",
      "| name|state|gender|\n",
      "+-----+-----+------+\n",
      "|James| null|     M|\n",
      "| Anna|   NY|     F|\n",
      "|Julia| null|  null|\n",
      "+-----+-----+------+\n",
      "\n"
     ]
    }
   ],
   "source": [
    "data = [\n",
    "    (\"James\",None,\"M\"),\n",
    "    (\"Anna\",\"NY\",\"F\"),\n",
    "    (\"Julia\",None,None)\n",
    "  ]\n",
    "\n",
    "columns = [\"name\",\"state\",\"gender\"]\n",
    "df = spark.createDataFrame(data,columns)\n",
    "df.show()"
   ]
  },
  {
   "cell_type": "markdown",
   "id": "cab19b2a",
   "metadata": {},
   "source": [
    "# #Filtering or Counting Null Values"
   ]
  },
  {
   "cell_type": "code",
   "execution_count": 31,
   "id": "7af385b1",
   "metadata": {},
   "outputs": [
    {
     "data": {
      "text/plain": [
       "2"
      ]
     },
     "execution_count": 31,
     "metadata": {},
     "output_type": "execute_result"
    }
   ],
   "source": [
    "#df.filter(col(\"state\").isNull()).show()\n",
    "#df.filter(df['state'].isNull()).show()\n",
    "#df.filter(col(\"state\").isNull() & col(\"gender\").isNull() ).show()\n",
    "#df.filter(col(\"state\").isNotNull()).show()\n",
    "\n",
    "#df.createOrReplaceTempView(\"DATA\")\n",
    "#spark.sql(\"SELECT * FROM DATA where STATE IS NULL\").show()\n",
    "\n",
    "#df.filter(col(\"state\").isNull()).count()"
   ]
  },
  {
   "cell_type": "markdown",
   "id": "c75409e9",
   "metadata": {},
   "source": [
    "# #Filling Or Dropping Null Values"
   ]
  },
  {
   "cell_type": "code",
   "execution_count": 37,
   "id": "5015d271",
   "metadata": {},
   "outputs": [
    {
     "name": "stdout",
     "output_type": "stream",
     "text": [
      "+-----+-----+------+\n",
      "| name|state|gender|\n",
      "+-----+-----+------+\n",
      "|James| null|     M|\n",
      "| Anna|   NY|     F|\n",
      "|Julia| null|  null|\n",
      "+-----+-----+------+\n",
      "\n"
     ]
    }
   ],
   "source": [
    "#df.na.drop(subset=[\"state\"]).show()\n",
    "#df.na.drop(\"any\").show()\n",
    "#df.na.drop().show()\n",
    "\n",
    "#df.na.fill(value=0).show()\n",
    "#df.na.fill(0,subset=[\"state\"]).show()\n",
    "#df.na.fill(0,subset=[\"state\"]).na.fill(1,subset=['gender']).show()"
   ]
  },
  {
   "cell_type": "markdown",
   "id": "91b325c4",
   "metadata": {},
   "source": [
    "# Filter"
   ]
  },
  {
   "cell_type": "code",
   "execution_count": 61,
   "id": "2c54751d",
   "metadata": {},
   "outputs": [],
   "source": [
    "#conditions\n",
    "#df.filter((df.name == \"James\") | (df.name == \"Julia\")).show()\n",
    "#df.filter(df.name.startsWith(\"J\")).show() \n",
    "#endsWith  \n",
    "#contains"
   ]
  },
  {
   "cell_type": "markdown",
   "id": "0719fef3",
   "metadata": {},
   "source": [
    "# Columns"
   ]
  },
  {
   "cell_type": "markdown",
   "id": "d4de26dd",
   "metadata": {},
   "source": [
    "# #Basic"
   ]
  },
  {
   "cell_type": "code",
   "execution_count": 43,
   "id": "985a04c4",
   "metadata": {},
   "outputs": [
    {
     "name": "stdout",
     "output_type": "stream",
     "text": [
      "+-----+-----+------+\n",
      "| name|state|gender|\n",
      "+-----+-----+------+\n",
      "|Julia| null|  null|\n",
      "| Anna|   NY|     F|\n",
      "|James| null|     M|\n",
      "+-----+-----+------+\n",
      "\n"
     ]
    }
   ],
   "source": [
    "#df.select(col('state')).show()\n",
    "#spark.sql('SELECT state FROM DATA WHERE state IS NOT NULL').show()\n",
    "\n",
    "#Arithmetic operations on columns \n",
    "#All Column functions(like, asc,desc..) used in pyspark\n",
    "\n",
    "#df.sort(col('gender').asc()).show()"
   ]
  },
  {
   "cell_type": "markdown",
   "id": "2c1cfede",
   "metadata": {},
   "source": [
    "# #withColumn"
   ]
  },
  {
   "cell_type": "code",
   "execution_count": 51,
   "id": "09df0cba",
   "metadata": {},
   "outputs": [
    {
     "name": "stdout",
     "output_type": "stream",
     "text": [
      "+-----+------+\n",
      "| name|gender|\n",
      "+-----+------+\n",
      "|James|     M|\n",
      "| Anna|     F|\n",
      "|Julia|  null|\n",
      "+-----+------+\n",
      "\n"
     ]
    }
   ],
   "source": [
    "#Change data type\n",
    "#df.withColumn(\"state\",col(\"state\").cast(\"String\")).show()\n",
    "\n",
    "#update value\n",
    "#df.withColumn(\"state\",col(\"state\")*2).show()\n",
    "#df.withColumn(\"newcol\",col(\"state\")*2).show()\n",
    "\n",
    "#add new column\n",
    "#df.withColumn(\"Country\", lit(\"USA\")).show()\n",
    "#df.withColumn(\"Country\", lit(\"USA\")).withColumn(\"anotherColumn\",lit(\"anotherValue\")).show()\n",
    "\n",
    "#Rename Column\n",
    "#df.withColumnRenamed(\"gender\",\"sex\").show()\n",
    "#df.withColumnRenamed(\"gender\",\"sex\").show(truncate=False)\n",
    "#df.withColumnRenamed(\"gender\",\"sex\").printSchema()\n",
    "#df.withColumnRenamed(\"gender\",\"sex\").withColumnRenamed(\"name\",\"first_name\").show()\n",
    "\n",
    "#Drop column\n",
    "#df.drop(\"state\").show()"
   ]
  },
  {
   "cell_type": "code",
   "execution_count": null,
   "id": "2d222dc9",
   "metadata": {},
   "outputs": [],
   "source": []
  }
 ],
 "metadata": {
  "kernelspec": {
   "display_name": "Python 3",
   "language": "python",
   "name": "python3"
  },
  "language_info": {
   "codemirror_mode": {
    "name": "ipython",
    "version": 3
   },
   "file_extension": ".py",
   "mimetype": "text/x-python",
   "name": "python",
   "nbconvert_exporter": "python",
   "pygments_lexer": "ipython3",
   "version": "3.8.8"
  }
 },
 "nbformat": 4,
 "nbformat_minor": 5
}
