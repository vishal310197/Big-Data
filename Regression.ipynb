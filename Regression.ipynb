{
 "cells": [
  {
   "cell_type": "code",
   "execution_count": 1,
   "metadata": {},
   "outputs": [],
   "source": [
    "import pandas as pd\n",
    "import numpy as np\n",
    "import findspark\n",
    "findspark.init('C:\\spark\\spark-3.1.2-bin-hadoop3.2')\n",
    "import pyspark\n",
    "\n",
    "from pyspark.sql import SparkSession\n",
    "from pyspark.context import SparkContext\n",
    "from pyspark import SparkConf\n",
    "from pyspark.sql.functions import col\n",
    "sc = SparkContext.getOrCreate()\n",
    "spark = SparkSession(sc)\n"
   ]
  },
  {
   "cell_type": "code",
   "execution_count": 2,
   "metadata": {},
   "outputs": [],
   "source": [
    "df = spark.read.csv(\"zoo.csv\", header=True, inferSchema=True)"
   ]
  },
  {
   "cell_type": "code",
   "execution_count": 3,
   "metadata": {},
   "outputs": [
    {
     "name": "stdout",
     "output_type": "stream",
     "text": [
      "+-----------+----+--------+----+----+--------+-------+--------+-------+--------+--------+--------+----+----+----+--------+-------+----------+\n",
      "|animal_name|hair|feathers|eggs|milk|airborne|aquatic|predator|toothed|backbone|breathes|venomous|fins|legs|tail|domestic|catsize|class_type|\n",
      "+-----------+----+--------+----+----+--------+-------+--------+-------+--------+--------+--------+----+----+----+--------+-------+----------+\n",
      "|   aardvark|   1|       0|   0|   1|       0|      0|       1|      1|       1|       1|       0|   0|   4|   0|       0|      1|         1|\n",
      "|   antelope|   1|       0|   0|   1|       0|      0|       0|      1|       1|       1|       0|   0|   4|   1|       0|      1|         1|\n",
      "|       bass|   0|       0|   1|   0|       0|      1|       1|      1|       1|       0|       0|   1|   0|   1|       0|      0|         4|\n",
      "|       bear|   1|       0|   0|   1|       0|      0|       1|      1|       1|       1|       0|   0|   4|   0|       0|      1|         1|\n",
      "|       boar|   1|       0|   0|   1|       0|      0|       1|      1|       1|       1|       0|   0|   4|   1|       0|      1|         1|\n",
      "|    buffalo|   1|       0|   0|   1|       0|      0|       0|      1|       1|       1|       0|   0|   4|   1|       0|      1|         1|\n",
      "|       calf|   1|       0|   0|   1|       0|      0|       0|      1|       1|       1|       0|   0|   4|   1|       1|      1|         1|\n",
      "|       carp|   0|       0|   1|   0|       0|      1|       0|      1|       1|       0|       0|   1|   0|   1|       1|      0|         4|\n",
      "|    catfish|   0|       0|   1|   0|       0|      1|       1|      1|       1|       0|       0|   1|   0|   1|       0|      0|         4|\n",
      "|       cavy|   1|       0|   0|   1|       0|      0|       0|      1|       1|       1|       0|   0|   4|   0|       1|      0|         1|\n",
      "|    cheetah|   1|       0|   0|   1|       0|      0|       1|      1|       1|       1|       0|   0|   4|   1|       0|      1|         1|\n",
      "|    chicken|   0|       1|   1|   0|       1|      0|       0|      0|       1|       1|       0|   0|   2|   1|       1|      0|         2|\n",
      "|       chub|   0|       0|   1|   0|       0|      1|       1|      1|       1|       0|       0|   1|   0|   1|       0|      0|         4|\n",
      "|       clam|   0|       0|   1|   0|       0|      0|       1|      0|       0|       0|       0|   0|   0|   0|       0|      0|         7|\n",
      "|       crab|   0|       0|   1|   0|       0|      1|       1|      0|       0|       0|       0|   0|   4|   0|       0|      0|         7|\n",
      "|   crayfish|   0|       0|   1|   0|       0|      1|       1|      0|       0|       0|       0|   0|   6|   0|       0|      0|         7|\n",
      "|       crow|   0|       1|   1|   0|       1|      0|       1|      0|       1|       1|       0|   0|   2|   1|       0|      0|         2|\n",
      "|       deer|   1|       0|   0|   1|       0|      0|       0|      1|       1|       1|       0|   0|   4|   1|       0|      1|         1|\n",
      "|    dogfish|   0|       0|   1|   0|       0|      1|       1|      1|       1|       0|       0|   1|   0|   1|       0|      1|         4|\n",
      "|    dolphin|   0|       0|   0|   1|       0|      1|       1|      1|       1|       1|       0|   1|   0|   1|       0|      1|         1|\n",
      "+-----------+----+--------+----+----+--------+-------+--------+-------+--------+--------+--------+----+----+----+--------+-------+----------+\n",
      "only showing top 20 rows\n",
      "\n"
     ]
    }
   ],
   "source": [
    "df.show()"
   ]
  },
  {
   "cell_type": "code",
   "execution_count": 4,
   "metadata": {},
   "outputs": [],
   "source": [
    "from pyspark.sql.functions import col,when"
   ]
  },
  {
   "cell_type": "code",
   "execution_count": 6,
   "metadata": {},
   "outputs": [],
   "source": [
    "df2 = df.withColumn(\"IsMammal\", when(col(\"class_type\") ==1,\"True\").otherwise(\"False\"))"
   ]
  },
  {
   "cell_type": "code",
   "execution_count": 7,
   "metadata": {},
   "outputs": [
    {
     "name": "stdout",
     "output_type": "stream",
     "text": [
      "+-----------+----+--------+----+----+--------+-------+--------+-------+--------+--------+--------+----+----+----+--------+-------+----------+--------+\n",
      "|animal_name|hair|feathers|eggs|milk|airborne|aquatic|predator|toothed|backbone|breathes|venomous|fins|legs|tail|domestic|catsize|class_type|IsMammal|\n",
      "+-----------+----+--------+----+----+--------+-------+--------+-------+--------+--------+--------+----+----+----+--------+-------+----------+--------+\n",
      "|   aardvark|   1|       0|   0|   1|       0|      0|       1|      1|       1|       1|       0|   0|   4|   0|       0|      1|         1|    True|\n",
      "|   antelope|   1|       0|   0|   1|       0|      0|       0|      1|       1|       1|       0|   0|   4|   1|       0|      1|         1|    True|\n",
      "|       bass|   0|       0|   1|   0|       0|      1|       1|      1|       1|       0|       0|   1|   0|   1|       0|      0|         4|   False|\n",
      "|       bear|   1|       0|   0|   1|       0|      0|       1|      1|       1|       1|       0|   0|   4|   0|       0|      1|         1|    True|\n",
      "|       boar|   1|       0|   0|   1|       0|      0|       1|      1|       1|       1|       0|   0|   4|   1|       0|      1|         1|    True|\n",
      "|    buffalo|   1|       0|   0|   1|       0|      0|       0|      1|       1|       1|       0|   0|   4|   1|       0|      1|         1|    True|\n",
      "|       calf|   1|       0|   0|   1|       0|      0|       0|      1|       1|       1|       0|   0|   4|   1|       1|      1|         1|    True|\n",
      "|       carp|   0|       0|   1|   0|       0|      1|       0|      1|       1|       0|       0|   1|   0|   1|       1|      0|         4|   False|\n",
      "|    catfish|   0|       0|   1|   0|       0|      1|       1|      1|       1|       0|       0|   1|   0|   1|       0|      0|         4|   False|\n",
      "|       cavy|   1|       0|   0|   1|       0|      0|       0|      1|       1|       1|       0|   0|   4|   0|       1|      0|         1|    True|\n",
      "|    cheetah|   1|       0|   0|   1|       0|      0|       1|      1|       1|       1|       0|   0|   4|   1|       0|      1|         1|    True|\n",
      "|    chicken|   0|       1|   1|   0|       1|      0|       0|      0|       1|       1|       0|   0|   2|   1|       1|      0|         2|   False|\n",
      "|       chub|   0|       0|   1|   0|       0|      1|       1|      1|       1|       0|       0|   1|   0|   1|       0|      0|         4|   False|\n",
      "|       clam|   0|       0|   1|   0|       0|      0|       1|      0|       0|       0|       0|   0|   0|   0|       0|      0|         7|   False|\n",
      "|       crab|   0|       0|   1|   0|       0|      1|       1|      0|       0|       0|       0|   0|   4|   0|       0|      0|         7|   False|\n",
      "|   crayfish|   0|       0|   1|   0|       0|      1|       1|      0|       0|       0|       0|   0|   6|   0|       0|      0|         7|   False|\n",
      "|       crow|   0|       1|   1|   0|       1|      0|       1|      0|       1|       1|       0|   0|   2|   1|       0|      0|         2|   False|\n",
      "|       deer|   1|       0|   0|   1|       0|      0|       0|      1|       1|       1|       0|   0|   4|   1|       0|      1|         1|    True|\n",
      "|    dogfish|   0|       0|   1|   0|       0|      1|       1|      1|       1|       0|       0|   1|   0|   1|       0|      1|         4|   False|\n",
      "|    dolphin|   0|       0|   0|   1|       0|      1|       1|      1|       1|       1|       0|   1|   0|   1|       0|      1|         1|    True|\n",
      "+-----------+----+--------+----+----+--------+-------+--------+-------+--------+--------+--------+----+----+----+--------+-------+----------+--------+\n",
      "only showing top 20 rows\n",
      "\n"
     ]
    }
   ],
   "source": [
    "df2.show()"
   ]
  },
  {
   "cell_type": "code",
   "execution_count": 8,
   "metadata": {},
   "outputs": [
    {
     "name": "stdout",
     "output_type": "stream",
     "text": [
      "+----------+--------+\n",
      "|class_type|IsMammal|\n",
      "+----------+--------+\n",
      "|         1|    True|\n",
      "|         1|    True|\n",
      "|         4|   False|\n",
      "|         1|    True|\n",
      "|         1|    True|\n",
      "|         1|    True|\n",
      "|         1|    True|\n",
      "|         4|   False|\n",
      "|         4|   False|\n",
      "|         1|    True|\n",
      "|         1|    True|\n",
      "|         2|   False|\n",
      "|         4|   False|\n",
      "|         7|   False|\n",
      "|         7|   False|\n",
      "|         7|   False|\n",
      "|         2|   False|\n",
      "|         1|    True|\n",
      "|         4|   False|\n",
      "|         1|    True|\n",
      "+----------+--------+\n",
      "only showing top 20 rows\n",
      "\n"
     ]
    }
   ],
   "source": [
    "df2.select(\"class_type\",\"IsMammal\").show()"
   ]
  },
  {
   "cell_type": "code",
   "execution_count": 9,
   "metadata": {},
   "outputs": [],
   "source": [
    "from pyspark.ml.feature import RFormula"
   ]
  },
  {
   "cell_type": "code",
   "execution_count": 15,
   "metadata": {},
   "outputs": [],
   "source": [
    "supervised = RFormula(formula = \"IsMammal ~ . + animal_name:hair + animal_name:feathers + animal_name:eggs + animal_name:milk + animal_name:airborne + animal_name:aquatic + animal_name:predator + animal_name:toothed + animal_name:backbone + animal_name:breathes + animal_name:venomous + animal_name:fins + animal_name:legs + animal_name:tail + animal_name:domestic + animal_name:catsize + animal_name:class_type\")"
   ]
  },
  {
   "cell_type": "code",
   "execution_count": 16,
   "metadata": {},
   "outputs": [
    {
     "name": "stdout",
     "output_type": "stream",
     "text": [
      "+-----------+----+--------+----+----+--------+-------+--------+-------+--------+--------+--------+----+----+----+--------+-------+----------+--------+--------------------+-----+\n",
      "|animal_name|hair|feathers|eggs|milk|airborne|aquatic|predator|toothed|backbone|breathes|venomous|fins|legs|tail|domestic|catsize|class_type|IsMammal|            features|label|\n",
      "+-----------+----+--------+----+----+--------+-------+--------+-------+--------+--------+--------+----+----+----+--------+-------+----------+--------+--------------------+-----+\n",
      "|   aardvark|   1|       0|   0|   1|       0|      0|       1|      1|       1|       1|       0|   0|   4|   0|       0|      1|         1|    True|(1816,[1,99,102,1...|  1.0|\n",
      "|   antelope|   1|       0|   0|   1|       0|      0|       0|      1|       1|       1|       0|   0|   4|   1|       0|      1|         1|    True|(1816,[2,99,102,1...|  1.0|\n",
      "|       bass|   0|       0|   1|   0|       0|      1|       1|      1|       1|       0|       0|   1|   0|   1|       0|      0|         4|   False|(1816,[3,101,104,...|  0.0|\n",
      "|       bear|   1|       0|   0|   1|       0|      0|       1|      1|       1|       1|       0|   0|   4|   0|       0|      1|         1|    True|(1816,[4,99,102,1...|  1.0|\n",
      "|       boar|   1|       0|   0|   1|       0|      0|       1|      1|       1|       1|       0|   0|   4|   1|       0|      1|         1|    True|(1816,[5,99,102,1...|  1.0|\n",
      "|    buffalo|   1|       0|   0|   1|       0|      0|       0|      1|       1|       1|       0|   0|   4|   1|       0|      1|         1|    True|(1816,[6,99,102,1...|  1.0|\n",
      "|       calf|   1|       0|   0|   1|       0|      0|       0|      1|       1|       1|       0|   0|   4|   1|       1|      1|         1|    True|(1816,[7,99,102,1...|  1.0|\n",
      "|       carp|   0|       0|   1|   0|       0|      1|       0|      1|       1|       0|       0|   1|   0|   1|       1|      0|         4|   False|(1816,[8,101,104,...|  0.0|\n",
      "|    catfish|   0|       0|   1|   0|       0|      1|       1|      1|       1|       0|       0|   1|   0|   1|       0|      0|         4|   False|(1816,[9,101,104,...|  0.0|\n",
      "|       cavy|   1|       0|   0|   1|       0|      0|       0|      1|       1|       1|       0|   0|   4|   0|       1|      0|         1|    True|(1816,[10,99,102,...|  1.0|\n",
      "|    cheetah|   1|       0|   0|   1|       0|      0|       1|      1|       1|       1|       0|   0|   4|   1|       0|      1|         1|    True|(1816,[11,99,102,...|  1.0|\n",
      "|    chicken|   0|       1|   1|   0|       1|      0|       0|      0|       1|       1|       0|   0|   2|   1|       1|      0|         2|   False|(1816,[12,100,101...|  0.0|\n",
      "|       chub|   0|       0|   1|   0|       0|      1|       1|      1|       1|       0|       0|   1|   0|   1|       0|      0|         4|   False|(1816,[13,101,104...|  0.0|\n",
      "|       clam|   0|       0|   1|   0|       0|      0|       1|      0|       0|       0|       0|   0|   0|   0|       0|      0|         7|   False|(1816,[14,101,105...|  0.0|\n",
      "|       crab|   0|       0|   1|   0|       0|      1|       1|      0|       0|       0|       0|   0|   4|   0|       0|      0|         7|   False|(1816,[15,101,104...|  0.0|\n",
      "|   crayfish|   0|       0|   1|   0|       0|      1|       1|      0|       0|       0|       0|   0|   6|   0|       0|      0|         7|   False|(1816,[16,101,104...|  0.0|\n",
      "|       crow|   0|       1|   1|   0|       1|      0|       1|      0|       1|       1|       0|   0|   2|   1|       0|      0|         2|   False|(1816,[17,100,101...|  0.0|\n",
      "|       deer|   1|       0|   0|   1|       0|      0|       0|      1|       1|       1|       0|   0|   4|   1|       0|      1|         1|    True|(1816,[18,99,102,...|  1.0|\n",
      "|    dogfish|   0|       0|   1|   0|       0|      1|       1|      1|       1|       0|       0|   1|   0|   1|       0|      1|         4|   False|(1816,[19,101,104...|  0.0|\n",
      "|    dolphin|   0|       0|   0|   1|       0|      1|       1|      1|       1|       1|       0|   1|   0|   1|       0|      1|         1|    True|(1816,[20,102,104...|  1.0|\n",
      "+-----------+----+--------+----+----+--------+-------+--------+-------+--------+--------+--------+----+----+----+--------+-------+----------+--------+--------------------+-----+\n",
      "only showing top 20 rows\n",
      "\n"
     ]
    }
   ],
   "source": [
    "fittedRF = supervised.fit(df2)\n",
    "preparedDF = fittedRF.transform(df2)\n",
    "preparedDF.show()"
   ]
  },
  {
   "cell_type": "code",
   "execution_count": 17,
   "metadata": {},
   "outputs": [],
   "source": [
    "train,test = preparedDF.randomSplit([0.7,0.3])"
   ]
  },
  {
   "cell_type": "code",
   "execution_count": 18,
   "metadata": {},
   "outputs": [],
   "source": [
    "from pyspark.ml.classification import LogisticRegression\n",
    "lr = LogisticRegression(labelCol = \"label\",featuresCol = \"features\")"
   ]
  },
  {
   "cell_type": "code",
   "execution_count": 19,
   "metadata": {},
   "outputs": [
    {
     "name": "stdout",
     "output_type": "stream",
     "text": [
      "aggregationDepth: suggested depth for treeAggregate (>= 2). (default: 2)\n",
      "elasticNetParam: the ElasticNet mixing parameter, in range [0, 1]. For alpha = 0, the penalty is an L2 penalty. For alpha = 1, it is an L1 penalty. (default: 0.0)\n",
      "family: The name of family which is a description of the label distribution to be used in the model. Supported options: auto, binomial, multinomial (default: auto)\n",
      "featuresCol: features column name. (default: features, current: features)\n",
      "fitIntercept: whether to fit an intercept term. (default: True)\n",
      "labelCol: label column name. (default: label, current: label)\n",
      "lowerBoundsOnCoefficients: The lower bounds on coefficients if fitting under bound constrained optimization. The bound matrix must be compatible with the shape (1, number of features) for binomial regression, or (number of classes, number of features) for multinomial regression. (undefined)\n",
      "lowerBoundsOnIntercepts: The lower bounds on intercepts if fitting under bound constrained optimization. The bounds vector size must beequal with 1 for binomial regression, or the number oflasses for multinomial regression. (undefined)\n",
      "maxBlockSizeInMB: maximum memory in MB for stacking input data into blocks. Data is stacked within partitions. If more than remaining data size in a partition then it is adjusted to the data size. Default 0.0 represents choosing optimal value, depends on specific algorithm. Must be >= 0. (default: 0.0)\n",
      "maxIter: max number of iterations (>= 0). (default: 100)\n",
      "predictionCol: prediction column name. (default: prediction)\n",
      "probabilityCol: Column name for predicted class conditional probabilities. Note: Not all models output well-calibrated probability estimates! These probabilities should be treated as confidences, not precise probabilities. (default: probability)\n",
      "rawPredictionCol: raw prediction (a.k.a. confidence) column name. (default: rawPrediction)\n",
      "regParam: regularization parameter (>= 0). (default: 0.0)\n",
      "standardization: whether to standardize the training features before fitting the model. (default: True)\n",
      "threshold: Threshold in binary classification prediction, in range [0, 1]. If threshold and thresholds are both set, they must match.e.g. if threshold is p, then thresholds must be equal to [1-p, p]. (default: 0.5)\n",
      "thresholds: Thresholds in multi-class classification to adjust the probability of predicting each class. Array must have length equal to the number of classes, with values > 0, excepting that at most one value may be 0. The class with largest value p/t is predicted, where p is the original probability of that class and t is the class's threshold. (undefined)\n",
      "tol: the convergence tolerance for iterative algorithms (>= 0). (default: 1e-06)\n",
      "upperBoundsOnCoefficients: The upper bounds on coefficients if fitting under bound constrained optimization. The bound matrix must be compatible with the shape (1, number of features) for binomial regression, or (number of classes, number of features) for multinomial regression. (undefined)\n",
      "upperBoundsOnIntercepts: The upper bounds on intercepts if fitting under bound constrained optimization. The bound vector size must be equal with 1 for binomial regression, or the number of classes for multinomial regression. (undefined)\n",
      "weightCol: weight column name. If this is not set or empty, we treat all instance weights as 1.0. (undefined)\n"
     ]
    }
   ],
   "source": [
    "print(lr.explainParams())"
   ]
  },
  {
   "cell_type": "code",
   "execution_count": 20,
   "metadata": {},
   "outputs": [],
   "source": [
    "fittedLR = lr.fit(train)"
   ]
  },
  {
   "cell_type": "code",
   "execution_count": 21,
   "metadata": {},
   "outputs": [
    {
     "ename": "AnalysisException",
     "evalue": "cannot resolve '`AnimalName`' given input columns: [IsMammal, airborne, animal_name, aquatic, backbone, breathes, catsize, class_type, domestic, eggs, feathers, features, fins, hair, label, legs, milk, predator, prediction, probability, rawPrediction, tail, toothed, venomous];\n'Project ['AnimalName, IsMammal#144, label#1787, prediction#2218]\n+- Project [animal_name#16, hair#17, feathers#18, eggs#19, milk#20, airborne#21, aquatic#22, predator#23, toothed#24, backbone#25, breathes#26, venomous#27, fins#28, legs#29, tail#30, domestic#31, catsize#32, class_type#33, IsMammal#144, features#1724, label#1787, rawPrediction#2162, probability#2188, UDF(rawPrediction#2162) AS prediction#2218]\n   +- Project [animal_name#16, hair#17, feathers#18, eggs#19, milk#20, airborne#21, aquatic#22, predator#23, toothed#24, backbone#25, breathes#26, venomous#27, fins#28, legs#29, tail#30, domestic#31, catsize#32, class_type#33, IsMammal#144, features#1724, label#1787, rawPrediction#2162, UDF(rawPrediction#2162) AS probability#2188]\n      +- Project [animal_name#16, hair#17, feathers#18, eggs#19, milk#20, airborne#21, aquatic#22, predator#23, toothed#24, backbone#25, breathes#26, venomous#27, fins#28, legs#29, tail#30, domestic#31, catsize#32, class_type#33, IsMammal#144, features#1724, label#1787, UDF(features#1724) AS rawPrediction#2162]\n         +- Sample 0.0, 0.7, false, 4592949567434051762\n            +- Sort [animal_name#16 ASC NULLS FIRST, hair#17 ASC NULLS FIRST, feathers#18 ASC NULLS FIRST, eggs#19 ASC NULLS FIRST, milk#20 ASC NULLS FIRST, airborne#21 ASC NULLS FIRST, aquatic#22 ASC NULLS FIRST, predator#23 ASC NULLS FIRST, toothed#24 ASC NULLS FIRST, backbone#25 ASC NULLS FIRST, breathes#26 ASC NULLS FIRST, venomous#27 ASC NULLS FIRST, fins#28 ASC NULLS FIRST, legs#29 ASC NULLS FIRST, tail#30 ASC NULLS FIRST, domestic#31 ASC NULLS FIRST, catsize#32 ASC NULLS FIRST, class_type#33 ASC NULLS FIRST, IsMammal#144 ASC NULLS FIRST, features#1724 ASC NULLS FIRST, label#1787 ASC NULLS FIRST], false\n               +- Project [animal_name#16, hair#17, feathers#18, eggs#19, milk#20, airborne#21, aquatic#22, predator#23, toothed#24, backbone#25, breathes#26, venomous#27, fins#28, legs#29, tail#30, domestic#31, catsize#32, class_type#33, IsMammal#144, features#1724, UDF(cast(IsMammal#144 as string)) AS label#1787]\n                  +- Project [animal_name#16, hair#17, feathers#18, eggs#19, milk#20, airborne#21, aquatic#22, predator#23, toothed#24, backbone#25, breathes#26, venomous#27, fins#28, legs#29, tail#30, domestic#31, catsize#32, class_type#33, IsMammal#144, features#1724]\n                     +- Project [animal_name#16, hair#17, feathers#18, eggs#19, milk#20, airborne#21, aquatic#22, predator#23, toothed#24, backbone#25, breathes#26, venomous#27, fins#28, legs#29, tail#30, domestic#31, catsize#32, class_type#33, IsMammal#144, stridx_1d52126f05af#1066, interaction_b369b1c23f84#1091, interaction_b3c71fcd4b97#1114, interaction_5e97b47c8cca#1138, interaction_40fc079a6382#1163, ... 15 more fields]\n                        +- Project [animal_name#16, hair#17, feathers#18, eggs#19, milk#20, airborne#21, aquatic#22, predator#23, toothed#24, backbone#25, breathes#26, venomous#27, fins#28, legs#29, tail#30, domestic#31, catsize#32, class_type#33, IsMammal#144, stridx_1d52126f05af#1066, interaction_b369b1c23f84#1091, interaction_b3c71fcd4b97#1114, interaction_5e97b47c8cca#1138, interaction_40fc079a6382#1163, ... 15 more fields]\n                           +- Project [animal_name#16, hair#17, feathers#18, eggs#19, milk#20, airborne#21, aquatic#22, predator#23, toothed#24, backbone#25, breathes#26, venomous#27, fins#28, legs#29, tail#30, domestic#31, catsize#32, class_type#33, IsMammal#144, stridx_1d52126f05af#1066, interaction_b369b1c23f84#1091, interaction_b3c71fcd4b97#1114, interaction_5e97b47c8cca#1138, interaction_40fc079a6382#1163, ... 14 more fields]\n                              +- Project [animal_name#16, hair#17, feathers#18, eggs#19, milk#20, airborne#21, aquatic#22, predator#23, toothed#24, backbone#25, breathes#26, venomous#27, fins#28, legs#29, tail#30, domestic#31, catsize#32, class_type#33, IsMammal#144, stridx_1d52126f05af#1066, interaction_b369b1c23f84#1091, interaction_b3c71fcd4b97#1114, interaction_5e97b47c8cca#1138, interaction_40fc079a6382#1163, ... 13 more fields]\n                                 +- Project [animal_name#16, hair#17, feathers#18, eggs#19, milk#20, airborne#21, aquatic#22, predator#23, toothed#24, backbone#25, breathes#26, venomous#27, fins#28, legs#29, tail#30, domestic#31, catsize#32, class_type#33, IsMammal#144, stridx_1d52126f05af#1066, interaction_b369b1c23f84#1091, interaction_b3c71fcd4b97#1114, interaction_5e97b47c8cca#1138, interaction_40fc079a6382#1163, ... 12 more fields]\n                                    +- Project [animal_name#16, hair#17, feathers#18, eggs#19, milk#20, airborne#21, aquatic#22, predator#23, toothed#24, backbone#25, breathes#26, venomous#27, fins#28, legs#29, tail#30, domestic#31, catsize#32, class_type#33, IsMammal#144, stridx_1d52126f05af#1066, interaction_b369b1c23f84#1091, interaction_b3c71fcd4b97#1114, interaction_5e97b47c8cca#1138, interaction_40fc079a6382#1163, ... 11 more fields]\n                                       +- Project [animal_name#16, hair#17, feathers#18, eggs#19, milk#20, airborne#21, aquatic#22, predator#23, toothed#24, backbone#25, breathes#26, venomous#27, fins#28, legs#29, tail#30, domestic#31, catsize#32, class_type#33, IsMammal#144, stridx_1d52126f05af#1066, interaction_b369b1c23f84#1091, interaction_b3c71fcd4b97#1114, interaction_5e97b47c8cca#1138, interaction_40fc079a6382#1163, ... 10 more fields]\n                                          +- Project [animal_name#16, hair#17, feathers#18, eggs#19, milk#20, airborne#21, aquatic#22, predator#23, toothed#24, backbone#25, breathes#26, venomous#27, fins#28, legs#29, tail#30, domestic#31, catsize#32, class_type#33, IsMammal#144, stridx_1d52126f05af#1066, interaction_b369b1c23f84#1091, interaction_b3c71fcd4b97#1114, interaction_5e97b47c8cca#1138, interaction_40fc079a6382#1163, ... 9 more fields]\n                                             +- Project [animal_name#16, hair#17, feathers#18, eggs#19, milk#20, airborne#21, aquatic#22, predator#23, toothed#24, backbone#25, breathes#26, venomous#27, fins#28, legs#29, tail#30, domestic#31, catsize#32, class_type#33, IsMammal#144, stridx_1d52126f05af#1066, interaction_b369b1c23f84#1091, interaction_b3c71fcd4b97#1114, interaction_5e97b47c8cca#1138, interaction_40fc079a6382#1163, ... 8 more fields]\n                                                +- Project [animal_name#16, hair#17, feathers#18, eggs#19, milk#20, airborne#21, aquatic#22, predator#23, toothed#24, backbone#25, breathes#26, venomous#27, fins#28, legs#29, tail#30, domestic#31, catsize#32, class_type#33, IsMammal#144, stridx_1d52126f05af#1066, interaction_b369b1c23f84#1091, interaction_b3c71fcd4b97#1114, interaction_5e97b47c8cca#1138, interaction_40fc079a6382#1163, ... 7 more fields]\n                                                   +- Project [animal_name#16, hair#17, feathers#18, eggs#19, milk#20, airborne#21, aquatic#22, predator#23, toothed#24, backbone#25, breathes#26, venomous#27, fins#28, legs#29, tail#30, domestic#31, catsize#32, class_type#33, IsMammal#144, stridx_1d52126f05af#1066, interaction_b369b1c23f84#1091, interaction_b3c71fcd4b97#1114, interaction_5e97b47c8cca#1138, interaction_40fc079a6382#1163, ... 6 more fields]\n                                                      +- Project [animal_name#16, hair#17, feathers#18, eggs#19, milk#20, airborne#21, aquatic#22, predator#23, toothed#24, backbone#25, breathes#26, venomous#27, fins#28, legs#29, tail#30, domestic#31, catsize#32, class_type#33, IsMammal#144, stridx_1d52126f05af#1066, interaction_b369b1c23f84#1091, interaction_b3c71fcd4b97#1114, interaction_5e97b47c8cca#1138, interaction_40fc079a6382#1163, ... 5 more fields]\n                                                         +- Project [animal_name#16, hair#17, feathers#18, eggs#19, milk#20, airborne#21, aquatic#22, predator#23, toothed#24, backbone#25, breathes#26, venomous#27, fins#28, legs#29, tail#30, domestic#31, catsize#32, class_type#33, IsMammal#144, stridx_1d52126f05af#1066, interaction_b369b1c23f84#1091, interaction_b3c71fcd4b97#1114, interaction_5e97b47c8cca#1138, interaction_40fc079a6382#1163, ... 4 more fields]\n                                                            +- Project [animal_name#16, hair#17, feathers#18, eggs#19, milk#20, airborne#21, aquatic#22, predator#23, toothed#24, backbone#25, breathes#26, venomous#27, fins#28, legs#29, tail#30, domestic#31, catsize#32, class_type#33, IsMammal#144, stridx_1d52126f05af#1066, interaction_b369b1c23f84#1091, interaction_b3c71fcd4b97#1114, interaction_5e97b47c8cca#1138, interaction_40fc079a6382#1163, ... 3 more fields]\n                                                               +- Project [animal_name#16, hair#17, feathers#18, eggs#19, milk#20, airborne#21, aquatic#22, predator#23, toothed#24, backbone#25, breathes#26, venomous#27, fins#28, legs#29, tail#30, domestic#31, catsize#32, class_type#33, IsMammal#144, stridx_1d52126f05af#1066, interaction_b369b1c23f84#1091, interaction_b3c71fcd4b97#1114, interaction_5e97b47c8cca#1138, interaction_40fc079a6382#1163, ... 2 more fields]\n                                                                  +- Project [animal_name#16, hair#17, feathers#18, eggs#19, milk#20, airborne#21, aquatic#22, predator#23, toothed#24, backbone#25, breathes#26, venomous#27, fins#28, legs#29, tail#30, domestic#31, catsize#32, class_type#33, IsMammal#144, stridx_1d52126f05af#1066, interaction_b369b1c23f84#1091, interaction_b3c71fcd4b97#1114, interaction_5e97b47c8cca#1138, interaction_40fc079a6382#1163, UDF(struct(stridx_1d52126f05af, stridx_1d52126f05af#1066, col2, cast(airborne#21 as double))) AS interaction_7f9f435b8cc4#1189]\n                                                                     +- Project [animal_name#16, hair#17, feathers#18, eggs#19, milk#20, airborne#21, aquatic#22, predator#23, toothed#24, backbone#25, breathes#26, venomous#27, fins#28, legs#29, tail#30, domestic#31, catsize#32, class_type#33, IsMammal#144, stridx_1d52126f05af#1066, interaction_b369b1c23f84#1091, interaction_b3c71fcd4b97#1114, interaction_5e97b47c8cca#1138, UDF(struct(stridx_1d52126f05af, stridx_1d52126f05af#1066, col2, cast(milk#20 as double))) AS interaction_40fc079a6382#1163]\n                                                                        +- Project [animal_name#16, hair#17, feathers#18, eggs#19, milk#20, airborne#21, aquatic#22, predator#23, toothed#24, backbone#25, breathes#26, venomous#27, fins#28, legs#29, tail#30, domestic#31, catsize#32, class_type#33, IsMammal#144, stridx_1d52126f05af#1066, interaction_b369b1c23f84#1091, interaction_b3c71fcd4b97#1114, UDF(struct(stridx_1d52126f05af, stridx_1d52126f05af#1066, col2, cast(eggs#19 as double))) AS interaction_5e97b47c8cca#1138]\n                                                                           +- Project [animal_name#16, hair#17, feathers#18, eggs#19, milk#20, airborne#21, aquatic#22, predator#23, toothed#24, backbone#25, breathes#26, venomous#27, fins#28, legs#29, tail#30, domestic#31, catsize#32, class_type#33, IsMammal#144, stridx_1d52126f05af#1066, interaction_b369b1c23f84#1091, UDF(struct(stridx_1d52126f05af, stridx_1d52126f05af#1066, col2, cast(feathers#18 as double))) AS interaction_b3c71fcd4b97#1114]\n                                                                              +- Project [animal_name#16, hair#17, feathers#18, eggs#19, milk#20, airborne#21, aquatic#22, predator#23, toothed#24, backbone#25, breathes#26, venomous#27, fins#28, legs#29, tail#30, domestic#31, catsize#32, class_type#33, IsMammal#144, stridx_1d52126f05af#1066, UDF(struct(stridx_1d52126f05af, stridx_1d52126f05af#1066, col2, cast(hair#17 as double))) AS interaction_b369b1c23f84#1091]\n                                                                                 +- Project [animal_name#16, hair#17, feathers#18, eggs#19, milk#20, airborne#21, aquatic#22, predator#23, toothed#24, backbone#25, breathes#26, venomous#27, fins#28, legs#29, tail#30, domestic#31, catsize#32, class_type#33, IsMammal#144, UDF(cast(animal_name#16 as string)) AS stridx_1d52126f05af#1066]\n                                                                                    +- Project [animal_name#16, hair#17, feathers#18, eggs#19, milk#20, airborne#21, aquatic#22, predator#23, toothed#24, backbone#25, breathes#26, venomous#27, fins#28, legs#29, tail#30, domestic#31, catsize#32, class_type#33, CASE WHEN (class_type#33 = 1) THEN True ELSE False END AS IsMammal#144]\n                                                                                       +- Relation[animal_name#16,hair#17,feathers#18,eggs#19,milk#20,airborne#21,aquatic#22,predator#23,toothed#24,backbone#25,breathes#26,venomous#27,fins#28,legs#29,tail#30,domestic#31,catsize#32,class_type#33] csv\n",
     "output_type": "error",
     "traceback": [
      "\u001b[1;31m---------------------------------------------------------------------------\u001b[0m",
      "\u001b[1;31mAnalysisException\u001b[0m                         Traceback (most recent call last)",
      "\u001b[1;32m<ipython-input-21-42923c46c3c5>\u001b[0m in \u001b[0;36m<module>\u001b[1;34m\u001b[0m\n\u001b[1;32m----> 1\u001b[1;33m \u001b[0mfittedLR\u001b[0m\u001b[1;33m.\u001b[0m\u001b[0mtransform\u001b[0m\u001b[1;33m(\u001b[0m\u001b[0mtrain\u001b[0m\u001b[1;33m)\u001b[0m\u001b[1;33m.\u001b[0m\u001b[0mselect\u001b[0m\u001b[1;33m(\u001b[0m\u001b[1;34m\"AnimalName\"\u001b[0m\u001b[1;33m,\u001b[0m\u001b[1;34m\"IsMammal\"\u001b[0m\u001b[1;33m,\u001b[0m\u001b[1;34m\"label\"\u001b[0m\u001b[1;33m,\u001b[0m\u001b[1;34m\"prediction\"\u001b[0m\u001b[1;33m)\u001b[0m\u001b[1;33m.\u001b[0m\u001b[0mshow\u001b[0m\u001b[1;33m(\u001b[0m\u001b[1;36m100\u001b[0m\u001b[1;33m)\u001b[0m\u001b[1;33m\u001b[0m\u001b[1;33m\u001b[0m\u001b[0m\n\u001b[0m",
      "\u001b[1;32mC:\\spark\\spark-3.1.2-bin-hadoop3.2\\python\\pyspark\\sql\\dataframe.py\u001b[0m in \u001b[0;36mselect\u001b[1;34m(self, *cols)\u001b[0m\n\u001b[0;32m   1667\u001b[0m         \u001b[1;33m[\u001b[0m\u001b[0mRow\u001b[0m\u001b[1;33m(\u001b[0m\u001b[0mname\u001b[0m\u001b[1;33m=\u001b[0m\u001b[1;34m'Alice'\u001b[0m\u001b[1;33m,\u001b[0m \u001b[0mage\u001b[0m\u001b[1;33m=\u001b[0m\u001b[1;36m12\u001b[0m\u001b[1;33m)\u001b[0m\u001b[1;33m,\u001b[0m \u001b[0mRow\u001b[0m\u001b[1;33m(\u001b[0m\u001b[0mname\u001b[0m\u001b[1;33m=\u001b[0m\u001b[1;34m'Bob'\u001b[0m\u001b[1;33m,\u001b[0m \u001b[0mage\u001b[0m\u001b[1;33m=\u001b[0m\u001b[1;36m15\u001b[0m\u001b[1;33m)\u001b[0m\u001b[1;33m]\u001b[0m\u001b[1;33m\u001b[0m\u001b[1;33m\u001b[0m\u001b[0m\n\u001b[0;32m   1668\u001b[0m         \"\"\"\n\u001b[1;32m-> 1669\u001b[1;33m         \u001b[0mjdf\u001b[0m \u001b[1;33m=\u001b[0m \u001b[0mself\u001b[0m\u001b[1;33m.\u001b[0m\u001b[0m_jdf\u001b[0m\u001b[1;33m.\u001b[0m\u001b[0mselect\u001b[0m\u001b[1;33m(\u001b[0m\u001b[0mself\u001b[0m\u001b[1;33m.\u001b[0m\u001b[0m_jcols\u001b[0m\u001b[1;33m(\u001b[0m\u001b[1;33m*\u001b[0m\u001b[0mcols\u001b[0m\u001b[1;33m)\u001b[0m\u001b[1;33m)\u001b[0m\u001b[1;33m\u001b[0m\u001b[1;33m\u001b[0m\u001b[0m\n\u001b[0m\u001b[0;32m   1670\u001b[0m         \u001b[1;32mreturn\u001b[0m \u001b[0mDataFrame\u001b[0m\u001b[1;33m(\u001b[0m\u001b[0mjdf\u001b[0m\u001b[1;33m,\u001b[0m \u001b[0mself\u001b[0m\u001b[1;33m.\u001b[0m\u001b[0msql_ctx\u001b[0m\u001b[1;33m)\u001b[0m\u001b[1;33m\u001b[0m\u001b[1;33m\u001b[0m\u001b[0m\n\u001b[0;32m   1671\u001b[0m \u001b[1;33m\u001b[0m\u001b[0m\n",
      "\u001b[1;32mC:\\spark\\spark-3.1.2-bin-hadoop3.2\\python\\lib\\py4j-0.10.9-src.zip\\py4j\\java_gateway.py\u001b[0m in \u001b[0;36m__call__\u001b[1;34m(self, *args)\u001b[0m\n\u001b[0;32m   1302\u001b[0m \u001b[1;33m\u001b[0m\u001b[0m\n\u001b[0;32m   1303\u001b[0m         \u001b[0manswer\u001b[0m \u001b[1;33m=\u001b[0m \u001b[0mself\u001b[0m\u001b[1;33m.\u001b[0m\u001b[0mgateway_client\u001b[0m\u001b[1;33m.\u001b[0m\u001b[0msend_command\u001b[0m\u001b[1;33m(\u001b[0m\u001b[0mcommand\u001b[0m\u001b[1;33m)\u001b[0m\u001b[1;33m\u001b[0m\u001b[1;33m\u001b[0m\u001b[0m\n\u001b[1;32m-> 1304\u001b[1;33m         return_value = get_return_value(\n\u001b[0m\u001b[0;32m   1305\u001b[0m             answer, self.gateway_client, self.target_id, self.name)\n\u001b[0;32m   1306\u001b[0m \u001b[1;33m\u001b[0m\u001b[0m\n",
      "\u001b[1;32mC:\\spark\\spark-3.1.2-bin-hadoop3.2\\python\\pyspark\\sql\\utils.py\u001b[0m in \u001b[0;36mdeco\u001b[1;34m(*a, **kw)\u001b[0m\n\u001b[0;32m    115\u001b[0m                 \u001b[1;31m# Hide where the exception came from that shows a non-Pythonic\u001b[0m\u001b[1;33m\u001b[0m\u001b[1;33m\u001b[0m\u001b[1;33m\u001b[0m\u001b[0m\n\u001b[0;32m    116\u001b[0m                 \u001b[1;31m# JVM exception message.\u001b[0m\u001b[1;33m\u001b[0m\u001b[1;33m\u001b[0m\u001b[1;33m\u001b[0m\u001b[0m\n\u001b[1;32m--> 117\u001b[1;33m                 \u001b[1;32mraise\u001b[0m \u001b[0mconverted\u001b[0m \u001b[1;32mfrom\u001b[0m \u001b[1;32mNone\u001b[0m\u001b[1;33m\u001b[0m\u001b[1;33m\u001b[0m\u001b[0m\n\u001b[0m\u001b[0;32m    118\u001b[0m             \u001b[1;32melse\u001b[0m\u001b[1;33m:\u001b[0m\u001b[1;33m\u001b[0m\u001b[1;33m\u001b[0m\u001b[0m\n\u001b[0;32m    119\u001b[0m                 \u001b[1;32mraise\u001b[0m\u001b[1;33m\u001b[0m\u001b[1;33m\u001b[0m\u001b[0m\n",
      "\u001b[1;31mAnalysisException\u001b[0m: cannot resolve '`AnimalName`' given input columns: [IsMammal, airborne, animal_name, aquatic, backbone, breathes, catsize, class_type, domestic, eggs, feathers, features, fins, hair, label, legs, milk, predator, prediction, probability, rawPrediction, tail, toothed, venomous];\n'Project ['AnimalName, IsMammal#144, label#1787, prediction#2218]\n+- Project [animal_name#16, hair#17, feathers#18, eggs#19, milk#20, airborne#21, aquatic#22, predator#23, toothed#24, backbone#25, breathes#26, venomous#27, fins#28, legs#29, tail#30, domestic#31, catsize#32, class_type#33, IsMammal#144, features#1724, label#1787, rawPrediction#2162, probability#2188, UDF(rawPrediction#2162) AS prediction#2218]\n   +- Project [animal_name#16, hair#17, feathers#18, eggs#19, milk#20, airborne#21, aquatic#22, predator#23, toothed#24, backbone#25, breathes#26, venomous#27, fins#28, legs#29, tail#30, domestic#31, catsize#32, class_type#33, IsMammal#144, features#1724, label#1787, rawPrediction#2162, UDF(rawPrediction#2162) AS probability#2188]\n      +- Project [animal_name#16, hair#17, feathers#18, eggs#19, milk#20, airborne#21, aquatic#22, predator#23, toothed#24, backbone#25, breathes#26, venomous#27, fins#28, legs#29, tail#30, domestic#31, catsize#32, class_type#33, IsMammal#144, features#1724, label#1787, UDF(features#1724) AS rawPrediction#2162]\n         +- Sample 0.0, 0.7, false, 4592949567434051762\n            +- Sort [animal_name#16 ASC NULLS FIRST, hair#17 ASC NULLS FIRST, feathers#18 ASC NULLS FIRST, eggs#19 ASC NULLS FIRST, milk#20 ASC NULLS FIRST, airborne#21 ASC NULLS FIRST, aquatic#22 ASC NULLS FIRST, predator#23 ASC NULLS FIRST, toothed#24 ASC NULLS FIRST, backbone#25 ASC NULLS FIRST, breathes#26 ASC NULLS FIRST, venomous#27 ASC NULLS FIRST, fins#28 ASC NULLS FIRST, legs#29 ASC NULLS FIRST, tail#30 ASC NULLS FIRST, domestic#31 ASC NULLS FIRST, catsize#32 ASC NULLS FIRST, class_type#33 ASC NULLS FIRST, IsMammal#144 ASC NULLS FIRST, features#1724 ASC NULLS FIRST, label#1787 ASC NULLS FIRST], false\n               +- Project [animal_name#16, hair#17, feathers#18, eggs#19, milk#20, airborne#21, aquatic#22, predator#23, toothed#24, backbone#25, breathes#26, venomous#27, fins#28, legs#29, tail#30, domestic#31, catsize#32, class_type#33, IsMammal#144, features#1724, UDF(cast(IsMammal#144 as string)) AS label#1787]\n                  +- Project [animal_name#16, hair#17, feathers#18, eggs#19, milk#20, airborne#21, aquatic#22, predator#23, toothed#24, backbone#25, breathes#26, venomous#27, fins#28, legs#29, tail#30, domestic#31, catsize#32, class_type#33, IsMammal#144, features#1724]\n                     +- Project [animal_name#16, hair#17, feathers#18, eggs#19, milk#20, airborne#21, aquatic#22, predator#23, toothed#24, backbone#25, breathes#26, venomous#27, fins#28, legs#29, tail#30, domestic#31, catsize#32, class_type#33, IsMammal#144, stridx_1d52126f05af#1066, interaction_b369b1c23f84#1091, interaction_b3c71fcd4b97#1114, interaction_5e97b47c8cca#1138, interaction_40fc079a6382#1163, ... 15 more fields]\n                        +- Project [animal_name#16, hair#17, feathers#18, eggs#19, milk#20, airborne#21, aquatic#22, predator#23, toothed#24, backbone#25, breathes#26, venomous#27, fins#28, legs#29, tail#30, domestic#31, catsize#32, class_type#33, IsMammal#144, stridx_1d52126f05af#1066, interaction_b369b1c23f84#1091, interaction_b3c71fcd4b97#1114, interaction_5e97b47c8cca#1138, interaction_40fc079a6382#1163, ... 15 more fields]\n                           +- Project [animal_name#16, hair#17, feathers#18, eggs#19, milk#20, airborne#21, aquatic#22, predator#23, toothed#24, backbone#25, breathes#26, venomous#27, fins#28, legs#29, tail#30, domestic#31, catsize#32, class_type#33, IsMammal#144, stridx_1d52126f05af#1066, interaction_b369b1c23f84#1091, interaction_b3c71fcd4b97#1114, interaction_5e97b47c8cca#1138, interaction_40fc079a6382#1163, ... 14 more fields]\n                              +- Project [animal_name#16, hair#17, feathers#18, eggs#19, milk#20, airborne#21, aquatic#22, predator#23, toothed#24, backbone#25, breathes#26, venomous#27, fins#28, legs#29, tail#30, domestic#31, catsize#32, class_type#33, IsMammal#144, stridx_1d52126f05af#1066, interaction_b369b1c23f84#1091, interaction_b3c71fcd4b97#1114, interaction_5e97b47c8cca#1138, interaction_40fc079a6382#1163, ... 13 more fields]\n                                 +- Project [animal_name#16, hair#17, feathers#18, eggs#19, milk#20, airborne#21, aquatic#22, predator#23, toothed#24, backbone#25, breathes#26, venomous#27, fins#28, legs#29, tail#30, domestic#31, catsize#32, class_type#33, IsMammal#144, stridx_1d52126f05af#1066, interaction_b369b1c23f84#1091, interaction_b3c71fcd4b97#1114, interaction_5e97b47c8cca#1138, interaction_40fc079a6382#1163, ... 12 more fields]\n                                    +- Project [animal_name#16, hair#17, feathers#18, eggs#19, milk#20, airborne#21, aquatic#22, predator#23, toothed#24, backbone#25, breathes#26, venomous#27, fins#28, legs#29, tail#30, domestic#31, catsize#32, class_type#33, IsMammal#144, stridx_1d52126f05af#1066, interaction_b369b1c23f84#1091, interaction_b3c71fcd4b97#1114, interaction_5e97b47c8cca#1138, interaction_40fc079a6382#1163, ... 11 more fields]\n                                       +- Project [animal_name#16, hair#17, feathers#18, eggs#19, milk#20, airborne#21, aquatic#22, predator#23, toothed#24, backbone#25, breathes#26, venomous#27, fins#28, legs#29, tail#30, domestic#31, catsize#32, class_type#33, IsMammal#144, stridx_1d52126f05af#1066, interaction_b369b1c23f84#1091, interaction_b3c71fcd4b97#1114, interaction_5e97b47c8cca#1138, interaction_40fc079a6382#1163, ... 10 more fields]\n                                          +- Project [animal_name#16, hair#17, feathers#18, eggs#19, milk#20, airborne#21, aquatic#22, predator#23, toothed#24, backbone#25, breathes#26, venomous#27, fins#28, legs#29, tail#30, domestic#31, catsize#32, class_type#33, IsMammal#144, stridx_1d52126f05af#1066, interaction_b369b1c23f84#1091, interaction_b3c71fcd4b97#1114, interaction_5e97b47c8cca#1138, interaction_40fc079a6382#1163, ... 9 more fields]\n                                             +- Project [animal_name#16, hair#17, feathers#18, eggs#19, milk#20, airborne#21, aquatic#22, predator#23, toothed#24, backbone#25, breathes#26, venomous#27, fins#28, legs#29, tail#30, domestic#31, catsize#32, class_type#33, IsMammal#144, stridx_1d52126f05af#1066, interaction_b369b1c23f84#1091, interaction_b3c71fcd4b97#1114, interaction_5e97b47c8cca#1138, interaction_40fc079a6382#1163, ... 8 more fields]\n                                                +- Project [animal_name#16, hair#17, feathers#18, eggs#19, milk#20, airborne#21, aquatic#22, predator#23, toothed#24, backbone#25, breathes#26, venomous#27, fins#28, legs#29, tail#30, domestic#31, catsize#32, class_type#33, IsMammal#144, stridx_1d52126f05af#1066, interaction_b369b1c23f84#1091, interaction_b3c71fcd4b97#1114, interaction_5e97b47c8cca#1138, interaction_40fc079a6382#1163, ... 7 more fields]\n                                                   +- Project [animal_name#16, hair#17, feathers#18, eggs#19, milk#20, airborne#21, aquatic#22, predator#23, toothed#24, backbone#25, breathes#26, venomous#27, fins#28, legs#29, tail#30, domestic#31, catsize#32, class_type#33, IsMammal#144, stridx_1d52126f05af#1066, interaction_b369b1c23f84#1091, interaction_b3c71fcd4b97#1114, interaction_5e97b47c8cca#1138, interaction_40fc079a6382#1163, ... 6 more fields]\n                                                      +- Project [animal_name#16, hair#17, feathers#18, eggs#19, milk#20, airborne#21, aquatic#22, predator#23, toothed#24, backbone#25, breathes#26, venomous#27, fins#28, legs#29, tail#30, domestic#31, catsize#32, class_type#33, IsMammal#144, stridx_1d52126f05af#1066, interaction_b369b1c23f84#1091, interaction_b3c71fcd4b97#1114, interaction_5e97b47c8cca#1138, interaction_40fc079a6382#1163, ... 5 more fields]\n                                                         +- Project [animal_name#16, hair#17, feathers#18, eggs#19, milk#20, airborne#21, aquatic#22, predator#23, toothed#24, backbone#25, breathes#26, venomous#27, fins#28, legs#29, tail#30, domestic#31, catsize#32, class_type#33, IsMammal#144, stridx_1d52126f05af#1066, interaction_b369b1c23f84#1091, interaction_b3c71fcd4b97#1114, interaction_5e97b47c8cca#1138, interaction_40fc079a6382#1163, ... 4 more fields]\n                                                            +- Project [animal_name#16, hair#17, feathers#18, eggs#19, milk#20, airborne#21, aquatic#22, predator#23, toothed#24, backbone#25, breathes#26, venomous#27, fins#28, legs#29, tail#30, domestic#31, catsize#32, class_type#33, IsMammal#144, stridx_1d52126f05af#1066, interaction_b369b1c23f84#1091, interaction_b3c71fcd4b97#1114, interaction_5e97b47c8cca#1138, interaction_40fc079a6382#1163, ... 3 more fields]\n                                                               +- Project [animal_name#16, hair#17, feathers#18, eggs#19, milk#20, airborne#21, aquatic#22, predator#23, toothed#24, backbone#25, breathes#26, venomous#27, fins#28, legs#29, tail#30, domestic#31, catsize#32, class_type#33, IsMammal#144, stridx_1d52126f05af#1066, interaction_b369b1c23f84#1091, interaction_b3c71fcd4b97#1114, interaction_5e97b47c8cca#1138, interaction_40fc079a6382#1163, ... 2 more fields]\n                                                                  +- Project [animal_name#16, hair#17, feathers#18, eggs#19, milk#20, airborne#21, aquatic#22, predator#23, toothed#24, backbone#25, breathes#26, venomous#27, fins#28, legs#29, tail#30, domestic#31, catsize#32, class_type#33, IsMammal#144, stridx_1d52126f05af#1066, interaction_b369b1c23f84#1091, interaction_b3c71fcd4b97#1114, interaction_5e97b47c8cca#1138, interaction_40fc079a6382#1163, UDF(struct(stridx_1d52126f05af, stridx_1d52126f05af#1066, col2, cast(airborne#21 as double))) AS interaction_7f9f435b8cc4#1189]\n                                                                     +- Project [animal_name#16, hair#17, feathers#18, eggs#19, milk#20, airborne#21, aquatic#22, predator#23, toothed#24, backbone#25, breathes#26, venomous#27, fins#28, legs#29, tail#30, domestic#31, catsize#32, class_type#33, IsMammal#144, stridx_1d52126f05af#1066, interaction_b369b1c23f84#1091, interaction_b3c71fcd4b97#1114, interaction_5e97b47c8cca#1138, UDF(struct(stridx_1d52126f05af, stridx_1d52126f05af#1066, col2, cast(milk#20 as double))) AS interaction_40fc079a6382#1163]\n                                                                        +- Project [animal_name#16, hair#17, feathers#18, eggs#19, milk#20, airborne#21, aquatic#22, predator#23, toothed#24, backbone#25, breathes#26, venomous#27, fins#28, legs#29, tail#30, domestic#31, catsize#32, class_type#33, IsMammal#144, stridx_1d52126f05af#1066, interaction_b369b1c23f84#1091, interaction_b3c71fcd4b97#1114, UDF(struct(stridx_1d52126f05af, stridx_1d52126f05af#1066, col2, cast(eggs#19 as double))) AS interaction_5e97b47c8cca#1138]\n                                                                           +- Project [animal_name#16, hair#17, feathers#18, eggs#19, milk#20, airborne#21, aquatic#22, predator#23, toothed#24, backbone#25, breathes#26, venomous#27, fins#28, legs#29, tail#30, domestic#31, catsize#32, class_type#33, IsMammal#144, stridx_1d52126f05af#1066, interaction_b369b1c23f84#1091, UDF(struct(stridx_1d52126f05af, stridx_1d52126f05af#1066, col2, cast(feathers#18 as double))) AS interaction_b3c71fcd4b97#1114]\n                                                                              +- Project [animal_name#16, hair#17, feathers#18, eggs#19, milk#20, airborne#21, aquatic#22, predator#23, toothed#24, backbone#25, breathes#26, venomous#27, fins#28, legs#29, tail#30, domestic#31, catsize#32, class_type#33, IsMammal#144, stridx_1d52126f05af#1066, UDF(struct(stridx_1d52126f05af, stridx_1d52126f05af#1066, col2, cast(hair#17 as double))) AS interaction_b369b1c23f84#1091]\n                                                                                 +- Project [animal_name#16, hair#17, feathers#18, eggs#19, milk#20, airborne#21, aquatic#22, predator#23, toothed#24, backbone#25, breathes#26, venomous#27, fins#28, legs#29, tail#30, domestic#31, catsize#32, class_type#33, IsMammal#144, UDF(cast(animal_name#16 as string)) AS stridx_1d52126f05af#1066]\n                                                                                    +- Project [animal_name#16, hair#17, feathers#18, eggs#19, milk#20, airborne#21, aquatic#22, predator#23, toothed#24, backbone#25, breathes#26, venomous#27, fins#28, legs#29, tail#30, domestic#31, catsize#32, class_type#33, CASE WHEN (class_type#33 = 1) THEN True ELSE False END AS IsMammal#144]\n                                                                                       +- Relation[animal_name#16,hair#17,feathers#18,eggs#19,milk#20,airborne#21,aquatic#22,predator#23,toothed#24,backbone#25,breathes#26,venomous#27,fins#28,legs#29,tail#30,domestic#31,catsize#32,class_type#33] csv\n"
     ]
    }
   ],
   "source": [
    "fittedLR.transform(train).select(\"AnimalName\",\"IsMammal\",\"label\",\"prediction\").show(100)"
   ]
  },
  {
   "cell_type": "code",
   "execution_count": null,
   "metadata": {},
   "outputs": [],
   "source": []
  },
  {
   "cell_type": "code",
   "execution_count": null,
   "metadata": {},
   "outputs": [],
   "source": []
  }
 ],
 "metadata": {
  "kernelspec": {
   "display_name": "Python 3",
   "language": "python",
   "name": "python3"
  },
  "language_info": {
   "codemirror_mode": {
    "name": "ipython",
    "version": 3
   },
   "file_extension": ".py",
   "mimetype": "text/x-python",
   "name": "python",
   "nbconvert_exporter": "python",
   "pygments_lexer": "ipython3",
   "version": "3.8.8"
  }
 },
 "nbformat": 4,
 "nbformat_minor": 4
}
