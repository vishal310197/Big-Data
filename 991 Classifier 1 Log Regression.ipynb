{
 "cells": [
  {
   "cell_type": "code",
   "execution_count": 1,
   "metadata": {},
   "outputs": [],
   "source": [
    "import pandas as pd\n",
    "import numpy as np\n",
    "import findspark\n",
    "findspark.init('C:\\spark\\spark-3.1.2-bin-hadoop3.2')\n",
    "import pyspark\n",
    "\n",
    "from pyspark.sql import SparkSession\n",
    "from pyspark.context import SparkContext\n",
    "from pyspark import SparkConf\n",
    "from pyspark.sql.functions import col\n",
    "sc = SparkContext.getOrCreate()\n",
    "spark = SparkSession(sc)\n"
   ]
  },
  {
   "cell_type": "code",
   "execution_count": 20,
   "metadata": {},
   "outputs": [],
   "source": [
    "df = spark.read.csv(\"zoo.csv\", header=True, inferSchema=True)"
   ]
  },
  {
   "cell_type": "code",
   "execution_count": 21,
   "metadata": {},
   "outputs": [
    {
     "name": "stdout",
     "output_type": "stream",
     "text": [
      "+----------+----+--------+----+----+--------+-------+--------+-------+--------+--------+--------+----+----+----+--------+-------+----+\n",
      "|AnimalName|Hair|Feathers|Eggs|Milk|Airborne|Aquatic|Predator|Toothed|Backbone|Breathes|Venomous|Fins|Legs|Tail|Domestic|Catsize|Type|\n",
      "+----------+----+--------+----+----+--------+-------+--------+-------+--------+--------+--------+----+----+----+--------+-------+----+\n",
      "|  aardvark|   1|       0|   0|   1|       0|      0|       1|      1|       1|       1|       0|   0|   4|   0|       0|      1|   1|\n",
      "|  antelope|   1|       0|   0|   1|       0|      0|       0|      1|       1|       1|       0|   0|   4|   1|       0|      1|   1|\n",
      "|      bass|   0|       0|   1|   0|       0|      1|       1|      1|       1|       0|       0|   1|   0|   1|       0|      0|   4|\n",
      "|      bear|   1|       0|   0|   1|       0|      0|       1|      1|       1|       1|       0|   0|   4|   0|       0|      1|   1|\n",
      "|      boar|   1|       0|   0|   1|       0|      0|       1|      1|       1|       1|       0|   0|   4|   1|       0|      1|   1|\n",
      "|   buffalo|   1|       0|   0|   1|       0|      0|       0|      1|       1|       1|       0|   0|   4|   1|       0|      1|   1|\n",
      "|      calf|   1|       0|   0|   1|       0|      0|       0|      1|       1|       1|       0|   0|   4|   1|       1|      1|   1|\n",
      "|      carp|   0|       0|   1|   0|       0|      1|       0|      1|       1|       0|       0|   1|   0|   1|       1|      0|   4|\n",
      "|   catfish|   0|       0|   1|   0|       0|      1|       1|      1|       1|       0|       0|   1|   0|   1|       0|      0|   4|\n",
      "|      cavy|   1|       0|   0|   1|       0|      0|       0|      1|       1|       1|       0|   0|   4|   0|       1|      0|   1|\n",
      "|   cheetah|   1|       0|   0|   1|       0|      0|       1|      1|       1|       1|       0|   0|   4|   1|       0|      1|   1|\n",
      "|   chicken|   0|       1|   1|   0|       1|      0|       0|      0|       1|       1|       0|   0|   2|   1|       1|      0|   2|\n",
      "|      chub|   0|       0|   1|   0|       0|      1|       1|      1|       1|       0|       0|   1|   0|   1|       0|      0|   4|\n",
      "|      clam|   0|       0|   1|   0|       0|      0|       1|      0|       0|       0|       0|   0|   0|   0|       0|      0|   7|\n",
      "|      crab|   0|       0|   1|   0|       0|      1|       1|      0|       0|       0|       0|   0|   4|   0|       0|      0|   7|\n",
      "|  crayfish|   0|       0|   1|   0|       0|      1|       1|      0|       0|       0|       0|   0|   6|   0|       0|      0|   7|\n",
      "|      crow|   0|       1|   1|   0|       1|      0|       1|      0|       1|       1|       0|   0|   2|   1|       0|      0|   2|\n",
      "|      deer|   1|       0|   0|   1|       0|      0|       0|      1|       1|       1|       0|   0|   4|   1|       0|      1|   1|\n",
      "|   dogfish|   0|       0|   1|   0|       0|      1|       1|      1|       1|       0|       0|   1|   0|   1|       0|      1|   4|\n",
      "|   dolphin|   0|       0|   0|   1|       0|      1|       1|      1|       1|       1|       0|   1|   0|   1|       0|      1|   1|\n",
      "+----------+----+--------+----+----+--------+-------+--------+-------+--------+--------+--------+----+----+----+--------+-------+----+\n",
      "only showing top 20 rows\n",
      "\n"
     ]
    }
   ],
   "source": [
    "df.show()"
   ]
  },
  {
   "cell_type": "code",
   "execution_count": null,
   "metadata": {},
   "outputs": [],
   "source": [
    "from pyspark.sql.functions import col,when"
   ]
  },
  {
   "cell_type": "code",
   "execution_count": 23,
   "metadata": {},
   "outputs": [],
   "source": [
    "df2 = df.withColumn(\"IsMammal\", when(col(\"Type\") ==1,\"True\").otherwise(\"False\"))"
   ]
  },
  {
   "cell_type": "code",
   "execution_count": 24,
   "metadata": {},
   "outputs": [
    {
     "name": "stdout",
     "output_type": "stream",
     "text": [
      "+----------+----+--------+----+----+--------+-------+--------+-------+--------+--------+--------+----+----+----+--------+-------+----+--------+\n",
      "|AnimalName|Hair|Feathers|Eggs|Milk|Airborne|Aquatic|Predator|Toothed|Backbone|Breathes|Venomous|Fins|Legs|Tail|Domestic|Catsize|Type|IsMammal|\n",
      "+----------+----+--------+----+----+--------+-------+--------+-------+--------+--------+--------+----+----+----+--------+-------+----+--------+\n",
      "|  aardvark|   1|       0|   0|   1|       0|      0|       1|      1|       1|       1|       0|   0|   4|   0|       0|      1|   1|    True|\n",
      "|  antelope|   1|       0|   0|   1|       0|      0|       0|      1|       1|       1|       0|   0|   4|   1|       0|      1|   1|    True|\n",
      "|      bass|   0|       0|   1|   0|       0|      1|       1|      1|       1|       0|       0|   1|   0|   1|       0|      0|   4|   False|\n",
      "|      bear|   1|       0|   0|   1|       0|      0|       1|      1|       1|       1|       0|   0|   4|   0|       0|      1|   1|    True|\n",
      "|      boar|   1|       0|   0|   1|       0|      0|       1|      1|       1|       1|       0|   0|   4|   1|       0|      1|   1|    True|\n",
      "|   buffalo|   1|       0|   0|   1|       0|      0|       0|      1|       1|       1|       0|   0|   4|   1|       0|      1|   1|    True|\n",
      "|      calf|   1|       0|   0|   1|       0|      0|       0|      1|       1|       1|       0|   0|   4|   1|       1|      1|   1|    True|\n",
      "|      carp|   0|       0|   1|   0|       0|      1|       0|      1|       1|       0|       0|   1|   0|   1|       1|      0|   4|   False|\n",
      "|   catfish|   0|       0|   1|   0|       0|      1|       1|      1|       1|       0|       0|   1|   0|   1|       0|      0|   4|   False|\n",
      "|      cavy|   1|       0|   0|   1|       0|      0|       0|      1|       1|       1|       0|   0|   4|   0|       1|      0|   1|    True|\n",
      "|   cheetah|   1|       0|   0|   1|       0|      0|       1|      1|       1|       1|       0|   0|   4|   1|       0|      1|   1|    True|\n",
      "|   chicken|   0|       1|   1|   0|       1|      0|       0|      0|       1|       1|       0|   0|   2|   1|       1|      0|   2|   False|\n",
      "|      chub|   0|       0|   1|   0|       0|      1|       1|      1|       1|       0|       0|   1|   0|   1|       0|      0|   4|   False|\n",
      "|      clam|   0|       0|   1|   0|       0|      0|       1|      0|       0|       0|       0|   0|   0|   0|       0|      0|   7|   False|\n",
      "|      crab|   0|       0|   1|   0|       0|      1|       1|      0|       0|       0|       0|   0|   4|   0|       0|      0|   7|   False|\n",
      "|  crayfish|   0|       0|   1|   0|       0|      1|       1|      0|       0|       0|       0|   0|   6|   0|       0|      0|   7|   False|\n",
      "|      crow|   0|       1|   1|   0|       1|      0|       1|      0|       1|       1|       0|   0|   2|   1|       0|      0|   2|   False|\n",
      "|      deer|   1|       0|   0|   1|       0|      0|       0|      1|       1|       1|       0|   0|   4|   1|       0|      1|   1|    True|\n",
      "|   dogfish|   0|       0|   1|   0|       0|      1|       1|      1|       1|       0|       0|   1|   0|   1|       0|      1|   4|   False|\n",
      "|   dolphin|   0|       0|   0|   1|       0|      1|       1|      1|       1|       1|       0|   1|   0|   1|       0|      1|   1|    True|\n",
      "+----------+----+--------+----+----+--------+-------+--------+-------+--------+--------+--------+----+----+----+--------+-------+----+--------+\n",
      "only showing top 20 rows\n",
      "\n"
     ]
    }
   ],
   "source": [
    "df2.show()"
   ]
  },
  {
   "cell_type": "code",
   "execution_count": 25,
   "metadata": {},
   "outputs": [
    {
     "name": "stdout",
     "output_type": "stream",
     "text": [
      "+----+--------+\n",
      "|Type|IsMammal|\n",
      "+----+--------+\n",
      "|   1|    True|\n",
      "|   1|    True|\n",
      "|   4|   False|\n",
      "|   1|    True|\n",
      "|   1|    True|\n",
      "|   1|    True|\n",
      "|   1|    True|\n",
      "|   4|   False|\n",
      "|   4|   False|\n",
      "|   1|    True|\n",
      "|   1|    True|\n",
      "|   2|   False|\n",
      "|   4|   False|\n",
      "|   7|   False|\n",
      "|   7|   False|\n",
      "|   7|   False|\n",
      "|   2|   False|\n",
      "|   1|    True|\n",
      "|   4|   False|\n",
      "|   1|    True|\n",
      "+----+--------+\n",
      "only showing top 20 rows\n",
      "\n"
     ]
    }
   ],
   "source": [
    "df2.select(\"Type\",\"IsMammal\").show()"
   ]
  },
  {
   "cell_type": "code",
   "execution_count": 26,
   "metadata": {},
   "outputs": [],
   "source": [
    "from pyspark.ml.feature import RFormula"
   ]
  },
  {
   "cell_type": "code",
   "execution_count": 29,
   "metadata": {},
   "outputs": [],
   "source": [
    "supervised = RFormula(formula = \"IsMammal ~ . + AnimalName:Hair + AnimalName:Feathers + AnimalName:Eggs + AnimalName:Milk + AnimalName:Airborne + AnimalName:Aquatic + AnimalName:Predator + AnimalName:Toothed + AnimalName:Backbone + AnimalName:Breathes + AnimalName:Venomous + AnimalName:Fins + AnimalName:Legs + AnimalName:Tail + AnimalName:Domestic + AnimalName:Catsize + AnimalName:Type\")"
   ]
  },
  {
   "cell_type": "code",
   "execution_count": 30,
   "metadata": {},
   "outputs": [
    {
     "name": "stdout",
     "output_type": "stream",
     "text": [
      "+----------+----+--------+----+----+--------+-------+--------+-------+--------+--------+--------+----+----+----+--------+-------+----+--------+--------------------+-----+\n",
      "|AnimalName|Hair|Feathers|Eggs|Milk|Airborne|Aquatic|Predator|Toothed|Backbone|Breathes|Venomous|Fins|Legs|Tail|Domestic|Catsize|Type|IsMammal|            features|label|\n",
      "+----------+----+--------+----+----+--------+-------+--------+-------+--------+--------+--------+----+----+----+--------+-------+----+--------+--------------------+-----+\n",
      "|  aardvark|   1|       0|   0|   1|       0|      0|       1|      1|       1|       1|       0|   0|   4|   0|       0|      1|   1|    True|(1816,[1,99,102,1...|  1.0|\n",
      "|  antelope|   1|       0|   0|   1|       0|      0|       0|      1|       1|       1|       0|   0|   4|   1|       0|      1|   1|    True|(1816,[2,99,102,1...|  1.0|\n",
      "|      bass|   0|       0|   1|   0|       0|      1|       1|      1|       1|       0|       0|   1|   0|   1|       0|      0|   4|   False|(1816,[3,101,104,...|  0.0|\n",
      "|      bear|   1|       0|   0|   1|       0|      0|       1|      1|       1|       1|       0|   0|   4|   0|       0|      1|   1|    True|(1816,[4,99,102,1...|  1.0|\n",
      "|      boar|   1|       0|   0|   1|       0|      0|       1|      1|       1|       1|       0|   0|   4|   1|       0|      1|   1|    True|(1816,[5,99,102,1...|  1.0|\n",
      "|   buffalo|   1|       0|   0|   1|       0|      0|       0|      1|       1|       1|       0|   0|   4|   1|       0|      1|   1|    True|(1816,[6,99,102,1...|  1.0|\n",
      "|      calf|   1|       0|   0|   1|       0|      0|       0|      1|       1|       1|       0|   0|   4|   1|       1|      1|   1|    True|(1816,[7,99,102,1...|  1.0|\n",
      "|      carp|   0|       0|   1|   0|       0|      1|       0|      1|       1|       0|       0|   1|   0|   1|       1|      0|   4|   False|(1816,[8,101,104,...|  0.0|\n",
      "|   catfish|   0|       0|   1|   0|       0|      1|       1|      1|       1|       0|       0|   1|   0|   1|       0|      0|   4|   False|(1816,[9,101,104,...|  0.0|\n",
      "|      cavy|   1|       0|   0|   1|       0|      0|       0|      1|       1|       1|       0|   0|   4|   0|       1|      0|   1|    True|(1816,[10,99,102,...|  1.0|\n",
      "|   cheetah|   1|       0|   0|   1|       0|      0|       1|      1|       1|       1|       0|   0|   4|   1|       0|      1|   1|    True|(1816,[11,99,102,...|  1.0|\n",
      "|   chicken|   0|       1|   1|   0|       1|      0|       0|      0|       1|       1|       0|   0|   2|   1|       1|      0|   2|   False|(1816,[12,100,101...|  0.0|\n",
      "|      chub|   0|       0|   1|   0|       0|      1|       1|      1|       1|       0|       0|   1|   0|   1|       0|      0|   4|   False|(1816,[13,101,104...|  0.0|\n",
      "|      clam|   0|       0|   1|   0|       0|      0|       1|      0|       0|       0|       0|   0|   0|   0|       0|      0|   7|   False|(1816,[14,101,105...|  0.0|\n",
      "|      crab|   0|       0|   1|   0|       0|      1|       1|      0|       0|       0|       0|   0|   4|   0|       0|      0|   7|   False|(1816,[15,101,104...|  0.0|\n",
      "|  crayfish|   0|       0|   1|   0|       0|      1|       1|      0|       0|       0|       0|   0|   6|   0|       0|      0|   7|   False|(1816,[16,101,104...|  0.0|\n",
      "|      crow|   0|       1|   1|   0|       1|      0|       1|      0|       1|       1|       0|   0|   2|   1|       0|      0|   2|   False|(1816,[17,100,101...|  0.0|\n",
      "|      deer|   1|       0|   0|   1|       0|      0|       0|      1|       1|       1|       0|   0|   4|   1|       0|      1|   1|    True|(1816,[18,99,102,...|  1.0|\n",
      "|   dogfish|   0|       0|   1|   0|       0|      1|       1|      1|       1|       0|       0|   1|   0|   1|       0|      1|   4|   False|(1816,[19,101,104...|  0.0|\n",
      "|   dolphin|   0|       0|   0|   1|       0|      1|       1|      1|       1|       1|       0|   1|   0|   1|       0|      1|   1|    True|(1816,[20,102,104...|  1.0|\n",
      "+----------+----+--------+----+----+--------+-------+--------+-------+--------+--------+--------+----+----+----+--------+-------+----+--------+--------------------+-----+\n",
      "only showing top 20 rows\n",
      "\n"
     ]
    }
   ],
   "source": [
    "fittedRF = supervised.fit(df2)\n",
    "preparedDF = fittedRF.transform(df2)\n",
    "preparedDF.show()"
   ]
  },
  {
   "cell_type": "code",
   "execution_count": 31,
   "metadata": {},
   "outputs": [],
   "source": [
    "train,test = preparedDF.randomSplit([0.7,0.3])"
   ]
  },
  {
   "cell_type": "code",
   "execution_count": 33,
   "metadata": {},
   "outputs": [],
   "source": [
    "from pyspark.ml.classification import LogisticRegression\n",
    "lr = LogisticRegression(labelCol = \"label\",featuresCol = \"features\")"
   ]
  },
  {
   "cell_type": "code",
   "execution_count": 34,
   "metadata": {},
   "outputs": [
    {
     "name": "stdout",
     "output_type": "stream",
     "text": [
      "aggregationDepth: suggested depth for treeAggregate (>= 2). (default: 2)\n",
      "elasticNetParam: the ElasticNet mixing parameter, in range [0, 1]. For alpha = 0, the penalty is an L2 penalty. For alpha = 1, it is an L1 penalty. (default: 0.0)\n",
      "family: The name of family which is a description of the label distribution to be used in the model. Supported options: auto, binomial, multinomial (default: auto)\n",
      "featuresCol: features column name. (default: features, current: features)\n",
      "fitIntercept: whether to fit an intercept term. (default: True)\n",
      "labelCol: label column name. (default: label, current: label)\n",
      "lowerBoundsOnCoefficients: The lower bounds on coefficients if fitting under bound constrained optimization. The bound matrix must be compatible with the shape (1, number of features) for binomial regression, or (number of classes, number of features) for multinomial regression. (undefined)\n",
      "lowerBoundsOnIntercepts: The lower bounds on intercepts if fitting under bound constrained optimization. The bounds vector size must beequal with 1 for binomial regression, or the number oflasses for multinomial regression. (undefined)\n",
      "maxBlockSizeInMB: maximum memory in MB for stacking input data into blocks. Data is stacked within partitions. If more than remaining data size in a partition then it is adjusted to the data size. Default 0.0 represents choosing optimal value, depends on specific algorithm. Must be >= 0. (default: 0.0)\n",
      "maxIter: max number of iterations (>= 0). (default: 100)\n",
      "predictionCol: prediction column name. (default: prediction)\n",
      "probabilityCol: Column name for predicted class conditional probabilities. Note: Not all models output well-calibrated probability estimates! These probabilities should be treated as confidences, not precise probabilities. (default: probability)\n",
      "rawPredictionCol: raw prediction (a.k.a. confidence) column name. (default: rawPrediction)\n",
      "regParam: regularization parameter (>= 0). (default: 0.0)\n",
      "standardization: whether to standardize the training features before fitting the model. (default: True)\n",
      "threshold: Threshold in binary classification prediction, in range [0, 1]. If threshold and thresholds are both set, they must match.e.g. if threshold is p, then thresholds must be equal to [1-p, p]. (default: 0.5)\n",
      "thresholds: Thresholds in multi-class classification to adjust the probability of predicting each class. Array must have length equal to the number of classes, with values > 0, excepting that at most one value may be 0. The class with largest value p/t is predicted, where p is the original probability of that class and t is the class's threshold. (undefined)\n",
      "tol: the convergence tolerance for iterative algorithms (>= 0). (default: 1e-06)\n",
      "upperBoundsOnCoefficients: The upper bounds on coefficients if fitting under bound constrained optimization. The bound matrix must be compatible with the shape (1, number of features) for binomial regression, or (number of classes, number of features) for multinomial regression. (undefined)\n",
      "upperBoundsOnIntercepts: The upper bounds on intercepts if fitting under bound constrained optimization. The bound vector size must be equal with 1 for binomial regression, or the number of classes for multinomial regression. (undefined)\n",
      "weightCol: weight column name. If this is not set or empty, we treat all instance weights as 1.0. (undefined)\n"
     ]
    }
   ],
   "source": [
    "print(lr.explainParams())"
   ]
  },
  {
   "cell_type": "code",
   "execution_count": 35,
   "metadata": {},
   "outputs": [],
   "source": [
    "fittedLR = lr.fit(train)"
   ]
  },
  {
   "cell_type": "code",
   "execution_count": 44,
   "metadata": {},
   "outputs": [
    {
     "name": "stdout",
     "output_type": "stream",
     "text": [
      "+----------+--------+-----+----------+\n",
      "|AnimalName|IsMammal|label|prediction|\n",
      "+----------+--------+-----+----------+\n",
      "|  antelope|    True|  1.0|       1.0|\n",
      "|      bass|   False|  0.0|       0.0|\n",
      "|      bear|    True|  1.0|       1.0|\n",
      "|      boar|    True|  1.0|       1.0|\n",
      "|   buffalo|    True|  1.0|       1.0|\n",
      "|      calf|    True|  1.0|       1.0|\n",
      "|      carp|   False|  0.0|       0.0|\n",
      "|   catfish|   False|  0.0|       0.0|\n",
      "|      cavy|    True|  1.0|       1.0|\n",
      "|   chicken|   False|  0.0|       0.0|\n",
      "|      chub|   False|  0.0|       0.0|\n",
      "|      crab|   False|  0.0|       0.0|\n",
      "|  crayfish|   False|  0.0|       0.0|\n",
      "|      crow|   False|  0.0|       0.0|\n",
      "|      deer|    True|  1.0|       1.0|\n",
      "|   dolphin|    True|  1.0|       1.0|\n",
      "|      dove|   False|  0.0|       0.0|\n",
      "|      duck|   False|  0.0|       0.0|\n",
      "|  flamingo|   False|  0.0|       0.0|\n",
      "|      flea|   False|  0.0|       0.0|\n",
      "|      frog|   False|  0.0|       0.0|\n",
      "|   giraffe|    True|  1.0|       1.0|\n",
      "|      gnat|   False|  0.0|       0.0|\n",
      "|   gorilla|    True|  1.0|       1.0|\n",
      "|   haddock|   False|  0.0|       0.0|\n",
      "|   hamster|    True|  1.0|       1.0|\n",
      "|      hare|    True|  1.0|       1.0|\n",
      "|      hawk|   False|  0.0|       0.0|\n",
      "|   herring|   False|  0.0|       0.0|\n",
      "|      lark|   False|  0.0|       0.0|\n",
      "|   leopard|    True|  1.0|       1.0|\n",
      "|      lion|    True|  1.0|       1.0|\n",
      "|   lobster|   False|  0.0|       0.0|\n",
      "|      lynx|    True|  1.0|       1.0|\n",
      "|      mole|    True|  1.0|       1.0|\n",
      "|      moth|   False|  0.0|       0.0|\n",
      "|      newt|   False|  0.0|       0.0|\n",
      "|   octopus|   False|  0.0|       0.0|\n",
      "|   opossum|    True|  1.0|       1.0|\n",
      "|  parakeet|   False|  0.0|       0.0|\n",
      "|   penguin|   False|  0.0|       0.0|\n",
      "|      pike|   False|  0.0|       0.0|\n",
      "|   piranha|   False|  0.0|       0.0|\n",
      "|  pitviper|   False|  0.0|       0.0|\n",
      "|   polecat|    True|  1.0|       1.0|\n",
      "|      pony|    True|  1.0|       1.0|\n",
      "|  porpoise|    True|  1.0|       1.0|\n",
      "|      puma|    True|  1.0|       1.0|\n",
      "|  pussycat|    True|  1.0|       1.0|\n",
      "|   raccoon|    True|  1.0|       1.0|\n",
      "|  reindeer|    True|  1.0|       1.0|\n",
      "|      rhea|   False|  0.0|       0.0|\n",
      "|  scorpion|   False|  0.0|       0.0|\n",
      "|   sealion|    True|  1.0|       1.0|\n",
      "|  seasnake|   False|  0.0|       0.0|\n",
      "|   seawasp|   False|  0.0|       0.0|\n",
      "|   skimmer|   False|  0.0|       0.0|\n",
      "|      skua|   False|  0.0|       0.0|\n",
      "|  slowworm|   False|  0.0|       0.0|\n",
      "|      slug|   False|  0.0|       0.0|\n",
      "|      sole|   False|  0.0|       0.0|\n",
      "|   sparrow|   False|  0.0|       0.0|\n",
      "|  squirrel|    True|  1.0|       1.0|\n",
      "|  starfish|   False|  0.0|       0.0|\n",
      "|  stingray|   False|  0.0|       0.0|\n",
      "|      swan|   False|  0.0|       0.0|\n",
      "|   termite|   False|  0.0|       0.0|\n",
      "|      toad|   False|  0.0|       0.0|\n",
      "|  tortoise|   False|  0.0|       0.0|\n",
      "|   tuatara|   False|  0.0|       0.0|\n",
      "|      tuna|   False|  0.0|       0.0|\n",
      "|   vampire|    True|  1.0|       1.0|\n",
      "|      vole|    True|  1.0|       1.0|\n",
      "|   vulture|   False|  0.0|       0.0|\n",
      "|   wallaby|    True|  1.0|       1.0|\n",
      "|      wasp|   False|  0.0|       0.0|\n",
      "|      wolf|    True|  1.0|       1.0|\n",
      "|      wren|   False|  0.0|       0.0|\n",
      "+----------+--------+-----+----------+\n",
      "\n"
     ]
    }
   ],
   "source": [
    "fittedLR.transform(train).select(\"AnimalName\",\"IsMammal\",\"label\",\"prediction\").show(100)"
   ]
  },
  {
   "cell_type": "code",
   "execution_count": null,
   "metadata": {},
   "outputs": [],
   "source": []
  },
  {
   "cell_type": "code",
   "execution_count": null,
   "metadata": {},
   "outputs": [],
   "source": []
  }
 ],
 "metadata": {
  "kernelspec": {
   "display_name": "Python 3",
   "language": "python",
   "name": "python3"
  },
  "language_info": {
   "codemirror_mode": {
    "name": "ipython",
    "version": 3
   },
   "file_extension": ".py",
   "mimetype": "text/x-python",
   "name": "python",
   "nbconvert_exporter": "python",
   "pygments_lexer": "ipython3",
   "version": "3.8.8"
  }
 },
 "nbformat": 4,
 "nbformat_minor": 4
}
