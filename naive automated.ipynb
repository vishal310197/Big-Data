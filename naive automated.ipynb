{
 "cells": [
  {
   "cell_type": "code",
   "execution_count": 1,
   "metadata": {},
   "outputs": [],
   "source": [
    "\n",
    "import pandas as pd\n",
    "import math as m\n",
    "\n",
    "\n",
    "df = pd.DataFrame({'age':[59,35,37,52,48,37,37,48,41,37,39,49,55,37,35,36,42],\n",
    "                   'salary':[88000,61000,70000,21000,141000,93000,62000,138000,79000,78000,134000,89000,39000,77000,57000,63000,73000],\n",
    "                   'purchased':['0','1','0','0','1','0','1','0','1','0','0','0','0','1','1','1','0']})\n",
    "\n",
    "totalNo = df[df['purchased'] == '0']\n",
    "totalYes = df[df['purchased'] == '1']\n",
    "\n",
    "sumYes = totalYes['salary'].sum()\n",
    "sumNo = totalNo['salary'].sum()\n",
    "\n",
    "sumYesAge = totalYes['age'].sum()\n",
    "sumNoAge = totalNo['age'].sum()"
   ]
  },
  {
   "cell_type": "code",
   "execution_count": 1,
   "metadata": {},
   "outputs": [
    {
     "data": {
      "text/html": [
       "<div>\n",
       "<style scoped>\n",
       "    .dataframe tbody tr th:only-of-type {\n",
       "        vertical-align: middle;\n",
       "    }\n",
       "\n",
       "    .dataframe tbody tr th {\n",
       "        vertical-align: top;\n",
       "    }\n",
       "\n",
       "    .dataframe thead th {\n",
       "        text-align: right;\n",
       "    }\n",
       "</style>\n",
       "<table border=\"1\" class=\"dataframe\">\n",
       "  <thead>\n",
       "    <tr style=\"text-align: right;\">\n",
       "      <th></th>\n",
       "      <th>ID</th>\n",
       "      <th>Type</th>\n",
       "      <th>Amount</th>\n",
       "      <th>OldBalance</th>\n",
       "      <th>isFraud</th>\n",
       "    </tr>\n",
       "  </thead>\n",
       "  <tbody>\n",
       "    <tr>\n",
       "      <th>0</th>\n",
       "      <td>1</td>\n",
       "      <td>PAYMENT</td>\n",
       "      <td>9839.64</td>\n",
       "      <td>170136.00</td>\n",
       "      <td>0</td>\n",
       "    </tr>\n",
       "    <tr>\n",
       "      <th>1</th>\n",
       "      <td>2</td>\n",
       "      <td>PAYMENT</td>\n",
       "      <td>1864.28</td>\n",
       "      <td>21249.00</td>\n",
       "      <td>0</td>\n",
       "    </tr>\n",
       "    <tr>\n",
       "      <th>2</th>\n",
       "      <td>3</td>\n",
       "      <td>TRANSFER</td>\n",
       "      <td>181.00</td>\n",
       "      <td>181.00</td>\n",
       "      <td>1</td>\n",
       "    </tr>\n",
       "    <tr>\n",
       "      <th>3</th>\n",
       "      <td>4</td>\n",
       "      <td>CASH_OUT</td>\n",
       "      <td>181.00</td>\n",
       "      <td>181.00</td>\n",
       "      <td>1</td>\n",
       "    </tr>\n",
       "    <tr>\n",
       "      <th>4</th>\n",
       "      <td>5</td>\n",
       "      <td>TRANSFER</td>\n",
       "      <td>865948.49</td>\n",
       "      <td>865948.49</td>\n",
       "      <td>1</td>\n",
       "    </tr>\n",
       "    <tr>\n",
       "      <th>5</th>\n",
       "      <td>6</td>\n",
       "      <td>CASH_OUT</td>\n",
       "      <td>86120.87</td>\n",
       "      <td>94120.40</td>\n",
       "      <td>1</td>\n",
       "    </tr>\n",
       "    <tr>\n",
       "      <th>6</th>\n",
       "      <td>7</td>\n",
       "      <td>CASH_OUT</td>\n",
       "      <td>5378.12</td>\n",
       "      <td>39005.00</td>\n",
       "      <td>0</td>\n",
       "    </tr>\n",
       "    <tr>\n",
       "      <th>7</th>\n",
       "      <td>8</td>\n",
       "      <td>PAYMENT</td>\n",
       "      <td>6027.23</td>\n",
       "      <td>175690.81</td>\n",
       "      <td>0</td>\n",
       "    </tr>\n",
       "    <tr>\n",
       "      <th>8</th>\n",
       "      <td>9</td>\n",
       "      <td>TRANSFER</td>\n",
       "      <td>539880.48</td>\n",
       "      <td>56395.00</td>\n",
       "      <td>0</td>\n",
       "    </tr>\n",
       "    <tr>\n",
       "      <th>9</th>\n",
       "      <td>10</td>\n",
       "      <td>PAYMENT</td>\n",
       "      <td>4300.00</td>\n",
       "      <td>4305.75</td>\n",
       "      <td>1</td>\n",
       "    </tr>\n",
       "  </tbody>\n",
       "</table>\n",
       "</div>"
      ],
      "text/plain": [
       "   ID      Type     Amount  OldBalance  isFraud\n",
       "0   1   PAYMENT    9839.64   170136.00        0\n",
       "1   2   PAYMENT    1864.28    21249.00        0\n",
       "2   3  TRANSFER     181.00      181.00        1\n",
       "3   4  CASH_OUT     181.00      181.00        1\n",
       "4   5  TRANSFER  865948.49   865948.49        1\n",
       "5   6  CASH_OUT   86120.87    94120.40        1\n",
       "6   7  CASH_OUT    5378.12    39005.00        0\n",
       "7   8   PAYMENT    6027.23   175690.81        0\n",
       "8   9  TRANSFER  539880.48    56395.00        0\n",
       "9  10   PAYMENT    4300.00     4305.75        1"
      ]
     },
     "execution_count": 1,
     "metadata": {},
     "output_type": "execute_result"
    }
   ],
   "source": [
    "import pandas as pd\n",
    "df = pd.read_csv('gnb.csv')\n",
    "df"
   ]
  },
  {
   "cell_type": "code",
   "execution_count": 2,
   "metadata": {},
   "outputs": [],
   "source": [
    "def calculateMean(sum, total):\n",
    "    mean = sum / total\n",
    "    return mean"
   ]
  },
  {
   "cell_type": "code",
   "execution_count": 3,
   "metadata": {},
   "outputs": [],
   "source": [
    "totalNo = df[df['isFraud'] == '0']\n",
    "totalYes = df[df['isFraud'] == '1']\n",
    "\n",
    "sumYes = totalYes['Amount'].sum()\n",
    "sumNo = totalNo['Amount'].sum()\n",
    "\n",
    "sumYesAge = totalYes['OldBalance'].sum()\n",
    "sumNoAge = totalNo['OldBalance'].sum()"
   ]
  },
  {
   "cell_type": "code",
   "execution_count": 4,
   "metadata": {},
   "outputs": [
    {
     "name": "stdout",
     "output_type": "stream",
     "text": [
      "Mean value for yes: nan\n",
      "Mean value for No: nan\n"
     ]
    },
    {
     "name": "stderr",
     "output_type": "stream",
     "text": [
      "<ipython-input-2-eb49a3cbc7d8>:2: RuntimeWarning: invalid value encountered in double_scalars\n",
      "  mean = sum / total\n"
     ]
    }
   ],
   "source": [
    "meanYes = calculateMean(sumYes, totalYes['Amount'].count())\n",
    "print(\"Mean value for yes:\",round(meanYes,2))\n",
    "meanNo = calculateMean(sumNo, totalNo['Amount'].count())\n",
    "print(\"Mean value for No:\",round(meanNo,2))"
   ]
  },
  {
   "cell_type": "code",
   "execution_count": 4,
   "metadata": {},
   "outputs": [
    {
     "name": "stdout",
     "output_type": "stream",
     "text": [
      "Mean value for yes age: 38.43\n",
      "Mean value for No age: 45.5\n"
     ]
    }
   ],
   "source": [
    "meanYesAge = calculateMean(sumYesAge, totalYes['age'].count())\n",
    "print(\"Mean value for yes age:\",round(meanYesAge,2))\n",
    "meanNoAge = calculateMean(sumNoAge, totalNo['age'].count())\n",
    "print(\"Mean value for No age:\",round(meanNoAge,2))\n",
    "\n",
    "listYes = totalYes['salary'].tolist()\n",
    "listNo = totalNo['salary'].tolist()\n",
    "\n",
    "listYesAge = totalYes['age'].tolist()\n",
    "listNoAge = totalNo['age'].tolist()"
   ]
  },
  {
   "cell_type": "code",
   "execution_count": 5,
   "metadata": {},
   "outputs": [],
   "source": [
    "def calculateVarience(mean, list, total):\n",
    "    totalVal = 0\n",
    "    for l in list:\n",
    "        val = (l - mean) ** 2\n",
    "        totalVal = totalVal + val\n",
    "    std = m.sqrt(totalVal / (total - 1))\n",
    "    print(\"Standard Deviation:\", round(std,2))\n",
    "    varience = totalVal / (total - 1)\n",
    "    return varience"
   ]
  },
  {
   "cell_type": "code",
   "execution_count": 6,
   "metadata": {},
   "outputs": [
    {
     "name": "stdout",
     "output_type": "stream",
     "text": [
      "Standard Deviation: 29373.62\n",
      "Varience for Yes: 862809523.81\n",
      "Standard Deviation: 36295.24\n",
      "Varience for No: 1317344444.44\n",
      "Standard Deviation: 4.69\n",
      "Varience for Yes Age: 21.95\n",
      "Standard Deviation: 8.2\n",
      "Varience for No Age: 67.17\n"
     ]
    }
   ],
   "source": [
    "varienceYes = calculateVarience(meanYes, listYes, totalYes['purchased'].count())\n",
    "print(\"Varience for Yes:\",round(varienceYes,2))\n",
    "varienceNo = calculateVarience(meanNo, listNo, totalNo['purchased'].count())\n",
    "print(\"Varience for No:\",round(varienceNo,2))\n",
    "\n",
    "varienceYesAge = calculateVarience(meanYesAge, listYesAge, totalYes['age'].count())\n",
    "print(\"Varience for Yes Age:\",round(varienceYesAge,2))\n",
    "varienceNoAge = calculateVarience(meanNoAge, listNoAge, totalNo['age'].count())\n",
    "print(\"Varience for No Age:\",round(varienceNoAge,2))"
   ]
  },
  {
   "cell_type": "code",
   "execution_count": 7,
   "metadata": {},
   "outputs": [],
   "source": [
    "def probability(mean, varience, x):\n",
    "    p = (1 / (m.sqrt(varience * 2 * m.pi))) * pow(m.e,((-1/2)*pow((x - mean),2))/varience)\n",
    "    return p"
   ]
  },
  {
   "cell_type": "code",
   "execution_count": 8,
   "metadata": {},
   "outputs": [
    {
     "name": "stdout",
     "output_type": "stream",
     "text": [
      "P(38|1): 0.08479151603350477\n",
      "P(38|0): 0.03202425896032866\n"
     ]
    }
   ],
   "source": [
    "pYesAge = probability(meanYesAge, varienceYesAge, 38)\n",
    "print(\"P(38|1):\",pYesAge)\n",
    "pNoAge = probability(meanNoAge, varienceNoAge, 38)\n",
    "print(\"P(38|0):\",pNoAge)"
   ]
  },
  {
   "cell_type": "code",
   "execution_count": 9,
   "metadata": {},
   "outputs": [
    {
     "name": "stdout",
     "output_type": "stream",
     "text": [
      "p(1): 0.4117647058823529\n",
      "p(0): 0.5882352941176471\n"
     ]
    }
   ],
   "source": [
    "pYes = totalYes.__len__()/df.__len__()\n",
    "print(\"p(1):\", pYes)\n",
    "pNo = totalNo.__len__()/df.__len__()\n",
    "print(\"p(0):\", pNo)"
   ]
  },
  {
   "cell_type": "code",
   "execution_count": 10,
   "metadata": {},
   "outputs": [
    {
     "name": "stdout",
     "output_type": "stream",
     "text": [
      "P(71000|1): 1.3287881202425882e-05\n",
      "P(71000|0): 1.0471583113637713e-05\n"
     ]
    }
   ],
   "source": [
    "pYesSalary = probability(meanYes, varienceYes, 71000)\n",
    "print(\"P(71000|1):\",pYesSalary)\n",
    "pNoSalary = probability(meanNo, varienceNo, 71000)\n",
    "print(\"P(71000|0):\",pNoSalary)"
   ]
  },
  {
   "cell_type": "code",
   "execution_count": 11,
   "metadata": {},
   "outputs": [
    {
     "name": "stdout",
     "output_type": "stream",
     "text": [
      "P(1|38,71000):4.64e-07\n"
     ]
    }
   ],
   "source": [
    "pYesSalaryAge = pYes * pYesAge * pYesSalary\n",
    "print(\"P(1|38,71000):%s\"%round(pYesSalaryAge,9))"
   ]
  },
  {
   "cell_type": "code",
   "execution_count": 12,
   "metadata": {},
   "outputs": [
    {
     "name": "stdout",
     "output_type": "stream",
     "text": [
      "P(0|38,71000):1.97e-07\n"
     ]
    }
   ],
   "source": [
    "pNoSalaryAge = pNo * pNoAge * pNoSalary\n",
    "print(\"P(0|38,71000):%s\"%round(pNoSalaryAge,9))"
   ]
  },
  {
   "cell_type": "code",
   "execution_count": null,
   "metadata": {},
   "outputs": [],
   "source": []
  }
 ],
 "metadata": {
  "kernelspec": {
   "display_name": "Python 3",
   "language": "python",
   "name": "python3"
  },
  "language_info": {
   "codemirror_mode": {
    "name": "ipython",
    "version": 3
   },
   "file_extension": ".py",
   "mimetype": "text/x-python",
   "name": "python",
   "nbconvert_exporter": "python",
   "pygments_lexer": "ipython3",
   "version": "3.8.8"
  }
 },
 "nbformat": 4,
 "nbformat_minor": 4
}
