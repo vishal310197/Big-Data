{
 "cells": [
  {
   "cell_type": "code",
   "execution_count": 1,
   "metadata": {},
   "outputs": [],
   "source": [
    "# import spark into the notebook\n",
    "import findspark\n",
    "findspark.init()"
   ]
  },
  {
   "cell_type": "code",
   "execution_count": 2,
   "metadata": {},
   "outputs": [],
   "source": [
    "# import important libraries\n",
    "import pyspark\n",
    "from pyspark.sql.functions import col, mean, variance, expr\n",
    "import math"
   ]
  },
  {
   "cell_type": "code",
   "execution_count": 3,
   "metadata": {},
   "outputs": [],
   "source": [
    "sparkContext = pyspark.SparkContext(\"local\", \"Programming Task\")\n",
    "sparkContext.setLogLevel('ERROR')\n",
    "spark = pyspark.sql.SparkSession(sparkContext)"
   ]
  },
  {
   "cell_type": "code",
   "execution_count": 4,
   "metadata": {},
   "outputs": [
    {
     "name": "stdout",
     "output_type": "stream",
     "text": [
      "+---+-----------------+------+----------+-------------+-------------------+------------------+--------------+------+-------+------------+------------+--------------+--------------+------+\n",
      "|age|        workclass|fnlwgt| education|education-num|     marital-status|        occupation|  relationship|  race|    sex|capital-gain|capital-loss|hours-per-week|native-country|income|\n",
      "+---+-----------------+------+----------+-------------+-------------------+------------------+--------------+------+-------+------------+------------+--------------+--------------+------+\n",
      "| 39|        State-gov| 77516| Bachelors|           13|      Never-married|      Adm-clerical| Not-in-family| White|   Male|        2174|           0|            40| United-States| <=50K|\n",
      "| 50| Self-emp-not-inc| 83311| Bachelors|           13| Married-civ-spouse|   Exec-managerial|       Husband| White|   Male|           0|           0|            13| United-States| <=50K|\n",
      "| 38|          Private|215646|   HS-grad|            9|           Divorced| Handlers-cleaners| Not-in-family| White|   Male|           0|           0|            40| United-States| <=50K|\n",
      "| 53|          Private|234721|      11th|            7| Married-civ-spouse| Handlers-cleaners|       Husband| Black|   Male|           0|           0|            40| United-States| <=50K|\n",
      "| 28|          Private|338409| Bachelors|           13| Married-civ-spouse|    Prof-specialty|          Wife| Black| Female|           0|           0|            40|          Cuba| <=50K|\n",
      "+---+-----------------+------+----------+-------------+-------------------+------------------+--------------+------+-------+------------+------------+--------------+--------------+------+\n",
      "only showing top 5 rows\n",
      "\n"
     ]
    }
   ],
   "source": [
    "dataframe = spark.read.option(\"header\", \"true\").option(\"inferSchema\", \"true\").csv(\"./income_evaluation.csv\")\n",
    "dataframe.show(5)"
   ]
  },
  {
   "cell_type": "code",
   "execution_count": 5,
   "metadata": {},
   "outputs": [],
   "source": [
    "# Task 1: Print the schema of the dataframe"
   ]
  },
  {
   "cell_type": "code",
   "execution_count": 6,
   "metadata": {},
   "outputs": [],
   "source": [
    "# Task 2 drop rows with missing values"
   ]
  },
  {
   "cell_type": "code",
   "execution_count": 7,
   "metadata": {},
   "outputs": [
    {
     "name": "stdout",
     "output_type": "stream",
     "text": [
      "+-----------------+------+-------------+------------+--------------+\n",
      "|        workclass|fnlwgt|education-num|capital-gain|hours-per-week|\n",
      "+-----------------+------+-------------+------------+--------------+\n",
      "|        State-gov| 77516|           13|        2174|            40|\n",
      "| Self-emp-not-inc| 83311|           13|           0|            13|\n",
      "|          Private|215646|            9|           0|            40|\n",
      "|          Private|234721|            7|           0|            40|\n",
      "|          Private|338409|           13|           0|            40|\n",
      "|          Private|284582|           14|           0|            40|\n",
      "|          Private|160187|            5|           0|            16|\n",
      "| Self-emp-not-inc|209642|            9|           0|            45|\n",
      "|          Private| 45781|           14|       14084|            50|\n",
      "|          Private|159449|           13|        5178|            40|\n",
      "|          Private|280464|           10|           0|            80|\n",
      "|        State-gov|141297|           13|           0|            40|\n",
      "|          Private|122272|           13|           0|            30|\n",
      "|          Private|205019|           12|           0|            50|\n",
      "|          Private|121772|           11|           0|            40|\n",
      "|          Private|245487|            4|           0|            45|\n",
      "| Self-emp-not-inc|176756|            9|           0|            35|\n",
      "|          Private|186824|            9|           0|            40|\n",
      "|          Private| 28887|            7|           0|            50|\n",
      "| Self-emp-not-inc|292175|           14|           0|            45|\n",
      "+-----------------+------+-------------+------------+--------------+\n",
      "only showing top 20 rows\n",
      "\n"
     ]
    }
   ],
   "source": [
    "# Task 3 select only the following columns ['workclass', 'fnlwgt', 'education-num', 'capital-gain', \"hours-per-week\"]\n",
    "dataframe = dataframe.select(col(\"workclass\"), col(\"fnlwgt\"), col(\"education-num\"), col(\"capital-gain\"), col(\"hours-per-week\"))\n",
    "dataframe.show()"
   ]
  },
  {
   "cell_type": "code",
   "execution_count": 10,
   "metadata": {},
   "outputs": [],
   "source": [
    "# Define functiton that returns a dataframe that contains the means of both potability 0 and potability 1\n",
    "########################################\n",
    "# workclass  |  col 1  | col 2  | ...   #\n",
    "#  class 1   |mean 1.1 |mean 1.2| ...   #\n",
    "#  class 2   |mean 0.1 |mean 0.2| ...   #\n",
    "########################################\n",
    "def calculate_mean(dataframe):\n",
    "    # Complete this function\n",
    "    new = dataframe.groupBy('workclass').mean()\n",
    "    return new"
   ]
  },
  {
   "cell_type": "code",
   "execution_count": 11,
   "metadata": {},
   "outputs": [
    {
     "name": "stdout",
     "output_type": "stream",
     "text": [
      "+-----------------+------------------+------------------+------------------+-------------------+\n",
      "|        workclass|       avg(fnlwgt)|avg(education-num)| avg(capital-gain)|avg(hours-per-week)|\n",
      "+-----------------+------------------+------------------+------------------+-------------------+\n",
      "|        State-gov|184136.61325115562|11.375963020030817| 701.6995377503852|  39.03158705701079|\n",
      "|      Federal-gov|      185221.24375|10.973958333333334| 833.2322916666667|  41.37916666666667|\n",
      "| Self-emp-not-inc|175608.64147973238|10.226288862652499|1886.0617866981504| 44.421881149153876|\n",
      "|        Local-gov|188639.71285236502|11.042044911610128|  880.202580028667|  40.98279980888677|\n",
      "|          Private| 192764.1147338738| 9.879714487134297| 889.2177916813536| 40.267095523440254|\n",
      "|                ?|188516.33823529413| 9.260348583877995| 606.7957516339869|  31.91938997821351|\n",
      "|     Self-emp-inc| 175981.3440860215|11.137096774193548| 4875.693548387097|  48.81810035842294|\n",
      "|      Without-pay|          174267.5| 9.071428571428571|487.85714285714283| 32.714285714285715|\n",
      "|     Never-worked|225989.57142857142| 7.428571428571429|               0.0| 28.428571428571427|\n",
      "+-----------------+------------------+------------------+------------------+-------------------+\n",
      "\n"
     ]
    }
   ],
   "source": [
    "means = calculate_mean(dataframe)\n",
    "means.show()"
   ]
  },
  {
   "cell_type": "code",
   "execution_count": 21,
   "metadata": {},
   "outputs": [],
   "source": [
    "# Return a dataframe that contains variance of both classes of Potability\n",
    "########################################\n",
    "# Potability  |  col 1 | col 2 | ...   #\n",
    "#      1      |var 1.1 |var 1.2| ...   #\n",
    "#      0      |var 0.1 |var 0.2| ...   #\n",
    "########################################\n",
    "def calculate_variance(dataframe):\n",
    "    # Complete this function\n",
    "    new = dataframe.groupBy('workclass').variance()\n",
    "    return new"
   ]
  },
  {
   "cell_type": "code",
   "execution_count": 22,
   "metadata": {},
   "outputs": [
    {
     "ename": "AttributeError",
     "evalue": "'GroupedData' object has no attribute 'variance'",
     "output_type": "error",
     "traceback": [
      "\u001b[1;31m---------------------------------------------------------------------------\u001b[0m",
      "\u001b[1;31mAttributeError\u001b[0m                            Traceback (most recent call last)",
      "\u001b[1;32m<ipython-input-22-c004cdad1b18>\u001b[0m in \u001b[0;36m<module>\u001b[1;34m\u001b[0m\n\u001b[1;32m----> 1\u001b[1;33m \u001b[0mvariances\u001b[0m \u001b[1;33m=\u001b[0m \u001b[0mcalculate_variance\u001b[0m\u001b[1;33m(\u001b[0m\u001b[0mdataframe\u001b[0m\u001b[1;33m)\u001b[0m\u001b[1;33m\u001b[0m\u001b[1;33m\u001b[0m\u001b[0m\n\u001b[0m\u001b[0;32m      2\u001b[0m \u001b[0mvariances\u001b[0m\u001b[1;33m.\u001b[0m\u001b[0mshow\u001b[0m\u001b[1;33m(\u001b[0m\u001b[1;33m)\u001b[0m\u001b[1;33m\u001b[0m\u001b[1;33m\u001b[0m\u001b[0m\n",
      "\u001b[1;32m<ipython-input-21-3905ccfafb24>\u001b[0m in \u001b[0;36mcalculate_variance\u001b[1;34m(dataframe)\u001b[0m\n\u001b[0;32m      7\u001b[0m \u001b[1;32mdef\u001b[0m \u001b[0mcalculate_variance\u001b[0m\u001b[1;33m(\u001b[0m\u001b[0mdataframe\u001b[0m\u001b[1;33m)\u001b[0m\u001b[1;33m:\u001b[0m\u001b[1;33m\u001b[0m\u001b[1;33m\u001b[0m\u001b[0m\n\u001b[0;32m      8\u001b[0m     \u001b[1;31m# Complete this function\u001b[0m\u001b[1;33m\u001b[0m\u001b[1;33m\u001b[0m\u001b[1;33m\u001b[0m\u001b[0m\n\u001b[1;32m----> 9\u001b[1;33m     \u001b[0mnew\u001b[0m \u001b[1;33m=\u001b[0m \u001b[0mdataframe\u001b[0m\u001b[1;33m.\u001b[0m\u001b[0mgroupBy\u001b[0m\u001b[1;33m(\u001b[0m\u001b[1;34m'workclass'\u001b[0m\u001b[1;33m)\u001b[0m\u001b[1;33m.\u001b[0m\u001b[0mvariance\u001b[0m\u001b[1;33m(\u001b[0m\u001b[1;33m)\u001b[0m\u001b[1;33m\u001b[0m\u001b[1;33m\u001b[0m\u001b[0m\n\u001b[0m\u001b[0;32m     10\u001b[0m     \u001b[1;32mreturn\u001b[0m \u001b[0mnew\u001b[0m\u001b[1;33m\u001b[0m\u001b[1;33m\u001b[0m\u001b[0m\n",
      "\u001b[1;31mAttributeError\u001b[0m: 'GroupedData' object has no attribute 'variance'"
     ]
    }
   ],
   "source": [
    "variances = calculate_variance(dataframe)\n",
    "variances.show()"
   ]
  },
  {
   "cell_type": "code",
   "execution_count": 27,
   "metadata": {},
   "outputs": [
    {
     "data": {
      "text/plain": [
       "0.0"
      ]
     },
     "execution_count": 27,
     "metadata": {},
     "output_type": "execute_result"
    }
   ],
   "source": [
    "# Calculate probability of work class being State-gov\n",
    "p_state_gov = (dataframe.filter(col('workclass')=='State-gov').count())/(dataframe.count())\n",
    "p_state_gov"
   ]
  },
  {
   "cell_type": "code",
   "execution_count": null,
   "metadata": {},
   "outputs": [],
   "source": [
    "# Calculate probability of work class being Private\n",
    "p_private = # Enter code here\n",
    "p_private"
   ]
  },
  {
   "cell_type": "code",
   "execution_count": 30,
   "metadata": {},
   "outputs": [
    {
     "name": "stdout",
     "output_type": "stream",
     "text": [
      "+-----------------+-----+\n",
      "|        workclass|count|\n",
      "+-----------------+-----+\n",
      "|        State-gov| 1298|\n",
      "|      Federal-gov|  960|\n",
      "| Self-emp-not-inc| 2541|\n",
      "|        Local-gov| 2093|\n",
      "|          Private|22696|\n",
      "|                ?| 1836|\n",
      "|     Self-emp-inc| 1116|\n",
      "|      Without-pay|   14|\n",
      "|     Never-worked|    7|\n",
      "+-----------------+-----+\n",
      "\n"
     ]
    }
   ],
   "source": [
    "dataframe.groupBy('workclass').count().show()"
   ]
  },
  {
   "cell_type": "code",
   "execution_count": 25,
   "metadata": {},
   "outputs": [
    {
     "data": {
      "text/plain": [
       "32561"
      ]
     },
     "execution_count": 25,
     "metadata": {},
     "output_type": "execute_result"
    }
   ],
   "source": [
    "dataframe.count()"
   ]
  },
  {
   "cell_type": "code",
   "execution_count": 31,
   "metadata": {},
   "outputs": [
    {
     "data": {
      "text/plain": [
       "0.039863640551580114"
      ]
     },
     "execution_count": 31,
     "metadata": {},
     "output_type": "execute_result"
    }
   ],
   "source": [
    "1298/32561"
   ]
  },
  {
   "cell_type": "code",
   "execution_count": 32,
   "metadata": {},
   "outputs": [
    {
     "data": {
      "text/plain": [
       "0.6970301894904948"
      ]
     },
     "execution_count": 32,
     "metadata": {},
     "output_type": "execute_result"
    }
   ],
   "source": [
    "22696/32561"
   ]
  },
  {
   "cell_type": "code",
   "execution_count": null,
   "metadata": {},
   "outputs": [],
   "source": []
  }
 ],
 "metadata": {
  "kernelspec": {
   "display_name": "Python 3",
   "language": "python",
   "name": "python3"
  },
  "language_info": {
   "codemirror_mode": {
    "name": "ipython",
    "version": 3
   },
   "file_extension": ".py",
   "mimetype": "text/x-python",
   "name": "python",
   "nbconvert_exporter": "python",
   "pygments_lexer": "ipython3",
   "version": "3.8.8"
  }
 },
 "nbformat": 4,
 "nbformat_minor": 4
}
