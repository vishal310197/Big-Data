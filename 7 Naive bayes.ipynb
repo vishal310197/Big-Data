{
 "cells": [
  {
   "cell_type": "code",
   "execution_count": 12,
   "id": "59328741",
   "metadata": {},
   "outputs": [],
   "source": [
    "import pandas as pd\n",
    "import numpy as np\n",
    "import findspark\n",
    "findspark.init('C:\\spark\\spark-3.1.2-bin-hadoop3.2')\n",
    "import pyspark\n",
    "\n",
    "from pyspark.sql import SparkSession\n",
    "from pyspark.context import SparkContext\n",
    "from pyspark import SparkConf\n",
    "from pyspark.sql.functions import *\n",
    "sc = SparkContext.getOrCreate()\n",
    "spark = SparkSession(sc)"
   ]
  },
  {
   "cell_type": "markdown",
   "id": "acc37dd9",
   "metadata": {},
   "source": [
    "# Dataset 1"
   ]
  },
  {
   "cell_type": "code",
   "execution_count": 6,
   "id": "955863b4",
   "metadata": {},
   "outputs": [
    {
     "name": "stdout",
     "output_type": "stream",
     "text": [
      "+--------+-----------+--------+-----+----+\n",
      "| Outlook|Temperature|Humidity|Windy|Play|\n",
      "+--------+-----------+--------+-----+----+\n",
      "|   sunny|        hot|    high|false|  NO|\n",
      "|   sunny|        hot|    high| true|  NO|\n",
      "|overcast|        hot|    high|false| YES|\n",
      "|   rainy|       mild|    high|false| YES|\n",
      "|   rainy|       cool|  normal|false| YES|\n",
      "+--------+-----------+--------+-----+----+\n",
      "only showing top 5 rows\n",
      "\n"
     ]
    }
   ],
   "source": [
    "#Naive Bayes\n",
    "\n",
    "weather = spark.read.option(\"inferschema\",\"true\").option(\"header\",\"true\").csv(\"weather.csv\")\n",
    "weather.show(5)"
   ]
  },
  {
   "cell_type": "code",
   "execution_count": 13,
   "id": "e16269ca",
   "metadata": {},
   "outputs": [],
   "source": [
    "#P(yes)\n",
    "total = weather.count()\n",
    "total_yes = weather.where(col('Play')=='YES').count()\n",
    "\n",
    "\n",
    "\n",
    "\n",
    "#P(no)\n",
    "total_no = weather.where(col('Play')=='NO').count()\n"
   ]
  },
  {
   "cell_type": "code",
   "execution_count": 14,
   "id": "07b28d2c",
   "metadata": {},
   "outputs": [
    {
     "name": "stdout",
     "output_type": "stream",
     "text": [
      "0.2222222222222222\n",
      "0.6\n",
      "0.4444444444444444\n",
      "0.0\n",
      "0.3333333333333333\n",
      "0.4\n"
     ]
    }
   ],
   "source": [
    "#outlook (col 1)\n",
    "sunny = weather.where(col('Outlook')=='sunny')\n",
    "s_c = sunny.count()\n",
    "s_yes = sunny.where(col('Play')=='YES').count()\n",
    "s_no = sunny.where(col('Play')=='NO').count()\n",
    "sunny_yes = s_yes/total_yes\n",
    "sunny_no = s_no/total_no\n",
    "print(sunny_yes)\n",
    "print(sunny_no)\n",
    "\n",
    "overcast = weather.where(col('Outlook')=='overcast')\n",
    "o_c = overcast.count()\n",
    "o_yes = overcast.where(col('Play')=='YES').count()\n",
    "o_no = overcast.where(col('Play')=='NO').count()\n",
    "overcast_yes = o_yes/total_yes\n",
    "overcast_no = o_no/total_no\n",
    "print(overcast_yes)\n",
    "print(overcast_no)\n",
    "\n",
    "rainy = weather.where(col('Outlook')=='rainy')\n",
    "r_yes = rainy.where(col('Play')=='YES').count()\n",
    "r_no = rainy.where(col('Play')=='NO').count()\n",
    "rainy_yes = r_yes/total_yes\n",
    "rainy_no = r_no/total_no\n",
    "print(rainy_yes)\n",
    "print(rainy_no)"
   ]
  },
  {
   "cell_type": "code",
   "execution_count": 15,
   "id": "d4ae57c6",
   "metadata": {},
   "outputs": [
    {
     "name": "stdout",
     "output_type": "stream",
     "text": [
      "0.3333333333333333\n",
      "0.2\n",
      "0.2222222222222222\n",
      "0.4\n",
      "0.4444444444444444\n",
      "0.4\n"
     ]
    }
   ],
   "source": [
    "#Temprature(col 2)\n",
    "cool = weather.where(col('Temperature')=='cool')\n",
    "c_yes = cool.where(col('Play')=='YES').count()\n",
    "c_no = cool.where(col('Play')=='NO').count()\n",
    "cool_yes = c_yes/total_yes\n",
    "cool_no = c_no/total_no\n",
    "print(cool_yes)\n",
    "print(cool_no)\n",
    "\n",
    "hot = weather.where(col('Temperature')=='hot')\n",
    "h_yes = hot.where(col('Play')=='YES').count()\n",
    "h_no = hot.where(col('Play')=='NO').count()\n",
    "hot_yes = h_yes/total_yes\n",
    "hot_no = h_no/total_no\n",
    "print(hot_yes)\n",
    "print(hot_no)\n",
    "\n",
    "mild = weather.where(col('Temperature')=='mild')\n",
    "m_yes = mild.where(col('Play')=='YES').count()\n",
    "m_no = mild.where(col('Play')=='NO').count()\n",
    "mild_yes = m_yes/total_yes\n",
    "mild_no = m_no/total_no\n",
    "print(mild_yes)\n",
    "print(mild_no)"
   ]
  },
  {
   "cell_type": "code",
   "execution_count": 16,
   "id": "4e1547f7",
   "metadata": {},
   "outputs": [
    {
     "name": "stdout",
     "output_type": "stream",
     "text": [
      "0.6666666666666666\n",
      "0.4\n",
      "0.3333333333333333\n",
      "0.6\n"
     ]
    }
   ],
   "source": [
    "#windy(col 3)\n",
    "windy = weather.where(col('Windy')=='false')\n",
    "w_yes = windy.where(col('Play')=='YES').count()\n",
    "w_no = windy.where(col('Play')=='NO').count()\n",
    "windy_yes = w_yes/total_yes\n",
    "windy_no = w_no/total_no\n",
    "print(windy_yes)\n",
    "print(windy_no)\n",
    "\n",
    "windyy = weather.where(col('Windy')=='true')\n",
    "ww_yes = windyy.where(col('Play')=='YES').count()\n",
    "ww_no = windyy.where(col('Play')=='NO').count()\n",
    "windyy_yes = ww_yes/total_yes\n",
    "windyy_no = ww_no/total_no\n",
    "print(windyy_yes)\n",
    "print(windyy_no)"
   ]
  },
  {
   "cell_type": "code",
   "execution_count": 17,
   "id": "0f8e0b9c",
   "metadata": {},
   "outputs": [
    {
     "name": "stdout",
     "output_type": "stream",
     "text": [
      "0.3333333333333333\n",
      "0.8\n",
      "0.6666666666666666\n",
      "0.2\n"
     ]
    }
   ],
   "source": [
    "#Humidity(col 4)\n",
    "high = weather.where(col('Humidity')=='high')\n",
    "hu_yes = high.where(col('Play')=='YES').count()\n",
    "hu_no = high.where(col('Play')=='NO').count()\n",
    "high_yes = hu_yes/total_yes\n",
    "high_no = hu_no/total_no\n",
    "print(high_yes)\n",
    "print(high_no)\n",
    "\n",
    "normal = weather.where(col('Humidity')=='normal')\n",
    "n_yes = normal.where(col('Play')=='YES').count()\n",
    "n_no = normal.where(col('Play')=='NO').count()\n",
    "normal_yes = n_yes/total_yes\n",
    "normal_no = n_no/total_no\n",
    "print(normal_yes)\n",
    "print(normal_no)"
   ]
  },
  {
   "cell_type": "code",
   "execution_count": 22,
   "id": "4715e763",
   "metadata": {},
   "outputs": [
    {
     "name": "stdout",
     "output_type": "stream",
     "text": [
      "0.2962962962962963\n"
     ]
    }
   ],
   "source": [
    "#P(YES | rainy, hot, normal, not windy) = p(yes)*p(rainy|yes)*p(hot|yes)*p(normal|yes)*p(not windy|yes)\n",
    "p_yes_rhnw = total_yes * rainy_yes * normal_yes * hot_yes * windy_yes\n",
    "print(p_yes_rhnw)"
   ]
  },
  {
   "cell_type": "code",
   "execution_count": 23,
   "id": "4e9d8d69",
   "metadata": {},
   "outputs": [
    {
     "name": "stdout",
     "output_type": "stream",
     "text": [
      "0.06400000000000002\n"
     ]
    }
   ],
   "source": [
    "#P(No | rainy, hot, normal, not windy) = p(no)*p(rainy|no)*p(hot|no)*p(normal|no)*p(not windy|no)\n",
    "p_no_rhnw = total_no * rainy_no * normal_no * hot_no * windy_no\n",
    "print(p_no_rhnw)"
   ]
  },
  {
   "cell_type": "markdown",
   "id": "2fa2cc0a",
   "metadata": {},
   "source": [
    "# Dataset 2"
   ]
  },
  {
   "cell_type": "code",
   "execution_count": 13,
   "id": "e054bf01",
   "metadata": {},
   "outputs": [
    {
     "name": "stdout",
     "output_type": "stream",
     "text": [
      "+---+--------+---------+----------+-------+\n",
      "| ID|    Type|   Amount|OldBalance|isFraud|\n",
      "+---+--------+---------+----------+-------+\n",
      "|  1| PAYMENT|  9839.64|  170136.0|      0|\n",
      "|  2| PAYMENT|  1864.28|   21249.0|      0|\n",
      "|  3|TRANSFER|    181.0|     181.0|      1|\n",
      "|  4|CASH_OUT|    181.0|     181.0|      1|\n",
      "|  5|TRANSFER|865948.49| 865948.49|      1|\n",
      "+---+--------+---------+----------+-------+\n",
      "only showing top 5 rows\n",
      "\n"
     ]
    }
   ],
   "source": [
    "salary = spark.read.option(\"inferschema\",\"true\").option(\"header\",\"true\").csv(\"gnb.csv\")\n",
    "salary.show(5)"
   ]
  },
  {
   "cell_type": "code",
   "execution_count": 14,
   "id": "41c6cf78",
   "metadata": {},
   "outputs": [],
   "source": [
    "total = salary.count()\n",
    "total_no = salary.where(col('isFraud')==0)\n",
    "total_yes = salary.where(col('isFraud')==1)"
   ]
  },
  {
   "cell_type": "code",
   "execution_count": 15,
   "id": "c1ca22b0",
   "metadata": {},
   "outputs": [
    {
     "name": "stdout",
     "output_type": "stream",
     "text": [
      "+---+--------+---------+----------+-------+\n",
      "| ID|    Type|   Amount|OldBalance|isFraud|\n",
      "+---+--------+---------+----------+-------+\n",
      "|  3|TRANSFER|    181.0|     181.0|      1|\n",
      "|  4|CASH_OUT|    181.0|     181.0|      1|\n",
      "|  5|TRANSFER|865948.49| 865948.49|      1|\n",
      "|  6|CASH_OUT| 86120.87|   94120.4|      1|\n",
      "| 10| PAYMENT|   4300.0|   4305.75|      1|\n",
      "+---+--------+---------+----------+-------+\n",
      "\n"
     ]
    }
   ],
   "source": [
    "total_yes.show()"
   ]
  },
  {
   "cell_type": "code",
   "execution_count": 16,
   "id": "45d0fe03",
   "metadata": {},
   "outputs": [
    {
     "name": "stdout",
     "output_type": "stream",
     "text": [
      "+---+--------+---------+----------+-------+\n",
      "| ID|    Type|   Amount|OldBalance|isFraud|\n",
      "+---+--------+---------+----------+-------+\n",
      "|  1| PAYMENT|  9839.64|  170136.0|      0|\n",
      "|  2| PAYMENT|  1864.28|   21249.0|      0|\n",
      "|  7|CASH_OUT|  5378.12|   39005.0|      0|\n",
      "|  8| PAYMENT|  6027.23| 175690.81|      0|\n",
      "|  9|TRANSFER|539880.48|   56395.0|      0|\n",
      "+---+--------+---------+----------+-------+\n",
      "\n"
     ]
    }
   ],
   "source": [
    "total_no.show()"
   ]
  },
  {
   "cell_type": "code",
   "execution_count": 32,
   "id": "2f7ce083",
   "metadata": {},
   "outputs": [
    {
     "name": "stdout",
     "output_type": "stream",
     "text": [
      "+-------------------+\n",
      "|stddev_samp(Salary)|\n",
      "+-------------------+\n",
      "| 36295.239969511764|\n",
      "+-------------------+\n",
      "\n"
     ]
    }
   ],
   "source": [
    "total_no.select(stddev(\"Salary\")).show()"
   ]
  },
  {
   "cell_type": "code",
   "execution_count": 33,
   "id": "226b2b94",
   "metadata": {},
   "outputs": [
    {
     "name": "stdout",
     "output_type": "stream",
     "text": [
      "+-------------------+\n",
      "|stddev_samp(Salary)|\n",
      "+-------------------+\n",
      "|  29373.61952176687|\n",
      "+-------------------+\n",
      "\n"
     ]
    }
   ],
   "source": [
    "total_yes.select(stddev(\"Salary\")).show()"
   ]
  },
  {
   "cell_type": "code",
   "execution_count": 17,
   "id": "165ef946",
   "metadata": {},
   "outputs": [
    {
     "name": "stdout",
     "output_type": "stream",
     "text": [
      "+-----------+\n",
      "|avg(Amount)|\n",
      "+-----------+\n",
      "|  112597.95|\n",
      "+-----------+\n",
      "\n"
     ]
    }
   ],
   "source": [
    "total_no.select(mean(\"Amount\")).show()"
   ]
  },
  {
   "cell_type": "code",
   "execution_count": 18,
   "id": "aace8086",
   "metadata": {},
   "outputs": [
    {
     "name": "stdout",
     "output_type": "stream",
     "text": [
      "+-----------+\n",
      "|avg(Amount)|\n",
      "+-----------+\n",
      "| 191346.272|\n",
      "+-----------+\n",
      "\n"
     ]
    }
   ],
   "source": [
    "total_yes.select(mean(\"Amount\")).show()"
   ]
  },
  {
   "cell_type": "code",
   "execution_count": 19,
   "id": "f61e9afe",
   "metadata": {},
   "outputs": [
    {
     "name": "stdout",
     "output_type": "stream",
     "text": [
      "+---------------+\n",
      "|avg(OldBalance)|\n",
      "+---------------+\n",
      "|     192947.328|\n",
      "+---------------+\n",
      "\n"
     ]
    }
   ],
   "source": [
    "total_yes.select(mean(\"OldBalance\")).show()"
   ]
  },
  {
   "cell_type": "code",
   "execution_count": 20,
   "id": "493dafd4",
   "metadata": {},
   "outputs": [
    {
     "name": "stdout",
     "output_type": "stream",
     "text": [
      "+---------------+\n",
      "|avg(OldBalance)|\n",
      "+---------------+\n",
      "|      92495.162|\n",
      "+---------------+\n",
      "\n"
     ]
    }
   ],
   "source": [
    "total_no.select(mean(\"OldBalance\")).show()"
   ]
  },
  {
   "cell_type": "code",
   "execution_count": 37,
   "id": "3e6ddfa8",
   "metadata": {},
   "outputs": [
    {
     "name": "stdout",
     "output_type": "stream",
     "text": [
      "+----------------+\n",
      "|stddev_samp(Age)|\n",
      "+----------------+\n",
      "|4.68533680244878|\n",
      "+----------------+\n",
      "\n"
     ]
    }
   ],
   "source": [
    "total_yes.select(stddev(\"Age\")).show()"
   ]
  },
  {
   "cell_type": "code",
   "execution_count": 23,
   "id": "3aba6cb7",
   "metadata": {},
   "outputs": [
    {
     "data": {
      "text/plain": [
       "0.5"
      ]
     },
     "execution_count": 23,
     "metadata": {},
     "output_type": "execute_result"
    }
   ],
   "source": [
    "total_no.count()/salary.count()"
   ]
  },
  {
   "cell_type": "code",
   "execution_count": null,
   "id": "82f93aaa",
   "metadata": {},
   "outputs": [],
   "source": [
    "total_no.select(stddev(\"Age\")).show()"
   ]
  },
  {
   "cell_type": "code",
   "execution_count": 38,
   "id": "9a448e3a",
   "metadata": {},
   "outputs": [
    {
     "name": "stdout",
     "output_type": "stream",
     "text": [
      "+--------+\n",
      "|avg(Age)|\n",
      "+--------+\n",
      "|    45.5|\n",
      "+--------+\n",
      "\n"
     ]
    }
   ],
   "source": [
    "total_no.select(mean(\"Age\")).show()"
   ]
  },
  {
   "cell_type": "code",
   "execution_count": 30,
   "id": "b9974993",
   "metadata": {},
   "outputs": [
    {
     "name": "stdout",
     "output_type": "stream",
     "text": [
      "+-----------+\n",
      "|avg(Amount)|\n",
      "+-----------+\n",
      "|  539880.48|\n",
      "+-----------+\n",
      "\n"
     ]
    }
   ],
   "source": [
    "a = total_no.filter((col(\"Type\")==\"TRANSFER\"))\n",
    "a.select(mean(\"Amount\")).show()"
   ]
  },
  {
   "cell_type": "markdown",
   "id": "a988fd7e",
   "metadata": {},
   "source": [
    "# Dataset 3"
   ]
  },
  {
   "cell_type": "code",
   "execution_count": 41,
   "id": "c0b77fdc",
   "metadata": {},
   "outputs": [
    {
     "name": "stdout",
     "output_type": "stream",
     "text": [
      "+------+------+--------+------+\n",
      "| color|  type|  origin|stolen|\n",
      "+------+------+--------+------+\n",
      "|   red|sports|domestic|   yes|\n",
      "|   red|sports|domestic|    no|\n",
      "|   red|sports|domestic|   yes|\n",
      "|yellow|sports|domestic|    no|\n",
      "|yellow|sports|imported|   yes|\n",
      "+------+------+--------+------+\n",
      "only showing top 5 rows\n",
      "\n"
     ]
    }
   ],
   "source": [
    "bayes = spark.read.option(\"inferschema\",\"true\").option(\"header\",\"true\").csv(\"bayes.csv\")\n",
    "bayes.show(5)"
   ]
  },
  {
   "cell_type": "code",
   "execution_count": 44,
   "id": "70e8b56b",
   "metadata": {},
   "outputs": [
    {
     "name": "stdout",
     "output_type": "stream",
     "text": [
      "0.5\n",
      "0.5\n"
     ]
    }
   ],
   "source": [
    "#Total\n",
    "total_yes = (bayes.filter(col('stolen')=='yes').count())/(bayes.count())\n",
    "total_no = (bayes.filter(col('stolen')=='no').count())/(bayes.count())\n",
    "print(total_yes)\n",
    "print(total_no)"
   ]
  },
  {
   "cell_type": "code",
   "execution_count": 46,
   "id": "521a66f1",
   "metadata": {},
   "outputs": [
    {
     "name": "stdout",
     "output_type": "stream",
     "text": [
      "0.6\n",
      "0.4\n",
      "0.4\n",
      "0.6\n"
     ]
    }
   ],
   "source": [
    "#color = red and yellow\n",
    "red = bayes.filter(col('color')=='red')\n",
    "red_yes = (red.filter(col('stolen')=='yes').count())/(red.count())\n",
    "red_no = (red.filter(col('stolen')=='no').count())/(red.count())\n",
    "print(red_yes)\n",
    "print(red_no)\n",
    "\n",
    "yellow = bayes.filter(col('color')=='yellow')\n",
    "yellow_yes = (yellow.filter(col('stolen')=='yes').count())/(yellow.count())\n",
    "yellow_no = (yellow.filter(col('stolen')=='no').count())/(yellow.count())\n",
    "print(yellow_yes)\n",
    "print(yellow_no)"
   ]
  },
  {
   "cell_type": "code",
   "execution_count": 47,
   "id": "781642c5",
   "metadata": {},
   "outputs": [],
   "source": [
    "#type - sports and suv"
   ]
  },
  {
   "cell_type": "code",
   "execution_count": 48,
   "id": "03cfae45",
   "metadata": {},
   "outputs": [],
   "source": [
    "#origin - domestic and imported"
   ]
  },
  {
   "cell_type": "code",
   "execution_count": null,
   "id": "9a9d47aa",
   "metadata": {},
   "outputs": [],
   "source": [
    "#mean var stddev of each colummn(yes and no)"
   ]
  },
  {
   "cell_type": "markdown",
   "id": "c5c3eb8e",
   "metadata": {},
   "source": [
    "# Pandas"
   ]
  },
  {
   "cell_type": "code",
   "execution_count": 1,
   "id": "4461babd",
   "metadata": {},
   "outputs": [
    {
     "data": {
      "text/html": [
       "<div>\n",
       "<style scoped>\n",
       "    .dataframe tbody tr th:only-of-type {\n",
       "        vertical-align: middle;\n",
       "    }\n",
       "\n",
       "    .dataframe tbody tr th {\n",
       "        vertical-align: top;\n",
       "    }\n",
       "\n",
       "    .dataframe thead th {\n",
       "        text-align: right;\n",
       "    }\n",
       "</style>\n",
       "<table border=\"1\" class=\"dataframe\">\n",
       "  <thead>\n",
       "    <tr style=\"text-align: right;\">\n",
       "      <th></th>\n",
       "      <th>Outlook</th>\n",
       "      <th>Temperature</th>\n",
       "      <th>Humidity</th>\n",
       "      <th>Windy</th>\n",
       "      <th>Play</th>\n",
       "    </tr>\n",
       "  </thead>\n",
       "  <tbody>\n",
       "    <tr>\n",
       "      <th>0</th>\n",
       "      <td>sunny</td>\n",
       "      <td>hot</td>\n",
       "      <td>high</td>\n",
       "      <td>False</td>\n",
       "      <td>NO</td>\n",
       "    </tr>\n",
       "    <tr>\n",
       "      <th>1</th>\n",
       "      <td>sunny</td>\n",
       "      <td>hot</td>\n",
       "      <td>high</td>\n",
       "      <td>True</td>\n",
       "      <td>NO</td>\n",
       "    </tr>\n",
       "    <tr>\n",
       "      <th>2</th>\n",
       "      <td>overcast</td>\n",
       "      <td>hot</td>\n",
       "      <td>high</td>\n",
       "      <td>False</td>\n",
       "      <td>YES</td>\n",
       "    </tr>\n",
       "    <tr>\n",
       "      <th>3</th>\n",
       "      <td>rainy</td>\n",
       "      <td>mild</td>\n",
       "      <td>high</td>\n",
       "      <td>False</td>\n",
       "      <td>YES</td>\n",
       "    </tr>\n",
       "    <tr>\n",
       "      <th>4</th>\n",
       "      <td>rainy</td>\n",
       "      <td>cool</td>\n",
       "      <td>normal</td>\n",
       "      <td>False</td>\n",
       "      <td>YES</td>\n",
       "    </tr>\n",
       "    <tr>\n",
       "      <th>5</th>\n",
       "      <td>rainy</td>\n",
       "      <td>cool</td>\n",
       "      <td>normal</td>\n",
       "      <td>True</td>\n",
       "      <td>NO</td>\n",
       "    </tr>\n",
       "    <tr>\n",
       "      <th>6</th>\n",
       "      <td>overcast</td>\n",
       "      <td>cool</td>\n",
       "      <td>normal</td>\n",
       "      <td>True</td>\n",
       "      <td>YES</td>\n",
       "    </tr>\n",
       "    <tr>\n",
       "      <th>7</th>\n",
       "      <td>sunny</td>\n",
       "      <td>mild</td>\n",
       "      <td>high</td>\n",
       "      <td>False</td>\n",
       "      <td>NO</td>\n",
       "    </tr>\n",
       "    <tr>\n",
       "      <th>8</th>\n",
       "      <td>sunny</td>\n",
       "      <td>cool</td>\n",
       "      <td>normal</td>\n",
       "      <td>False</td>\n",
       "      <td>YES</td>\n",
       "    </tr>\n",
       "    <tr>\n",
       "      <th>9</th>\n",
       "      <td>rainy</td>\n",
       "      <td>mild</td>\n",
       "      <td>normal</td>\n",
       "      <td>False</td>\n",
       "      <td>YES</td>\n",
       "    </tr>\n",
       "    <tr>\n",
       "      <th>10</th>\n",
       "      <td>sunny</td>\n",
       "      <td>mild</td>\n",
       "      <td>normal</td>\n",
       "      <td>True</td>\n",
       "      <td>YES</td>\n",
       "    </tr>\n",
       "    <tr>\n",
       "      <th>11</th>\n",
       "      <td>overcast</td>\n",
       "      <td>mild</td>\n",
       "      <td>high</td>\n",
       "      <td>True</td>\n",
       "      <td>YES</td>\n",
       "    </tr>\n",
       "    <tr>\n",
       "      <th>12</th>\n",
       "      <td>overcast</td>\n",
       "      <td>hot</td>\n",
       "      <td>normal</td>\n",
       "      <td>False</td>\n",
       "      <td>YES</td>\n",
       "    </tr>\n",
       "    <tr>\n",
       "      <th>13</th>\n",
       "      <td>rainy</td>\n",
       "      <td>mild</td>\n",
       "      <td>high</td>\n",
       "      <td>True</td>\n",
       "      <td>NO</td>\n",
       "    </tr>\n",
       "  </tbody>\n",
       "</table>\n",
       "</div>"
      ],
      "text/plain": [
       "     Outlook Temperature Humidity  Windy Play\n",
       "0      sunny         hot     high  False   NO\n",
       "1      sunny         hot     high   True   NO\n",
       "2   overcast         hot     high  False  YES\n",
       "3      rainy        mild     high  False  YES\n",
       "4      rainy        cool   normal  False  YES\n",
       "5      rainy        cool   normal   True   NO\n",
       "6   overcast        cool   normal   True  YES\n",
       "7      sunny        mild     high  False   NO\n",
       "8      sunny        cool   normal  False  YES\n",
       "9      rainy        mild   normal  False  YES\n",
       "10     sunny        mild   normal   True  YES\n",
       "11  overcast        mild     high   True  YES\n",
       "12  overcast         hot   normal  False  YES\n",
       "13     rainy        mild     high   True   NO"
      ]
     },
     "execution_count": 1,
     "metadata": {},
     "output_type": "execute_result"
    }
   ],
   "source": [
    "import pandas as pd\n",
    "df = pd.read_csv(\"weather.csv\")\n",
    "df"
   ]
  },
  {
   "cell_type": "code",
   "execution_count": 11,
   "id": "c88133fc",
   "metadata": {},
   "outputs": [
    {
     "data": {
      "text/html": [
       "<div>\n",
       "<style scoped>\n",
       "    .dataframe tbody tr th:only-of-type {\n",
       "        vertical-align: middle;\n",
       "    }\n",
       "\n",
       "    .dataframe tbody tr th {\n",
       "        vertical-align: top;\n",
       "    }\n",
       "\n",
       "    .dataframe thead th {\n",
       "        text-align: right;\n",
       "    }\n",
       "</style>\n",
       "<table border=\"1\" class=\"dataframe\">\n",
       "  <thead>\n",
       "    <tr style=\"text-align: right;\">\n",
       "      <th></th>\n",
       "      <th>Humidity</th>\n",
       "      <th>Outlook</th>\n",
       "      <th>Temperature</th>\n",
       "      <th>Windy</th>\n",
       "    </tr>\n",
       "    <tr>\n",
       "      <th>Play</th>\n",
       "      <th></th>\n",
       "      <th></th>\n",
       "      <th></th>\n",
       "      <th></th>\n",
       "    </tr>\n",
       "  </thead>\n",
       "  <tbody>\n",
       "    <tr>\n",
       "      <th>NO</th>\n",
       "      <td>5</td>\n",
       "      <td>5</td>\n",
       "      <td>5</td>\n",
       "      <td>5</td>\n",
       "    </tr>\n",
       "    <tr>\n",
       "      <th>YES</th>\n",
       "      <td>9</td>\n",
       "      <td>9</td>\n",
       "      <td>9</td>\n",
       "      <td>9</td>\n",
       "    </tr>\n",
       "  </tbody>\n",
       "</table>\n",
       "</div>"
      ],
      "text/plain": [
       "      Humidity  Outlook  Temperature  Windy\n",
       "Play                                       \n",
       "NO           5        5            5      5\n",
       "YES          9        9            9      9"
      ]
     },
     "execution_count": 11,
     "metadata": {},
     "output_type": "execute_result"
    }
   ],
   "source": [
    "pivot = pd.pivot_table(data = df,index='Play',aggfunc='count')\n",
    "pivot"
   ]
  },
  {
   "cell_type": "code",
   "execution_count": null,
   "id": "09a4260b",
   "metadata": {},
   "outputs": [],
   "source": []
  }
 ],
 "metadata": {
  "kernelspec": {
   "display_name": "Python 3",
   "language": "python",
   "name": "python3"
  },
  "language_info": {
   "codemirror_mode": {
    "name": "ipython",
    "version": 3
   },
   "file_extension": ".py",
   "mimetype": "text/x-python",
   "name": "python",
   "nbconvert_exporter": "python",
   "pygments_lexer": "ipython3",
   "version": "3.8.8"
  }
 },
 "nbformat": 4,
 "nbformat_minor": 5
}
