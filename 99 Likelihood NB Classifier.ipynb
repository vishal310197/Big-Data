{
 "cells": [
  {
   "cell_type": "code",
   "execution_count": 4,
   "id": "45dd7a5a",
   "metadata": {},
   "outputs": [],
   "source": [
    "import pandas as pd\n",
    "import numpy as np\n",
    "import findspark\n",
    "findspark.init('C:\\spark\\spark-3.1.2-bin-hadoop3.2')\n",
    "import pyspark\n",
    "\n",
    "from pyspark.sql import SparkSession\n",
    "from pyspark.context import SparkContext\n",
    "from pyspark import SparkConf\n",
    "from pyspark.sql.functions import *\n",
    "import pyspark.sql.functions as f\n",
    "sc = SparkContext.getOrCreate()\n",
    "spark = SparkSession(sc)\n"
   ]
  },
  {
   "cell_type": "code",
   "execution_count": 2,
   "id": "5e3b6131",
   "metadata": {},
   "outputs": [
    {
     "name": "stdout",
     "output_type": "stream",
     "text": [
      "+---------+------+------+\n",
      "|PulpColor| Taste|Edible|\n",
      "+---------+------+------+\n",
      "|      red|  sour|   yes|\n",
      "|      red|  sour|    no|\n",
      "|      red|bitter|    no|\n",
      "|   yellow| sweet|   yes|\n",
      "|   yellow|bitter|    no|\n",
      "|    green|  sour|   yes|\n",
      "|    green| sweet|   yes|\n",
      "|    green|bitter|    no|\n",
      "+---------+------+------+\n",
      "\n"
     ]
    }
   ],
   "source": [
    "pulp = spark.read.option(\"inferschema\",\"true\").option(\"header\",\"true\").csv(\"pulp.csv\")\n",
    "pulp.show()"
   ]
  },
  {
   "cell_type": "code",
   "execution_count": 5,
   "id": "aab41811",
   "metadata": {},
   "outputs": [
    {
     "name": "stdout",
     "output_type": "stream",
     "text": [
      "+---------+-----+------+\n",
      "|PulpColor|Taste|Edible|\n",
      "+---------+-----+------+\n",
      "|      red| sour|   yes|\n",
      "|   yellow|sweet|   yes|\n",
      "|    green| sour|   yes|\n",
      "|    green|sweet|   yes|\n",
      "+---------+-----+------+\n",
      "\n"
     ]
    }
   ],
   "source": [
    "datasize = pulp.count()\n",
    "yespulp = pulp.filter(f.expr(\"Edible = \\\"yes\\\"\"))\n",
    "yespulp.show()"
   ]
  },
  {
   "cell_type": "code",
   "execution_count": 16,
   "id": "bc16cb5f",
   "metadata": {},
   "outputs": [
    {
     "name": "stdout",
     "output_type": "stream",
     "text": [
      "4\n",
      "1\n",
      "2\n"
     ]
    }
   ],
   "source": [
    "yes = yespulp.count()\n",
    "yesyellow = yespulp.filter(f.expr(\"PulpColor = \\\"yellow\\\"\")).count()\n",
    "yessour = yespulp.filter(f.expr(\"Taste = \\\"sour\\\"\")).count()\n",
    "print(yes)\n",
    "print(yesyellow)\n",
    "print(yessour)"
   ]
  },
  {
   "cell_type": "code",
   "execution_count": 19,
   "id": "7bd6912b",
   "metadata": {},
   "outputs": [],
   "source": [
    "likelihoodyes = yes/datasize * yesyellow/yes * yessour/yes"
   ]
  },
  {
   "cell_type": "code",
   "execution_count": 20,
   "id": "d8929d2e",
   "metadata": {},
   "outputs": [
    {
     "name": "stdout",
     "output_type": "stream",
     "text": [
      "0.0625\n"
     ]
    }
   ],
   "source": [
    "print(likelihoodyes)"
   ]
  },
  {
   "cell_type": "code",
   "execution_count": 21,
   "id": "67a28829",
   "metadata": {},
   "outputs": [
    {
     "name": "stdout",
     "output_type": "stream",
     "text": [
      "+---------+------+------+\n",
      "|PulpColor| Taste|Edible|\n",
      "+---------+------+------+\n",
      "|      red|  sour|    no|\n",
      "|      red|bitter|    no|\n",
      "|   yellow|bitter|    no|\n",
      "|    green|bitter|    no|\n",
      "+---------+------+------+\n",
      "\n"
     ]
    }
   ],
   "source": [
    "nopulp = pulp.filter(f.expr(\"Edible = \\\"no\\\"\"))\n",
    "nopulp.show()"
   ]
  },
  {
   "cell_type": "code",
   "execution_count": 22,
   "id": "615af277",
   "metadata": {},
   "outputs": [],
   "source": [
    "no = nopulp.count()\n",
    "noyellow = nopulp.filter(f.expr(\"PulpColor = \\\"yellow\\\"\")).count()\n",
    "nosour = nopulp.filter(f.expr(\"Taste = \\\"sour\\\"\")).count()"
   ]
  },
  {
   "cell_type": "code",
   "execution_count": 25,
   "id": "d87e87a4",
   "metadata": {},
   "outputs": [],
   "source": [
    "likelihoodno = no/datasize * noyellow/no * nosour/no"
   ]
  },
  {
   "cell_type": "code",
   "execution_count": 26,
   "id": "d256de08",
   "metadata": {},
   "outputs": [
    {
     "name": "stdout",
     "output_type": "stream",
     "text": [
      "yes\n"
     ]
    }
   ],
   "source": [
    "if (likelihoodyes > likelihoodno):\n",
    "    print(\"yes\")\n",
    "else:\n",
    "    print(\"no\")"
   ]
  },
  {
   "cell_type": "code",
   "execution_count": null,
   "id": "faeae8ee",
   "metadata": {},
   "outputs": [],
   "source": []
  }
 ],
 "metadata": {
  "kernelspec": {
   "display_name": "Python 3",
   "language": "python",
   "name": "python3"
  },
  "language_info": {
   "codemirror_mode": {
    "name": "ipython",
    "version": 3
   },
   "file_extension": ".py",
   "mimetype": "text/x-python",
   "name": "python",
   "nbconvert_exporter": "python",
   "pygments_lexer": "ipython3",
   "version": "3.8.8"
  }
 },
 "nbformat": 4,
 "nbformat_minor": 5
}
