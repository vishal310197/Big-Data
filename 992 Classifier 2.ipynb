{
 "cells": [
  {
   "cell_type": "code",
   "execution_count": 1,
   "metadata": {},
   "outputs": [],
   "source": [
    "import pandas as pd\n",
    "import numpy as np\n",
    "import findspark\n",
    "findspark.init('C:\\spark')\n",
    "import pyspark\n",
    "\n",
    "from pyspark.sql import SparkSession\n",
    "from pyspark.context import SparkContext\n",
    "from pyspark import SparkConf\n",
    "from pyspark.sql.functions import col\n",
    "sc = SparkContext.getOrCreate()\n",
    "spark = SparkSession(sc)"
   ]
  },
  {
   "cell_type": "code",
   "execution_count": 11,
   "metadata": {},
   "outputs": [],
   "source": [
    "df = spark.read.csv(\"ten.csv\", header=True, inferSchema=True)"
   ]
  },
  {
   "cell_type": "code",
   "execution_count": 12,
   "metadata": {},
   "outputs": [
    {
     "name": "stdout",
     "output_type": "stream",
     "text": [
      "+---------+------+------+\n",
      "|PulpColor| Taste|Edible|\n",
      "+---------+------+------+\n",
      "|      red|  sour|   yes|\n",
      "|      red|  sour|    no|\n",
      "|      red|bitter|    no|\n",
      "|   yellow| sweet|   yes|\n",
      "|   yellow|bitter|    no|\n",
      "|    green|  sour|   yes|\n",
      "|    green| sweet|   yes|\n",
      "|    green|bitter|    no|\n",
      "|   yellow|  sour|   yes|\n",
      "+---------+------+------+\n",
      "\n"
     ]
    }
   ],
   "source": [
    "df.show()"
   ]
  },
  {
   "cell_type": "code",
   "execution_count": 13,
   "metadata": {},
   "outputs": [],
   "source": [
    "from pyspark.ml.feature import RFormula\n",
    "supervised = RFormula(formula = \"Edible ~ . + PulpColor + Taste\")"
   ]
  },
  {
   "cell_type": "code",
   "execution_count": 14,
   "metadata": {},
   "outputs": [
    {
     "name": "stdout",
     "output_type": "stream",
     "text": [
      "+---------+------+------+-----------------+-----+\n",
      "|PulpColor| Taste|Edible|         features|label|\n",
      "+---------+------+------+-----------------+-----+\n",
      "|      red|  sour|   yes|[0.0,1.0,1.0,0.0]|  0.0|\n",
      "|      red|  sour|    no|[0.0,1.0,1.0,0.0]|  1.0|\n",
      "|      red|bitter|    no|[0.0,1.0,0.0,1.0]|  1.0|\n",
      "|   yellow| sweet|   yes|        (4,[],[])|  0.0|\n",
      "|   yellow|bitter|    no|    (4,[3],[1.0])|  1.0|\n",
      "|    green|  sour|   yes|[1.0,0.0,1.0,0.0]|  0.0|\n",
      "|    green| sweet|   yes|    (4,[0],[1.0])|  0.0|\n",
      "|    green|bitter|    no|[1.0,0.0,0.0,1.0]|  1.0|\n",
      "|   yellow|  sour|   yes|    (4,[2],[1.0])|  0.0|\n",
      "+---------+------+------+-----------------+-----+\n",
      "\n"
     ]
    }
   ],
   "source": [
    "fittedRF = supervised.fit(df)\n",
    "preparedDF = fittedRF.transform(df)\n",
    "preparedDF.show()"
   ]
  },
  {
   "cell_type": "code",
   "execution_count": 15,
   "metadata": {},
   "outputs": [],
   "source": [
    "train,test = preparedDF.randomSplit([0.7,0.3])\n"
   ]
  },
  {
   "cell_type": "code",
   "execution_count": 16,
   "metadata": {},
   "outputs": [
    {
     "name": "stdout",
     "output_type": "stream",
     "text": [
      "aggregationDepth: suggested depth for treeAggregate (>= 2). (default: 2)\n",
      "elasticNetParam: the ElasticNet mixing parameter, in range [0, 1]. For alpha = 0, the penalty is an L2 penalty. For alpha = 1, it is an L1 penalty. (default: 0.0)\n",
      "family: The name of family which is a description of the label distribution to be used in the model. Supported options: auto, binomial, multinomial (default: auto)\n",
      "featuresCol: features column name. (default: features, current: features)\n",
      "fitIntercept: whether to fit an intercept term. (default: True)\n",
      "labelCol: label column name. (default: label, current: label)\n",
      "lowerBoundsOnCoefficients: The lower bounds on coefficients if fitting under bound constrained optimization. The bound matrix must be compatible with the shape (1, number of features) for binomial regression, or (number of classes, number of features) for multinomial regression. (undefined)\n",
      "lowerBoundsOnIntercepts: The lower bounds on intercepts if fitting under bound constrained optimization. The bounds vector size must beequal with 1 for binomial regression, or the number oflasses for multinomial regression. (undefined)\n",
      "maxBlockSizeInMB: maximum memory in MB for stacking input data into blocks. Data is stacked within partitions. If more than remaining data size in a partition then it is adjusted to the data size. Default 0.0 represents choosing optimal value, depends on specific algorithm. Must be >= 0. (default: 0.0)\n",
      "maxIter: max number of iterations (>= 0). (default: 100)\n",
      "predictionCol: prediction column name. (default: prediction)\n",
      "probabilityCol: Column name for predicted class conditional probabilities. Note: Not all models output well-calibrated probability estimates! These probabilities should be treated as confidences, not precise probabilities. (default: probability)\n",
      "rawPredictionCol: raw prediction (a.k.a. confidence) column name. (default: rawPrediction)\n",
      "regParam: regularization parameter (>= 0). (default: 0.0)\n",
      "standardization: whether to standardize the training features before fitting the model. (default: True)\n",
      "threshold: Threshold in binary classification prediction, in range [0, 1]. If threshold and thresholds are both set, they must match.e.g. if threshold is p, then thresholds must be equal to [1-p, p]. (default: 0.5)\n",
      "thresholds: Thresholds in multi-class classification to adjust the probability of predicting each class. Array must have length equal to the number of classes, with values > 0, excepting that at most one value may be 0. The class with largest value p/t is predicted, where p is the original probability of that class and t is the class's threshold. (undefined)\n",
      "tol: the convergence tolerance for iterative algorithms (>= 0). (default: 1e-06)\n",
      "upperBoundsOnCoefficients: The upper bounds on coefficients if fitting under bound constrained optimization. The bound matrix must be compatible with the shape (1, number of features) for binomial regression, or (number of classes, number of features) for multinomial regression. (undefined)\n",
      "upperBoundsOnIntercepts: The upper bounds on intercepts if fitting under bound constrained optimization. The bound vector size must be equal with 1 for binomial regression, or the number of classes for multinomial regression. (undefined)\n",
      "weightCol: weight column name. If this is not set or empty, we treat all instance weights as 1.0. (undefined)\n"
     ]
    }
   ],
   "source": [
    "from pyspark.ml.classification import LogisticRegression\n",
    "lr = LogisticRegression(labelCol = \"label\",featuresCol = \"features\")\n",
    "print(lr.explainParams())"
   ]
  },
  {
   "cell_type": "code",
   "execution_count": 17,
   "metadata": {},
   "outputs": [
    {
     "name": "stdout",
     "output_type": "stream",
     "text": [
      "+---------+------+------+-----+----------+\n",
      "|PulpColor| Taste|Edible|label|prediction|\n",
      "+---------+------+------+-----+----------+\n",
      "|    green|bitter|    no|  1.0|       1.0|\n",
      "|      red|bitter|    no|  1.0|       1.0|\n",
      "|      red|  sour|    no|  1.0|       0.0|\n",
      "|      red|  sour|   yes|  0.0|       0.0|\n",
      "|   yellow|bitter|    no|  1.0|       1.0|\n",
      "|   yellow|  sour|   yes|  0.0|       0.0|\n",
      "+---------+------+------+-----+----------+\n",
      "\n"
     ]
    }
   ],
   "source": [
    "fittedLR = lr.fit(train)\n",
    "fittedLR.transform(train).select(\"PulpColor\",\"Taste\",\"Edible\",\"label\",\"prediction\").show()"
   ]
  },
  {
   "cell_type": "code",
   "execution_count": 18,
   "metadata": {},
   "outputs": [
    {
     "name": "stdout",
     "output_type": "stream",
     "text": [
      "+---------+-----+------+-----+----------+\n",
      "|PulpColor|Taste|Edible|label|prediction|\n",
      "+---------+-----+------+-----+----------+\n",
      "|    green| sour|   yes|  0.0|       0.0|\n",
      "|    green|sweet|   yes|  0.0|       1.0|\n",
      "|   yellow|sweet|   yes|  0.0|       1.0|\n",
      "+---------+-----+------+-----+----------+\n",
      "\n"
     ]
    }
   ],
   "source": [
    "predictions = fittedLR.transform(test)\n",
    "predictions.select(\"PulpColor\",\"Taste\",\"Edible\",\"label\",\"prediction\").show()"
   ]
  },
  {
   "cell_type": "code",
   "execution_count": null,
   "metadata": {},
   "outputs": [],
   "source": [
    "\n"
   ]
  },
  {
   "cell_type": "code",
   "execution_count": null,
   "metadata": {},
   "outputs": [],
   "source": []
  },
  {
   "cell_type": "code",
   "execution_count": null,
   "metadata": {},
   "outputs": [],
   "source": []
  }
 ],
 "metadata": {
  "kernelspec": {
   "display_name": "Python 3",
   "language": "python",
   "name": "python3"
  },
  "language_info": {
   "codemirror_mode": {
    "name": "ipython",
    "version": 3
   },
   "file_extension": ".py",
   "mimetype": "text/x-python",
   "name": "python",
   "nbconvert_exporter": "python",
   "pygments_lexer": "ipython3",
   "version": "3.8.8"
  }
 },
 "nbformat": 4,
 "nbformat_minor": 4
}
