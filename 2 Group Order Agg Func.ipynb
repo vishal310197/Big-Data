{
 "cells": [
  {
   "cell_type": "code",
   "execution_count": 92,
   "id": "40d4f60e",
   "metadata": {},
   "outputs": [],
   "source": [
    "import pandas as pd\n",
    "import numpy as np\n",
    "import findspark\n",
    "findspark.init('C:\\spark\\spark-3.1.2-bin-hadoop3.2')\n",
    "import pyspark\n",
    "\n",
    "from pyspark.sql import SparkSession\n",
    "from pyspark.context import SparkContext\n",
    "from pyspark import SparkConf\n",
    "from pyspark.sql.functions import *\n",
    "sc = SparkContext.getOrCreate()\n",
    "spark = SparkSession(sc)"
   ]
  },
  {
   "cell_type": "markdown",
   "id": "cf374153",
   "metadata": {},
   "source": [
    "# Spark And SQL Queries"
   ]
  },
  {
   "cell_type": "code",
   "execution_count": 93,
   "id": "6b6bfb95",
   "metadata": {},
   "outputs": [
    {
     "name": "stdout",
     "output_type": "stream",
     "text": [
      "+-----------+---------------+-----------------+------+------------+----------------+-------------------+----------+\n",
      "|School_Year|Busbreakdown_ID|         Run_Type|Bus_No|Route_Number|Schools_Serviced|        Occurred_On|      Town|\n",
      "+-----------+---------------+-----------------+------+------------+----------------+-------------------+----------+\n",
      "|       2015|        1227538|Special Ed AM Run|  2621|        J711|           75003|2015-11-05 08:10:00|New Jersey|\n",
      "|       2015|        1227539|Special Ed AM Run|  1260|        M351|            6716|2015-11-05 08:10:00| Manhattan|\n",
      "|       2015|        1227540|         Pre-K/EI|   418|           3|            C445|2015-11-05 08:09:00|     Bronx|\n",
      "|       2015|        1227541|Special Ed AM Run|  4522|        M271|            2699|2015-11-05 08:12:00| Manhattan|\n",
      "|       2015|        1227542|Special Ed AM Run|  3124|        M373|            2116|2015-11-05 08:13:00| Manhattan|\n",
      "+-----------+---------------+-----------------+------+------------+----------------+-------------------+----------+\n",
      "only showing top 5 rows\n",
      "\n",
      "root\n",
      " |-- School_Year: integer (nullable = true)\n",
      " |-- Busbreakdown_ID: integer (nullable = true)\n",
      " |-- Run_Type: string (nullable = true)\n",
      " |-- Bus_No: string (nullable = true)\n",
      " |-- Route_Number: string (nullable = true)\n",
      " |-- Schools_Serviced: string (nullable = true)\n",
      " |-- Occurred_On: timestamp (nullable = true)\n",
      " |-- Town: string (nullable = true)\n",
      "\n"
     ]
    }
   ],
   "source": [
    "#Defining dataframe\n",
    "bus = spark.read.option(\"inferschema\",\"true\").option(\"header\",\"true\").csv(\"bus.csv\")\n",
    "bus.show(5)\n",
    "bus.printSchema()"
   ]
  },
  {
   "cell_type": "code",
   "execution_count": null,
   "id": "709f2666",
   "metadata": {},
   "outputs": [],
   "source": []
  },
  {
   "cell_type": "code",
   "execution_count": 94,
   "id": "be4389a0",
   "metadata": {},
   "outputs": [],
   "source": [
    "#SQL Table\n",
    "bus.createOrReplaceTempView(\"BUS\")"
   ]
  },
  {
   "cell_type": "code",
   "execution_count": 95,
   "id": "d6818c6b",
   "metadata": {},
   "outputs": [
    {
     "name": "stdout",
     "output_type": "stream",
     "text": [
      "+----------------------+\n",
      "|count(Busbreakdown_ID)|\n",
      "+----------------------+\n",
      "|                   101|\n",
      "+----------------------+\n",
      "\n",
      "+----------------------+\n",
      "|count(Busbreakdown_ID)|\n",
      "+----------------------+\n",
      "|                   101|\n",
      "+----------------------+\n",
      "\n"
     ]
    }
   ],
   "source": [
    "#How many breakdowns occurred in total\n",
    "bus.select(count(col(\"Busbreakdown_ID\"))).show()\n",
    "\n",
    "spark.sql('SELECT COUNT(Busbreakdown_ID) FROM BUS').show()"
   ]
  },
  {
   "cell_type": "code",
   "execution_count": 71,
   "id": "58194eb3",
   "metadata": {},
   "outputs": [
    {
     "name": "stdout",
     "output_type": "stream",
     "text": [
      "+---------------+-----+\n",
      "|           Town|count|\n",
      "+---------------+-----+\n",
      "|         Queens|   14|\n",
      "|  Nassau County|    2|\n",
      "|           null|    7|\n",
      "|       Brooklyn|   14|\n",
      "|  Staten Island|    4|\n",
      "|    Westchester|    4|\n",
      "|     New Jersey|    1|\n",
      "|Rockland County|    1|\n",
      "|      Manhattan|   22|\n",
      "|          Bronx|   32|\n",
      "+---------------+-----+\n",
      "\n",
      "+---------------+-----+\n",
      "|           Town|Count|\n",
      "+---------------+-----+\n",
      "|         Queens|   14|\n",
      "|  Nassau County|    2|\n",
      "|           null|    7|\n",
      "|       Brooklyn|   14|\n",
      "|  Staten Island|    4|\n",
      "|    Westchester|    4|\n",
      "|     New Jersey|    1|\n",
      "|Rockland County|    1|\n",
      "|      Manhattan|   22|\n",
      "|          Bronx|   32|\n",
      "+---------------+-----+\n",
      "\n"
     ]
    }
   ],
   "source": [
    "#How many breakdowns occurred in total in each town\n",
    "bus.select(col(\"Town\"),col(\"Busbreakdown_ID\")).groupBy(col(\"Town\")).count().show()\n",
    "\n",
    "spark.sql('SELECT Town, COUNT(Busbreakdown_ID) AS Count FROM BUS GROUP BY Town').show()"
   ]
  },
  {
   "cell_type": "code",
   "execution_count": 77,
   "id": "d735674c",
   "metadata": {},
   "outputs": [
    {
     "name": "stdout",
     "output_type": "stream",
     "text": [
      "+-----------+---------------+-----+\n",
      "|School_Year|           Town|count|\n",
      "+-----------+---------------+-----+\n",
      "|       2015|Rockland County|    1|\n",
      "|       2015|       Brooklyn|    1|\n",
      "|       2015|           null|    2|\n",
      "|       2015|          Bronx|    4|\n",
      "|       2015|  Nassau County|    1|\n",
      "|       2015|      Manhattan|    7|\n",
      "|       2015|     New Jersey|    1|\n",
      "|       2015|         Queens|    1|\n",
      "|       2015|    Westchester|    3|\n",
      "|       2016|         Queens|    3|\n",
      "|       2016|       Brooklyn|    2|\n",
      "|       2016|          Bronx|    5|\n",
      "|       2016|      Manhattan|    5|\n",
      "|       2016|    Westchester|    1|\n",
      "|       2017|           null|    2|\n",
      "|       2017|          Bronx|    7|\n",
      "|       2017|       Brooklyn|    2|\n",
      "|       2017|         Queens|    4|\n",
      "|       2017|      Manhattan|    1|\n",
      "|       2018|          Bronx|    5|\n",
      "+-----------+---------------+-----+\n",
      "only showing top 20 rows\n",
      "\n"
     ]
    }
   ],
   "source": [
    "#How many breakdowns occurred in total in each town per year\n",
    "bus.select(col(\"School_Year\"),col(\"Town\"),col(\"Busbreakdown_ID\")).groupBy(\"School_Year\",\"Town\").count().orderBy(\"School_Year\").show()\n",
    "\n",
    "#spark.sql('SELECT School_Year, Town, Count(Busbreakdown_ID) AS Count FROM BUS GROUP BY Town').show()"
   ]
  },
  {
   "cell_type": "code",
   "execution_count": 6,
   "id": "0170322e",
   "metadata": {},
   "outputs": [
    {
     "name": "stdout",
     "output_type": "stream",
     "text": [
      "+-----------+------------+-----+\n",
      "|School_Year|Route_Number|count|\n",
      "+-----------+------------+-----+\n",
      "|       2015|        M351|    1|\n",
      "|       2015|          10|    1|\n",
      "|       2015|        U901|    1|\n",
      "|       2015|        J711|    1|\n",
      "|       2015|        W991|    1|\n",
      "|       2015|        P464|    1|\n",
      "|       2015|           8|    1|\n",
      "|       2015|        M922|    1|\n",
      "|       2015|        N588|    1|\n",
      "|       2015|        W796|    1|\n",
      "|       2015|        M373|    1|\n",
      "|       2015|        L524|    1|\n",
      "|       2015|        M126|    1|\n",
      "|       2015|        M678|    1|\n",
      "|       2015|        P877|    1|\n",
      "|       2015|        P662|    1|\n",
      "|       2015|        W633|    1|\n",
      "|       2015|           3|    1|\n",
      "|       2015|        L531|    1|\n",
      "|       2015|        M490|    1|\n",
      "+-----------+------------+-----+\n",
      "only showing top 20 rows\n",
      "\n"
     ]
    }
   ],
   "source": [
    "#How many breakdowns occurred in total in each route number per year\n",
    "bus.select(col(\"School_Year\"),col(\"Route_Number\"),col(\"Busbreakdown_ID\")).groupBy(\"School_Year\",\"Route_Number\").count().orderBy(\"School_Year\").show()"
   ]
  },
  {
   "cell_type": "code",
   "execution_count": 80,
   "id": "8cd3c2b1",
   "metadata": {},
   "outputs": [
    {
     "name": "stdout",
     "output_type": "stream",
     "text": [
      "+-----------+-------+\n",
      "|School_Year|  Total|\n",
      "+-----------+-------+\n",
      "|       2015|1227554|\n",
      "|       2016|2455163|\n",
      "|       2017|2455188|\n",
      "|       2018|6136775|\n",
      "|       2020|5295244|\n",
      "+-----------+-------+\n",
      "\n"
     ]
    }
   ],
   "source": [
    "#how many breakdowns occur each year in brooklyn\n",
    "#bus.filter(col(\"Town\")==\"Brooklyn\").select(\"School_Year\",\"Busbreakdown_ID\").groupBy(\"School_Year\").count().show()\n",
    "#bus.select(\"School_Year\",sum(\"Busbreakdown_ID\").alias(\"Total\")).filter(col(\"Town\")==\"Brooklyn\").groupBy(\"School_Year\").show()\n",
    "bus.filter(col(\"Town\")==\"Brooklyn\").groupBy(\"School_Year\").agg(sum(\"Busbreakdown_ID\").alias(\"Total\")).orderBy(\"School_Year\").show()\n",
    "\n",
    "#spark.sql('SELECT School_Year,COUNT(Busbreakdown_ID) FROM BUS WHERE Town = Brooklyn').show()"
   ]
  },
  {
   "cell_type": "markdown",
   "id": "0372c451",
   "metadata": {},
   "source": [
    "# Timestamp"
   ]
  },
  {
   "cell_type": "code",
   "execution_count": 102,
   "id": "4465fc25",
   "metadata": {},
   "outputs": [
    {
     "name": "stdout",
     "output_type": "stream",
     "text": [
      "+----+\n",
      "|Hour|\n",
      "+----+\n",
      "|   8|\n",
      "|   8|\n",
      "|   8|\n",
      "|   8|\n",
      "|   8|\n",
      "+----+\n",
      "only showing top 5 rows\n",
      "\n",
      "+----+\n",
      "|Hour|\n",
      "+----+\n",
      "|   8|\n",
      "|   8|\n",
      "|   8|\n",
      "|   8|\n",
      "|   8|\n",
      "|   7|\n",
      "|   8|\n",
      "|   8|\n",
      "|   7|\n",
      "|   8|\n",
      "|   8|\n",
      "|   8|\n",
      "|   8|\n",
      "|   8|\n",
      "|   8|\n",
      "|   8|\n",
      "|   8|\n",
      "|   6|\n",
      "|   8|\n",
      "|   8|\n",
      "+----+\n",
      "only showing top 20 rows\n",
      "\n"
     ]
    }
   ],
   "source": [
    "bus.select(hour(\"Occurred_On\").alias(\"Hour\")).show(5)\n",
    "#minute,second,year,quarter,current_date,date_format,next_day,last_day,window\n",
    "\n",
    "spark.sql('SELECT HOUR(Occurred_On) AS Hour FROM BUS').show()\n",
    "#spark.sql('SELECT YEAR(Occurred_On) AS Year FROM BUS').show()\n",
    "\n",
    "#Convert String to timestamp\n",
    "#df.withColumn(\"timestamp\",to_timestamp(\"input_timestamp\")).show(truncate=False)"
   ]
  },
  {
   "cell_type": "markdown",
   "id": "55eff1ae",
   "metadata": {},
   "source": [
    "# sort min max sum agg count"
   ]
  },
  {
   "cell_type": "code",
   "execution_count": 82,
   "id": "f903de6f",
   "metadata": {},
   "outputs": [
    {
     "name": "stdout",
     "output_type": "stream",
     "text": [
      "+-------+\n",
      "|    Max|\n",
      "+-------+\n",
      "|1215511|\n",
      "+-------+\n",
      "\n"
     ]
    }
   ],
   "source": [
    "#sort min max sum agg count\n",
    "#bus.select(\"Busbreakdown_ID\").sort(\"Busbreakdown_ID\").show()\n",
    "#bus.agg({'Busbreakdown_ID' : 'max'}).show()\n",
    "#bus.select(max('Busbreakdown_ID')).show()\n",
    "#bus.select(sum('Busbreakdown_ID')).show()\n",
    "#bus.select(count('Busbreakdown_ID')).show()\n",
    "#bus.agg({'Busbreakdown_ID' : 'count'}).show()\n",
    "\n",
    "#spark.sql('SELECT MAX(Busbreakdown_ID) AS Max FROM BUS').show()\n",
    "#spark.sql('SELECT MIN(Busbreakdown_ID) AS Min FROM BUS').show()"
   ]
  },
  {
   "cell_type": "markdown",
   "id": "91e641b7",
   "metadata": {},
   "source": [
    "# mean variance standard deviation"
   ]
  },
  {
   "cell_type": "code",
   "execution_count": 91,
   "id": "009c9c50",
   "metadata": {},
   "outputs": [
    {
     "name": "stdout",
     "output_type": "stream",
     "text": [
      "+-----------+---------------+---------------+\n",
      "|School_Year|           Town|Busbreakdown_ID|\n",
      "+-----------+---------------+---------------+\n",
      "|       2015|     New Jersey|        1227538|\n",
      "|       2015|      Manhattan|        1227539|\n",
      "|       2015|          Bronx|        1227540|\n",
      "|       2015|      Manhattan|        1227541|\n",
      "|       2015|      Manhattan|        1227542|\n",
      "|       2015|    Westchester|        1227543|\n",
      "|       2015|    Westchester|        1227544|\n",
      "|       2015|      Manhattan|        1227545|\n",
      "|       2015|      Manhattan|        1227546|\n",
      "|       2015|      Manhattan|        1227547|\n",
      "|       2015|      Manhattan|        1227551|\n",
      "|       2015|          Bronx|        1227553|\n",
      "|       2015|       Brooklyn|        1227554|\n",
      "|       2015|Rockland County|        1227555|\n",
      "|       2015|  Nassau County|        1227556|\n",
      "|       2015|    Westchester|        1227557|\n",
      "|       2015|           null|        1227558|\n",
      "|       2015|           null|        1227560|\n",
      "|       2015|          Bronx|        1227561|\n",
      "|       2015|          Bronx|        1227564|\n",
      "+-----------+---------------+---------------+\n",
      "only showing top 20 rows\n",
      "\n",
      "+-----------+---------------+---------------+\n",
      "|School_Year|           Town|Busbreakdown_ID|\n",
      "+-----------+---------------+---------------+\n",
      "|       2015|     New Jersey|        1227538|\n",
      "|       2015|      Manhattan|        1227539|\n",
      "|       2015|          Bronx|        1227540|\n",
      "|       2015|      Manhattan|        1227541|\n",
      "|       2015|      Manhattan|        1227542|\n",
      "|       2015|    Westchester|        1227543|\n",
      "|       2015|    Westchester|        1227544|\n",
      "|       2015|      Manhattan|        1227545|\n",
      "|       2015|      Manhattan|        1227546|\n",
      "|       2015|      Manhattan|        1227547|\n",
      "|       2015|      Manhattan|        1227551|\n",
      "|       2015|          Bronx|        1227553|\n",
      "|       2015|       Brooklyn|        1227554|\n",
      "|       2015|Rockland County|        1227555|\n",
      "|       2015|  Nassau County|        1227556|\n",
      "|       2015|    Westchester|        1227557|\n",
      "|       2015|           null|        1227558|\n",
      "|       2015|           null|        1227560|\n",
      "|       2015|          Bronx|        1227561|\n",
      "|       2015|          Bronx|        1227564|\n",
      "+-----------+---------------+---------------+\n",
      "only showing top 20 rows\n",
      "\n"
     ]
    }
   ],
   "source": [
    "#mean variance standard deviation\n",
    "#bus.agg({'Busbreakdown_ID' : 'mean'}).show()\n",
    "#bus.select(mean('Busbreakdown_ID')).show()\n",
    "#spark.sql('SELECT AVG(Busbreakdown_ID) AS Mean FROM BUS').show()\n",
    "#spark.sql('SELECT MEAN(Busbreakdown_ID) AS Mean FROM BUS').show()\n",
    "\n",
    "\n",
    "#bus.agg({'Busbreakdown_ID' : 'stddev'}).show() #stddev_pop\n",
    "#bus.select(stddev('Busbreakdown_ID')).show()\n",
    "#spark.sql('SELECT STDDEV(Busbreakdown_ID) AS stddev FROM BUS').show()\n",
    "\n",
    "#bus.select(variance('Busbreakdown_ID')).show()\n",
    "#spark.sql('SELECT VARIANCE(Busbreakdown_ID) AS Var FROM BUS').show()\n",
    "#var_pop\n",
    "\n",
    "#sum\n",
    "\n",
    "#sort\n",
    "bus.select(\"School_Year\",\"Town\",\"Busbreakdown_ID\").sort(\"School_Year\").show()\n",
    "\n",
    "spark.sql('SELECT School_Year,Town,Busbreakdown_ID FROM BUS SORT BY School_Year ASC').show()"
   ]
  },
  {
   "cell_type": "code",
   "execution_count": 28,
   "id": "a817f194",
   "metadata": {},
   "outputs": [
    {
     "name": "stdout",
     "output_type": "stream",
     "text": [
      "+-----------+---------+---+----+\n",
      "|School_Year|Breakdown|Run|Town|\n",
      "+-----------+---------+---+----+\n",
      "|       2015|       21| 21|  19|\n",
      "|       2016|       16| 16|  16|\n",
      "|       2017|       16| 16|  14|\n",
      "|       2018|       20| 20|  19|\n",
      "|       2019|       16| 16|  14|\n",
      "|       2020|       12| 12|  12|\n",
      "+-----------+---------+---+----+\n",
      "\n"
     ]
    }
   ],
   "source": [
    "#aggreagte multiple groupby orderby columns\n",
    "bus.groupBy(\"School_Year\").agg(count(\"Busbreakdown_ID\").alias(\"Breakdown\"), count(\"Run_Type\").alias(\"Run\"), count(\"Town\").alias(\"Town\")).orderBy(\"School_Year\").show()"
   ]
  },
  {
   "cell_type": "markdown",
   "id": "1aaa396d",
   "metadata": {},
   "source": [
    "# function to return dataframe"
   ]
  },
  {
   "cell_type": "code",
   "execution_count": 53,
   "id": "cebfb461",
   "metadata": {},
   "outputs": [],
   "source": [
    "#function to return dataframe\n",
    "def calculate_mean(dataframe):\n",
    "    new = dataframe.select([mean(i) for i in dataframe.columns])\n",
    "    return new.show()\n",
    "\n",
    "def calculate_variance(dataframe):\n",
    "    new = dataframe.select([variance(i) for i in dataframe.columns])\n",
    "    return new.show()\n",
    "\n",
    "def calculate_stddev(dataframe):\n",
    "    new = dataframe.select([stddev(i).alias(i) for i in dataframe.columns])\n",
    "    return new.show()"
   ]
  },
  {
   "cell_type": "code",
   "execution_count": 54,
   "id": "46752e7a",
   "metadata": {},
   "outputs": [],
   "source": [
    "df = bus.select(\"School_Year\",\"Busbreakdown_ID\",\"Run_Type\")"
   ]
  },
  {
   "cell_type": "code",
   "execution_count": 57,
   "id": "43b711a2",
   "metadata": {},
   "outputs": [
    {
     "name": "stdout",
     "output_type": "stream",
     "text": [
      "+------------------+--------------------+-------------+\n",
      "|  avg(School_Year)|avg(Busbreakdown_ID)|avg(Run_Type)|\n",
      "+------------------+--------------------+-------------+\n",
      "|2017.2970297029703|  1236901.5346534653|         null|\n",
      "+------------------+--------------------+-------------+\n",
      "\n",
      "+---------------------+-------------------------+------------------+\n",
      "|var_samp(School_Year)|var_samp(Busbreakdown_ID)|var_samp(Run_Type)|\n",
      "+---------------------+-------------------------+------------------+\n",
      "|    2.830891089109823|      1.589206950211282E9|              null|\n",
      "+---------------------+-------------------------+------------------+\n",
      "\n",
      "+-----------------+-----------------+--------+\n",
      "|      School_Year|  Busbreakdown_ID|Run_Type|\n",
      "+-----------------+-----------------+--------+\n",
      "|1.682525212027987|39864.85858762429|    null|\n",
      "+-----------------+-----------------+--------+\n",
      "\n"
     ]
    }
   ],
   "source": [
    "calculate_mean(df)\n",
    "calculate_variance(df)\n",
    "calculate_stddev(df)"
   ]
  },
  {
   "cell_type": "code",
   "execution_count": 67,
   "id": "ea7034cb",
   "metadata": {},
   "outputs": [
    {
     "name": "stdout",
     "output_type": "stream",
     "text": [
      "+--------+\n",
      "|    Mean|\n",
      "+--------+\n",
      "|614776.5|\n",
      "|614777.0|\n",
      "|614777.5|\n",
      "|614778.0|\n",
      "|614778.5|\n",
      "|614779.0|\n",
      "|614779.5|\n",
      "|614780.0|\n",
      "|614780.5|\n",
      "|614781.0|\n",
      "|614783.0|\n",
      "|614784.0|\n",
      "|614784.5|\n",
      "|614785.0|\n",
      "|614785.5|\n",
      "|614786.0|\n",
      "|614786.5|\n",
      "|614787.5|\n",
      "|614788.0|\n",
      "|614789.5|\n",
      "+--------+\n",
      "only showing top 20 rows\n",
      "\n"
     ]
    }
   ],
   "source": [
    "#Calculate average by row\n",
    "bus.select(((col(\"School_Year\") + col(\"Busbreakdown_ID\"))/2).alias(\"Mean\")).orderBy(\"School_Year\").show()"
   ]
  },
  {
   "cell_type": "markdown",
   "id": "55eaeed2",
   "metadata": {},
   "source": [
    "# Practice"
   ]
  },
  {
   "cell_type": "code",
   "execution_count": null,
   "id": "3e8157c8",
   "metadata": {},
   "outputs": [],
   "source": []
  }
 ],
 "metadata": {
  "kernelspec": {
   "display_name": "Python 3",
   "language": "python",
   "name": "python3"
  },
  "language_info": {
   "codemirror_mode": {
    "name": "ipython",
    "version": 3
   },
   "file_extension": ".py",
   "mimetype": "text/x-python",
   "name": "python",
   "nbconvert_exporter": "python",
   "pygments_lexer": "ipython3",
   "version": "3.8.8"
  }
 },
 "nbformat": 4,
 "nbformat_minor": 5
}
