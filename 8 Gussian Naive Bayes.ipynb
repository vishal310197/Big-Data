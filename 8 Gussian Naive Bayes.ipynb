{
 "cells": [
  {
   "cell_type": "code",
   "execution_count": 1,
   "metadata": {},
   "outputs": [],
   "source": [
    "import pandas as pd\n",
    "import numpy as np\n",
    "import findspark\n",
    "findspark.init('C:\\spark\\spark-3.1.2-bin-hadoop3.2')\n",
    "import pyspark\n",
    "\n",
    "from pyspark.sql import SparkSession\n",
    "from pyspark.context import SparkContext\n",
    "from pyspark import SparkConf\n",
    "from pyspark.sql.functions import *\n",
    "sc = SparkContext.getOrCreate()\n",
    "spark = SparkSession(sc)"
   ]
  },
  {
   "cell_type": "code",
   "execution_count": 3,
   "metadata": {},
   "outputs": [
    {
     "name": "stdout",
     "output_type": "stream",
     "text": [
      "+---+------+---------+\n",
      "|Age|Salary|Purchased|\n",
      "+---+------+---------+\n",
      "| 59| 88000|        1|\n",
      "| 35| 61000|        0|\n",
      "| 37| 70000|        1|\n",
      "| 52| 21000|        1|\n",
      "| 48|141000|        0|\n",
      "+---+------+---------+\n",
      "only showing top 5 rows\n",
      "\n"
     ]
    }
   ],
   "source": [
    "#Gaussian Naive Bayes\n",
    "\n",
    "salary = spark.read.option(\"inferschema\",\"true\").option(\"header\",\"true\").csv(\"nv.csv\")\n",
    "salary.show(5)"
   ]
  },
  {
   "cell_type": "code",
   "execution_count": 4,
   "metadata": {},
   "outputs": [
    {
     "name": "stdout",
     "output_type": "stream",
     "text": [
      "root\n",
      " |-- Age: integer (nullable = true)\n",
      " |-- Salary: integer (nullable = true)\n",
      " |-- Purchased: integer (nullable = true)\n",
      "\n"
     ]
    }
   ],
   "source": [
    "salary.printSchema()"
   ]
  },
  {
   "cell_type": "code",
   "execution_count": 5,
   "metadata": {},
   "outputs": [
    {
     "name": "stdout",
     "output_type": "stream",
     "text": [
      "+---------+-----------------+\n",
      "|Purchased|      avg(Salary)|\n",
      "+---------+-----------------+\n",
      "|        1|          82300.0|\n",
      "|        0|77142.85714285714|\n",
      "+---------+-----------------+\n",
      "\n"
     ]
    }
   ],
   "source": [
    "means=salary.groupBy(\"Purchased\").mean(\"Salary\")\n",
    "means.show()"
   ]
  },
  {
   "cell_type": "code",
   "execution_count": 6,
   "metadata": {},
   "outputs": [
    {
     "name": "stdout",
     "output_type": "stream",
     "text": [
      "+---------+-----------------+\n",
      "|Purchased|         avg(Age)|\n",
      "+---------+-----------------+\n",
      "|        1|             45.5|\n",
      "|        0|38.42857142857143|\n",
      "+---------+-----------------+\n",
      "\n"
     ]
    }
   ],
   "source": [
    "means=salary.groupBy(\"Purchased\").mean(\"Age\")\n",
    "means.show()"
   ]
  },
  {
   "cell_type": "code",
   "execution_count": 8,
   "metadata": {},
   "outputs": [
    {
     "name": "stdout",
     "output_type": "stream",
     "text": [
      "+---------+--------------------+\n",
      "|Purchased|    var_samp(Salary)|\n",
      "+---------+--------------------+\n",
      "|        1|1.3173444444444444E9|\n",
      "|        0| 8.628095238095237E8|\n",
      "+---------+--------------------+\n",
      "\n"
     ]
    }
   ],
   "source": [
    "variances=salary.groupBy(\"Purchased\").agg(variance(\"Salary\"))\n",
    "variances.show()"
   ]
  },
  {
   "cell_type": "code",
   "execution_count": 9,
   "metadata": {},
   "outputs": [
    {
     "name": "stdout",
     "output_type": "stream",
     "text": [
      "+---------+------------------+\n",
      "|Purchased|     var_samp(Age)|\n",
      "+---------+------------------+\n",
      "|        1| 67.16666666666667|\n",
      "|        0|21.952380952380953|\n",
      "+---------+------------------+\n",
      "\n"
     ]
    }
   ],
   "source": [
    "variances=salary.groupBy(\"Purchased\").agg(variance(\"Age\"))\n",
    "variances.show()"
   ]
  },
  {
   "cell_type": "code",
   "execution_count": 11,
   "metadata": {},
   "outputs": [
    {
     "name": "stdout",
     "output_type": "stream",
     "text": [
      "+---+------+---------+\n",
      "|Age|Salary|Purchased|\n",
      "+---+------+---------+\n",
      "| 59| 88000|        1|\n",
      "| 37| 70000|        1|\n",
      "| 52| 21000|        1|\n",
      "| 37| 93000|        1|\n",
      "| 48|138000|        1|\n",
      "| 37| 78000|        1|\n",
      "| 39|134000|        1|\n",
      "| 49| 89000|        1|\n",
      "| 55| 39000|        1|\n",
      "| 42| 73000|        1|\n",
      "+---+------+---------+\n",
      "\n",
      "+---+------+---------+\n",
      "|Age|Salary|Purchased|\n",
      "+---+------+---------+\n",
      "| 35| 61000|        0|\n",
      "| 48|141000|        0|\n",
      "| 37| 62000|        0|\n",
      "| 41| 79000|        0|\n",
      "| 37| 77000|        0|\n",
      "| 35| 57000|        0|\n",
      "| 36| 63000|        0|\n",
      "+---+------+---------+\n",
      "\n"
     ]
    }
   ],
   "source": [
    "salary_1=salary.where(col(\"Purchased\")==1)\n",
    "salary_0=salary.where(col(\"Purchased\")==0)\n",
    "\n",
    "salary_1.show()\n",
    "salary_0.show()"
   ]
  },
  {
   "cell_type": "code",
   "execution_count": 12,
   "metadata": {},
   "outputs": [
    {
     "name": "stdout",
     "output_type": "stream",
     "text": [
      "17\n"
     ]
    }
   ],
   "source": [
    "n=salary.count()\n",
    "print(n)"
   ]
  },
  {
   "cell_type": "code",
   "execution_count": 13,
   "metadata": {},
   "outputs": [
    {
     "name": "stdout",
     "output_type": "stream",
     "text": [
      "10 7\n"
     ]
    }
   ],
   "source": [
    "n_1=salary_1.count()\n",
    "n_0=salary_0.count()\n",
    "print(n_1,n_0)\n"
   ]
  },
  {
   "cell_type": "code",
   "execution_count": 14,
   "metadata": {},
   "outputs": [
    {
     "name": "stdout",
     "output_type": "stream",
     "text": [
      "0.5882352941176471 0.4117647058823529\n"
     ]
    }
   ],
   "source": [
    "p_1=n_1/n\n",
    "p_0=n_0/n\n",
    "print(p_1,p_0)"
   ]
  },
  {
   "cell_type": "markdown",
   "metadata": {},
   "source": [
    "# using collect to convert expanded dataframe to single "
   ]
  },
  {
   "cell_type": "code",
   "execution_count": 15,
   "metadata": {},
   "outputs": [
    {
     "data": {
      "text/plain": [
       "[Row(Purchased=1, var_samp(Salary)=1317344444.4444444),\n",
       " Row(Purchased=0, var_samp(Salary)=862809523.8095237)]"
      ]
     },
     "execution_count": 15,
     "metadata": {},
     "output_type": "execute_result"
    }
   ],
   "source": [
    "salary.groupBy(\"Purchased\").agg(variance(\"Salary\")).collect()"
   ]
  },
  {
   "cell_type": "code",
   "execution_count": 16,
   "metadata": {},
   "outputs": [
    {
     "name": "stdout",
     "output_type": "stream",
     "text": [
      "82300.0\n",
      "77142.85714285714\n"
     ]
    }
   ],
   "source": [
    "mean_0=salary.groupBy(\"Purchased\").mean(\"Salary\").collect()[0][1]\n",
    "mean_1=salary.groupBy(\"Purchased\").mean(\"Salary\").collect()[1][1]\n",
    "print(mean_0)\n",
    "print(mean_1)\n",
    "\n"
   ]
  },
  {
   "cell_type": "code",
   "execution_count": 22,
   "metadata": {},
   "outputs": [
    {
     "name": "stdout",
     "output_type": "stream",
     "text": [
      "45.5\n",
      "38.42857142857143\n"
     ]
    }
   ],
   "source": [
    "mean_0a=salary.groupBy(\"Purchased\").mean(\"Age\").collect()[0][1]\n",
    "mean_1a=salary.groupBy(\"Purchased\").mean(\"Age\").collect()[1][1]\n",
    "print(mean_0a)\n",
    "print(mean_1a)\n"
   ]
  },
  {
   "cell_type": "code",
   "execution_count": 27,
   "metadata": {},
   "outputs": [
    {
     "name": "stdout",
     "output_type": "stream",
     "text": [
      "36295.239969511764\n",
      "29373.61952176687\n"
     ]
    }
   ],
   "source": [
    "var_0=salary.groupBy(\"Purchased\").agg(stddev(\"Salary\")).collect()[0][1]\n",
    "var_1=salary.groupBy(\"Purchased\").agg(stddev(\"Salary\")).collect()[1][1]\n",
    "print(var_0)\n",
    "print(var_1)\n"
   ]
  },
  {
   "cell_type": "code",
   "execution_count": 28,
   "metadata": {},
   "outputs": [
    {
     "name": "stdout",
     "output_type": "stream",
     "text": [
      "8.195527235429498\n",
      "4.68533680244878\n"
     ]
    }
   ],
   "source": [
    "var_0a=salary.groupBy(\"Purchased\").agg(stddev(\"Age\")).collect()[0][1]\n",
    "var_1a=salary.groupBy(\"Purchased\").agg(stddev(\"Age\")).collect()[1][1]\n",
    "print(var_0a)\n",
    "print(var_1a)"
   ]
  },
  {
   "cell_type": "code",
   "execution_count": null,
   "metadata": {},
   "outputs": [],
   "source": [
    "#p(1|38,71000) = p(1) * p(38|1) * p(71000|1)"
   ]
  },
  {
   "cell_type": "code",
   "execution_count": 34,
   "metadata": {},
   "outputs": [
    {
     "data": {
      "text/plain": [
       "0.18072869105321568"
      ]
     },
     "execution_count": 34,
     "metadata": {},
     "output_type": "execute_result"
    }
   ],
   "source": [
    "import math\n",
    "p_38_1=((1/math.sqrt(2*math.pi*var_1a))*math.exp(-0.5*((38-mean_1a)**2)/var_1a))\n",
    "p_38_1"
   ]
  },
  {
   "cell_type": "code",
   "execution_count": 35,
   "metadata": {},
   "outputs": [
    {
     "data": {
      "text/plain": [
       "0.0"
      ]
     },
     "execution_count": 35,
     "metadata": {},
     "output_type": "execute_result"
    }
   ],
   "source": [
    "p_71000_1=((1/math.sqrt(2*math.pi*var_1a))*math.exp(-0.5*((71000-mean_1a)**2)/var_1a))\n",
    "p_71000_1"
   ]
  },
  {
   "cell_type": "code",
   "execution_count": 36,
   "metadata": {},
   "outputs": [
    {
     "data": {
      "text/plain": [
       "0.0"
      ]
     },
     "execution_count": 36,
     "metadata": {},
     "output_type": "execute_result"
    }
   ],
   "source": [
    "p_1_38_71000 = p_1 * p_38_1 * p_71000_1\n",
    "p_1_38_71000"
   ]
  },
  {
   "cell_type": "code",
   "execution_count": 37,
   "metadata": {},
   "outputs": [
    {
     "data": {
      "text/plain": [
       "0.0045125915875449014"
      ]
     },
     "execution_count": 37,
     "metadata": {},
     "output_type": "execute_result"
    }
   ],
   "source": [
    "((1/math.sqrt(2*math.pi*8.2))*math.exp(-0.5*((38-45.5)**2)/8.2))"
   ]
  },
  {
   "cell_type": "code",
   "execution_count": 40,
   "metadata": {},
   "outputs": [
    {
     "data": {
      "text/plain": [
       "0.0"
      ]
     },
     "execution_count": 40,
     "metadata": {},
     "output_type": "execute_result"
    }
   ],
   "source": [
    "((1/math.sqrt(2*math.pi*36295.24))*math.exp(-0.5*((71000-82300)**2)/36295.24))"
   ]
  },
  {
   "cell_type": "code",
   "execution_count": null,
   "metadata": {},
   "outputs": [],
   "source": []
  }
 ],
 "metadata": {
  "kernelspec": {
   "display_name": "Python 3",
   "language": "python",
   "name": "python3"
  },
  "language_info": {
   "codemirror_mode": {
    "name": "ipython",
    "version": 3
   },
   "file_extension": ".py",
   "mimetype": "text/x-python",
   "name": "python",
   "nbconvert_exporter": "python",
   "pygments_lexer": "ipython3",
   "version": "3.8.8"
  }
 },
 "nbformat": 4,
 "nbformat_minor": 4
}
