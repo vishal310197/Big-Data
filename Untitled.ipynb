{
 "cells": [
  {
   "cell_type": "code",
   "execution_count": 1,
   "id": "c120ce0d",
   "metadata": {},
   "outputs": [],
   "source": [
    "import pandas as pd\n",
    "import numpy as np\n",
    "import findspark\n",
    "findspark.init('C:\\spark\\spark-3.1.2-bin-hadoop3.2')\n",
    "import pyspark\n",
    "\n",
    "from pyspark.sql import SparkSession\n",
    "from pyspark.context import SparkContext\n",
    "from pyspark import SparkConf\n",
    "from pyspark.sql.functions import *\n",
    "sc = SparkContext.getOrCreate()\n",
    "spark = SparkSession(sc)"
   ]
  },
  {
   "cell_type": "code",
   "execution_count": 2,
   "id": "42b00677",
   "metadata": {},
   "outputs": [
    {
     "name": "stdout",
     "output_type": "stream",
     "text": [
      "+------------+---------+-----------+----------+-------------+\n",
      "|FlightNumber|    Start|Destination|      Date|FlightsPerDay|\n",
      "+------------+---------+-----------+----------+-------------+\n",
      "|       LH913|Frankfrut|     London|2019-03-05|            3|\n",
      "|       LH914|Frankfrut|     London|2019-03-06|            1|\n",
      "|       LH915|Frankfrut|     London|2019-03-07|         null|\n",
      "|       LH916|Frankfrut|     London|2019-03-08|            2|\n",
      "|       LH917|Frankfrut|     London|      null|            3|\n",
      "+------------+---------+-----------+----------+-------------+\n",
      "\n"
     ]
    }
   ],
   "source": [
    "flightex = spark.read.option(\"inferschema\",\"true\").option(\"header\",\"true\").csv(\"flightex.csv\")\n",
    "flightex.show()"
   ]
  },
  {
   "cell_type": "code",
   "execution_count": 22,
   "id": "59522073",
   "metadata": {},
   "outputs": [],
   "source": [
    "flightex.fillna(value=1, subset=['Date']).show()"
   ]
  },
  {
   "cell_type": "code",
   "execution_count": 25,
   "id": "c9239d3f",
   "metadata": {},
   "outputs": [],
   "source": [
    "df = pd.read_csv('flightex.csv')"
   ]
  },
  {
   "cell_type": "code",
   "execution_count": 28,
   "id": "7012dcad",
   "metadata": {},
   "outputs": [],
   "source": [
    "d = df.dropna()"
   ]
  },
  {
   "cell_type": "code",
   "execution_count": 29,
   "id": "a00133f7",
   "metadata": {},
   "outputs": [
    {
     "data": {
      "text/html": [
       "<div>\n",
       "<style scoped>\n",
       "    .dataframe tbody tr th:only-of-type {\n",
       "        vertical-align: middle;\n",
       "    }\n",
       "\n",
       "    .dataframe tbody tr th {\n",
       "        vertical-align: top;\n",
       "    }\n",
       "\n",
       "    .dataframe thead th {\n",
       "        text-align: right;\n",
       "    }\n",
       "</style>\n",
       "<table border=\"1\" class=\"dataframe\">\n",
       "  <thead>\n",
       "    <tr style=\"text-align: right;\">\n",
       "      <th></th>\n",
       "      <th>FlightNumber</th>\n",
       "      <th>Start</th>\n",
       "      <th>Destination</th>\n",
       "      <th>Date</th>\n",
       "      <th>FlightsPerDay</th>\n",
       "    </tr>\n",
       "  </thead>\n",
       "  <tbody>\n",
       "    <tr>\n",
       "      <th>0</th>\n",
       "      <td>LH913</td>\n",
       "      <td>Frankfrut</td>\n",
       "      <td>London</td>\n",
       "      <td>2019-03-05</td>\n",
       "      <td>3.0</td>\n",
       "    </tr>\n",
       "    <tr>\n",
       "      <th>1</th>\n",
       "      <td>LH914</td>\n",
       "      <td>Frankfrut</td>\n",
       "      <td>London</td>\n",
       "      <td>2019-03-06</td>\n",
       "      <td>1.0</td>\n",
       "    </tr>\n",
       "    <tr>\n",
       "      <th>3</th>\n",
       "      <td>LH916</td>\n",
       "      <td>Frankfrut</td>\n",
       "      <td>London</td>\n",
       "      <td>2019-03-08</td>\n",
       "      <td>2.0</td>\n",
       "    </tr>\n",
       "  </tbody>\n",
       "</table>\n",
       "</div>"
      ],
      "text/plain": [
       "  FlightNumber      Start Destination        Date  FlightsPerDay\n",
       "0        LH913  Frankfrut      London  2019-03-05            3.0\n",
       "1        LH914  Frankfrut      London  2019-03-06            1.0\n",
       "3        LH916  Frankfrut      London  2019-03-08            2.0"
      ]
     },
     "execution_count": 29,
     "metadata": {},
     "output_type": "execute_result"
    }
   ],
   "source": [
    "d"
   ]
  },
  {
   "cell_type": "code",
   "execution_count": 30,
   "id": "45eaa48c",
   "metadata": {},
   "outputs": [
    {
     "name": "stdout",
     "output_type": "stream",
     "text": [
      "+------------+---------+-----------+----------+-------------+\n",
      "|FlightNumber|    Start|Destination|      Date|FlightsPerDay|\n",
      "+------------+---------+-----------+----------+-------------+\n",
      "|       LH913|Frankfrut|     London|2019-03-05|            3|\n",
      "|       LH914|Frankfrut|     London|2019-03-06|            1|\n",
      "|       LH915|Frankfrut|     London|2019-03-07|         null|\n",
      "|       LH916|Frankfrut|     London|2019-03-08|            2|\n",
      "|       LH917|Frankfrut|     London|      null|            3|\n",
      "+------------+---------+-----------+----------+-------------+\n",
      "\n"
     ]
    }
   ],
   "source": [
    "flightex.dropna().show()"
   ]
  },
  {
   "cell_type": "code",
   "execution_count": null,
   "id": "ccfdb2bb",
   "metadata": {},
   "outputs": [],
   "source": []
  }
 ],
 "metadata": {
  "kernelspec": {
   "display_name": "Python 3",
   "language": "python",
   "name": "python3"
  },
  "language_info": {
   "codemirror_mode": {
    "name": "ipython",
    "version": 3
   },
   "file_extension": ".py",
   "mimetype": "text/x-python",
   "name": "python",
   "nbconvert_exporter": "python",
   "pygments_lexer": "ipython3",
   "version": "3.8.8"
  }
 },
 "nbformat": 4,
 "nbformat_minor": 5
}
